{
 "cells": [
  {
   "cell_type": "code",
   "execution_count": 1,
   "metadata": {},
   "outputs": [],
   "source": [
    "import numpy as np\n",
    "import pandas as pd\n",
    "import matplotlib.pyplot as plt"
   ]
  },
  {
   "cell_type": "code",
   "execution_count": 2,
   "metadata": {},
   "outputs": [],
   "source": [
    "df1 = pd.read_csv('summary/summary_alpha_1.csv',header=0)"
   ]
  },
  {
   "cell_type": "code",
   "execution_count": 3,
   "metadata": {},
   "outputs": [
    {
     "data": {
      "text/html": [
       "<div>\n",
       "<style scoped>\n",
       "    .dataframe tbody tr th:only-of-type {\n",
       "        vertical-align: middle;\n",
       "    }\n",
       "\n",
       "    .dataframe tbody tr th {\n",
       "        vertical-align: top;\n",
       "    }\n",
       "\n",
       "    .dataframe thead th {\n",
       "        text-align: right;\n",
       "    }\n",
       "</style>\n",
       "<table border=\"1\" class=\"dataframe\">\n",
       "  <thead>\n",
       "    <tr style=\"text-align: right;\">\n",
       "      <th></th>\n",
       "      <th>Unnamed: 0</th>\n",
       "      <th>collection</th>\n",
       "      <th>mdm</th>\n",
       "      <th>rum</th>\n",
       "    </tr>\n",
       "  </thead>\n",
       "  <tbody>\n",
       "    <tr>\n",
       "      <th>0</th>\n",
       "      <td>0</td>\n",
       "      <td>2</td>\n",
       "      <td>0.997</td>\n",
       "      <td>1.000</td>\n",
       "    </tr>\n",
       "    <tr>\n",
       "      <th>1</th>\n",
       "      <td>1</td>\n",
       "      <td>3</td>\n",
       "      <td>0.993</td>\n",
       "      <td>1.000</td>\n",
       "    </tr>\n",
       "    <tr>\n",
       "      <th>2</th>\n",
       "      <td>2</td>\n",
       "      <td>5</td>\n",
       "      <td>0.956</td>\n",
       "      <td>0.995</td>\n",
       "    </tr>\n",
       "    <tr>\n",
       "      <th>3</th>\n",
       "      <td>3</td>\n",
       "      <td>10</td>\n",
       "      <td>0.844</td>\n",
       "      <td>0.988</td>\n",
       "    </tr>\n",
       "    <tr>\n",
       "      <th>4</th>\n",
       "      <td>4</td>\n",
       "      <td>15</td>\n",
       "      <td>0.735</td>\n",
       "      <td>0.971</td>\n",
       "    </tr>\n",
       "    <tr>\n",
       "      <th>5</th>\n",
       "      <td>5</td>\n",
       "      <td>20</td>\n",
       "      <td>0.578</td>\n",
       "      <td>0.964</td>\n",
       "    </tr>\n",
       "  </tbody>\n",
       "</table>\n",
       "</div>"
      ],
      "text/plain": [
       "   Unnamed: 0  collection    mdm    rum\n",
       "0           0           2  0.997  1.000\n",
       "1           1           3  0.993  1.000\n",
       "2           2           5  0.956  0.995\n",
       "3           3          10  0.844  0.988\n",
       "4           4          15  0.735  0.971\n",
       "5           5          20  0.578  0.964"
      ]
     },
     "execution_count": 3,
     "metadata": {},
     "output_type": "execute_result"
    }
   ],
   "source": [
    "df1"
   ]
  },
  {
   "cell_type": "code",
   "execution_count": 4,
   "metadata": {},
   "outputs": [],
   "source": [
    "df2 = pd.read_csv('summary/summary_alpha_0.75.csv',header=0)"
   ]
  },
  {
   "cell_type": "code",
   "execution_count": 5,
   "metadata": {},
   "outputs": [
    {
     "data": {
      "text/html": [
       "<div>\n",
       "<style scoped>\n",
       "    .dataframe tbody tr th:only-of-type {\n",
       "        vertical-align: middle;\n",
       "    }\n",
       "\n",
       "    .dataframe tbody tr th {\n",
       "        vertical-align: top;\n",
       "    }\n",
       "\n",
       "    .dataframe thead th {\n",
       "        text-align: right;\n",
       "    }\n",
       "</style>\n",
       "<table border=\"1\" class=\"dataframe\">\n",
       "  <thead>\n",
       "    <tr style=\"text-align: right;\">\n",
       "      <th></th>\n",
       "      <th>Unnamed: 0</th>\n",
       "      <th>collection</th>\n",
       "      <th>mdm</th>\n",
       "      <th>rum</th>\n",
       "    </tr>\n",
       "  </thead>\n",
       "  <tbody>\n",
       "    <tr>\n",
       "      <th>0</th>\n",
       "      <td>0</td>\n",
       "      <td>2</td>\n",
       "      <td>0.996</td>\n",
       "      <td>1.000</td>\n",
       "    </tr>\n",
       "    <tr>\n",
       "      <th>1</th>\n",
       "      <td>1</td>\n",
       "      <td>3</td>\n",
       "      <td>0.995</td>\n",
       "      <td>1.000</td>\n",
       "    </tr>\n",
       "    <tr>\n",
       "      <th>2</th>\n",
       "      <td>2</td>\n",
       "      <td>5</td>\n",
       "      <td>0.962</td>\n",
       "      <td>0.997</td>\n",
       "    </tr>\n",
       "    <tr>\n",
       "      <th>3</th>\n",
       "      <td>3</td>\n",
       "      <td>10</td>\n",
       "      <td>0.887</td>\n",
       "      <td>0.992</td>\n",
       "    </tr>\n",
       "    <tr>\n",
       "      <th>4</th>\n",
       "      <td>4</td>\n",
       "      <td>15</td>\n",
       "      <td>0.757</td>\n",
       "      <td>0.980</td>\n",
       "    </tr>\n",
       "    <tr>\n",
       "      <th>5</th>\n",
       "      <td>5</td>\n",
       "      <td>20</td>\n",
       "      <td>0.652</td>\n",
       "      <td>0.972</td>\n",
       "    </tr>\n",
       "  </tbody>\n",
       "</table>\n",
       "</div>"
      ],
      "text/plain": [
       "   Unnamed: 0  collection    mdm    rum\n",
       "0           0           2  0.996  1.000\n",
       "1           1           3  0.995  1.000\n",
       "2           2           5  0.962  0.997\n",
       "3           3          10  0.887  0.992\n",
       "4           4          15  0.757  0.980\n",
       "5           5          20  0.652  0.972"
      ]
     },
     "execution_count": 5,
     "metadata": {},
     "output_type": "execute_result"
    }
   ],
   "source": [
    "df2"
   ]
  },
  {
   "cell_type": "code",
   "execution_count": 6,
   "metadata": {},
   "outputs": [],
   "source": [
    "df3 = pd.read_csv('summary/summary_alpha_0.5.csv',header=0)"
   ]
  },
  {
   "cell_type": "code",
   "execution_count": 7,
   "metadata": {},
   "outputs": [
    {
     "data": {
      "text/html": [
       "<div>\n",
       "<style scoped>\n",
       "    .dataframe tbody tr th:only-of-type {\n",
       "        vertical-align: middle;\n",
       "    }\n",
       "\n",
       "    .dataframe tbody tr th {\n",
       "        vertical-align: top;\n",
       "    }\n",
       "\n",
       "    .dataframe thead th {\n",
       "        text-align: right;\n",
       "    }\n",
       "</style>\n",
       "<table border=\"1\" class=\"dataframe\">\n",
       "  <thead>\n",
       "    <tr style=\"text-align: right;\">\n",
       "      <th></th>\n",
       "      <th>Unnamed: 0</th>\n",
       "      <th>collection</th>\n",
       "      <th>mdm</th>\n",
       "      <th>rum</th>\n",
       "    </tr>\n",
       "  </thead>\n",
       "  <tbody>\n",
       "    <tr>\n",
       "      <th>0</th>\n",
       "      <td>0</td>\n",
       "      <td>2</td>\n",
       "      <td>0.995</td>\n",
       "      <td>1.000</td>\n",
       "    </tr>\n",
       "    <tr>\n",
       "      <th>1</th>\n",
       "      <td>1</td>\n",
       "      <td>3</td>\n",
       "      <td>0.993</td>\n",
       "      <td>1.000</td>\n",
       "    </tr>\n",
       "    <tr>\n",
       "      <th>2</th>\n",
       "      <td>2</td>\n",
       "      <td>5</td>\n",
       "      <td>0.974</td>\n",
       "      <td>0.999</td>\n",
       "    </tr>\n",
       "    <tr>\n",
       "      <th>3</th>\n",
       "      <td>3</td>\n",
       "      <td>10</td>\n",
       "      <td>0.902</td>\n",
       "      <td>0.999</td>\n",
       "    </tr>\n",
       "    <tr>\n",
       "      <th>4</th>\n",
       "      <td>4</td>\n",
       "      <td>15</td>\n",
       "      <td>0.812</td>\n",
       "      <td>0.982</td>\n",
       "    </tr>\n",
       "    <tr>\n",
       "      <th>5</th>\n",
       "      <td>5</td>\n",
       "      <td>20</td>\n",
       "      <td>0.705</td>\n",
       "      <td>0.980</td>\n",
       "    </tr>\n",
       "  </tbody>\n",
       "</table>\n",
       "</div>"
      ],
      "text/plain": [
       "   Unnamed: 0  collection    mdm    rum\n",
       "0           0           2  0.995  1.000\n",
       "1           1           3  0.993  1.000\n",
       "2           2           5  0.974  0.999\n",
       "3           3          10  0.902  0.999\n",
       "4           4          15  0.812  0.982\n",
       "5           5          20  0.705  0.980"
      ]
     },
     "execution_count": 7,
     "metadata": {},
     "output_type": "execute_result"
    }
   ],
   "source": [
    "df3"
   ]
  },
  {
   "cell_type": "code",
   "execution_count": 8,
   "metadata": {},
   "outputs": [],
   "source": [
    "df4 = pd.read_csv('summary/summary_alpha_0.25.csv',header=0)"
   ]
  },
  {
   "cell_type": "code",
   "execution_count": 9,
   "metadata": {},
   "outputs": [
    {
     "data": {
      "text/html": [
       "<div>\n",
       "<style scoped>\n",
       "    .dataframe tbody tr th:only-of-type {\n",
       "        vertical-align: middle;\n",
       "    }\n",
       "\n",
       "    .dataframe tbody tr th {\n",
       "        vertical-align: top;\n",
       "    }\n",
       "\n",
       "    .dataframe thead th {\n",
       "        text-align: right;\n",
       "    }\n",
       "</style>\n",
       "<table border=\"1\" class=\"dataframe\">\n",
       "  <thead>\n",
       "    <tr style=\"text-align: right;\">\n",
       "      <th></th>\n",
       "      <th>Unnamed: 0</th>\n",
       "      <th>collection</th>\n",
       "      <th>mdm</th>\n",
       "      <th>rum</th>\n",
       "    </tr>\n",
       "  </thead>\n",
       "  <tbody>\n",
       "    <tr>\n",
       "      <th>0</th>\n",
       "      <td>0</td>\n",
       "      <td>2</td>\n",
       "      <td>0.997</td>\n",
       "      <td>1.000</td>\n",
       "    </tr>\n",
       "    <tr>\n",
       "      <th>1</th>\n",
       "      <td>1</td>\n",
       "      <td>3</td>\n",
       "      <td>0.995</td>\n",
       "      <td>1.000</td>\n",
       "    </tr>\n",
       "    <tr>\n",
       "      <th>2</th>\n",
       "      <td>2</td>\n",
       "      <td>5</td>\n",
       "      <td>0.982</td>\n",
       "      <td>1.000</td>\n",
       "    </tr>\n",
       "    <tr>\n",
       "      <th>3</th>\n",
       "      <td>3</td>\n",
       "      <td>10</td>\n",
       "      <td>0.941</td>\n",
       "      <td>1.000</td>\n",
       "    </tr>\n",
       "    <tr>\n",
       "      <th>4</th>\n",
       "      <td>4</td>\n",
       "      <td>15</td>\n",
       "      <td>0.868</td>\n",
       "      <td>0.991</td>\n",
       "    </tr>\n",
       "    <tr>\n",
       "      <th>5</th>\n",
       "      <td>5</td>\n",
       "      <td>20</td>\n",
       "      <td>0.804</td>\n",
       "      <td>0.987</td>\n",
       "    </tr>\n",
       "  </tbody>\n",
       "</table>\n",
       "</div>"
      ],
      "text/plain": [
       "   Unnamed: 0  collection    mdm    rum\n",
       "0           0           2  0.997  1.000\n",
       "1           1           3  0.995  1.000\n",
       "2           2           5  0.982  1.000\n",
       "3           3          10  0.941  1.000\n",
       "4           4          15  0.868  0.991\n",
       "5           5          20  0.804  0.987"
      ]
     },
     "execution_count": 9,
     "metadata": {},
     "output_type": "execute_result"
    }
   ],
   "source": [
    "df4"
   ]
  },
  {
   "cell_type": "code",
   "execution_count": 10,
   "metadata": {},
   "outputs": [],
   "source": [
    "mdm_feas100 = np.array(df1.loc[:,['mdm']]).tolist()\n",
    "mdm_feas75 = np.array(df2.loc[:,['mdm']]).tolist()\n",
    "mdm_feas50 = np.array(df3.loc[:,['mdm']]).tolist()\n",
    "mdm_feas25 = np.array(df4.loc[:,['mdm']]).tolist()"
   ]
  },
  {
   "cell_type": "code",
   "execution_count": 11,
   "metadata": {},
   "outputs": [],
   "source": [
    "rum_feas100 = np.array(df1.loc[:,['rum']]).tolist()\n",
    "rum_feas75 = np.array(df2.loc[:,['rum']]).tolist()\n",
    "rum_feas50 = np.array(df3.loc[:,['rum']]).tolist()\n",
    "rum_feas25 = np.array(df4.loc[:,['rum']]).tolist()"
   ]
  },
  {
   "cell_type": "code",
   "execution_count": 12,
   "metadata": {},
   "outputs": [],
   "source": [
    "collection_size = np.array(df1.loc[:,['collection']]).tolist()"
   ]
  },
  {
   "cell_type": "code",
   "execution_count": 13,
   "metadata": {},
   "outputs": [],
   "source": [
    "mnl = pd.read_csv('summary/mnl/p_7_std0.01alpha_0.25.csv',usecols=['feasible percentage']) "
   ]
  },
  {
   "cell_type": "code",
   "execution_count": 14,
   "metadata": {},
   "outputs": [
    {
     "data": {
      "text/html": [
       "<div>\n",
       "<style scoped>\n",
       "    .dataframe tbody tr th:only-of-type {\n",
       "        vertical-align: middle;\n",
       "    }\n",
       "\n",
       "    .dataframe tbody tr th {\n",
       "        vertical-align: top;\n",
       "    }\n",
       "\n",
       "    .dataframe thead th {\n",
       "        text-align: right;\n",
       "    }\n",
       "</style>\n",
       "<table border=\"1\" class=\"dataframe\">\n",
       "  <thead>\n",
       "    <tr style=\"text-align: right;\">\n",
       "      <th></th>\n",
       "      <th>feasible percentage</th>\n",
       "    </tr>\n",
       "  </thead>\n",
       "  <tbody>\n",
       "    <tr>\n",
       "      <th>0</th>\n",
       "      <td>0.854</td>\n",
       "    </tr>\n",
       "    <tr>\n",
       "      <th>1</th>\n",
       "      <td>0.627</td>\n",
       "    </tr>\n",
       "    <tr>\n",
       "      <th>2</th>\n",
       "      <td>0.127</td>\n",
       "    </tr>\n",
       "    <tr>\n",
       "      <th>3</th>\n",
       "      <td>0.001</td>\n",
       "    </tr>\n",
       "    <tr>\n",
       "      <th>4</th>\n",
       "      <td>0.000</td>\n",
       "    </tr>\n",
       "    <tr>\n",
       "      <th>5</th>\n",
       "      <td>0.000</td>\n",
       "    </tr>\n",
       "  </tbody>\n",
       "</table>\n",
       "</div>"
      ],
      "text/plain": [
       "   feasible percentage\n",
       "0                0.854\n",
       "1                0.627\n",
       "2                0.127\n",
       "3                0.001\n",
       "4                0.000\n",
       "5                0.000"
      ]
     },
     "execution_count": 14,
     "metadata": {},
     "output_type": "execute_result"
    }
   ],
   "source": [
    "mnl"
   ]
  },
  {
   "cell_type": "code",
   "execution_count": 15,
   "metadata": {},
   "outputs": [],
   "source": [
    "mnl_feas25 = np.array(mnl).tolist()"
   ]
  },
  {
   "cell_type": "code",
   "execution_count": 46,
   "metadata": {},
   "outputs": [
    {
     "data": {
      "image/png": "[encoded data removed]",
      "text/plain": [
       "<Figure size 432x288 with 1 Axes>"
      ]
     },
     "metadata": {
      "needs_background": "light"
     },
     "output_type": "display_data"
    }
   ],
   "source": [
    "''' representation '''\n",
    "plt.plot(collection_size,mdm_feas25,'D-',label = 'm 0.25')\n",
    "plt.plot(collection_size,mdm_feas50,'v-',label = 'm 0.5')\n",
    "plt.plot(collection_size,mdm_feas75,'o-',label = 'm 0.75')\n",
    "plt.plot(collection_size,mdm_feas100,'*-',label = 'm 1')\n",
    "\n",
    "plt.plot(collection_size,rum_feas25,'D-',label = 'r 0.25')\n",
    "plt.plot(collection_size,rum_feas50,'v-',label = 'r 0.5')\n",
    "plt.plot(collection_size,rum_feas75,'o-',label = 'r 0.75')\n",
    "plt.plot(collection_size,rum_feas100,'*-',label = 'r 1')\n",
    "\n",
    "plt.plot(collection_size,mnl_feas25,'D-',label = 'mnl')\n",
    "\n",
    "x = [2,3,5,10,15,20]\n",
    "plt.xticks(x,x)\n",
    "y = [0,0.2,0.5,0.8,1]\n",
    "plt.yticks(y,y)\n",
    "plt.tick_params(labelsize=20)\n",
    "#plt.xlim(collection_size[0][0]-1,collection_size[-1][0]+1)\n",
    "plt.ylim(-0.1,1.1)\n",
    "plt.xlabel('collection size',fontsize = 20)\n",
    "plt.ylabel('representable proportion',fontsize = 18)\n",
    "\n",
    "new_collection_size = [collection_size[i][0] for i in range(len(collection_size))]\n",
    "plt.xlim(min(new_collection_size)-1, max(new_collection_size) + 10)\n",
    "\n",
    "\n",
    "# Add LaTeX text at the end of each line by accessing the last element of each list\n",
    "plt.text(collection_size[-1][0]+ 0.8, rum_feas25[-1][0] - 0.05, r'rum', fontsize=14, verticalalignment='bottom', horizontalalignment='left')\n",
    "plt.text(collection_size[-1][0]+ 0.8, mdm_feas25[-1][0] - 0.05, r'$\\alpha = 0.25$', fontsize=14, verticalalignment='bottom', horizontalalignment='left')\n",
    "plt.text(collection_size[-1][0]+ 0.8, mdm_feas50[-1][0]- 0.03, r'$\\alpha = 0.5$', fontsize=14, verticalalignment='bottom', horizontalalignment='left')\n",
    "plt.text(collection_size[-1][0]+ 0.8, mdm_feas75[-1][0]- 0.05, r'$\\alpha = 0.75$', fontsize=14, verticalalignment='bottom', horizontalalignment='left')\n",
    "plt.text(collection_size[-1][0]+ 0.8, mdm_feas100[-1][0]- 0.05, r'$\\alpha = 1$', fontsize=14, verticalalignment='bottom', horizontalalignment='left')\n",
    "plt.text(collection_size[-1][0]+ 0.8, mnl_feas25[-1][0]- 0.05, r'mnl', fontsize=14, verticalalignment='bottom', horizontalalignment='left')\n",
    "\n",
    "plt.text(collection_size[-1][0]+ 6.3, (mdm_feas50[-1][0]+mdm_feas75[-1][0])/2, r'mdm', fontsize=14, verticalalignment='bottom', horizontalalignment='left')\n",
    "\n",
    "#plt.legend(loc=2, bbox_to_anchor=(1.05,1.0),borderaxespad = 0.)\n",
    "#plt.legend(fontsize=7.8)\n",
    "#plt.title('representational power comparison ', fontsize = 12)\n",
    "plt.tight_layout()\n",
    "plt.savefig('overall/overall_representation_NEW_r1.pdf')\n",
    "plt.savefig('overall/overall_representation_NEW_r1.png')\n",
    "\n",
    "plt.show()"
   ]
  },
  {
   "cell_type": "code",
   "execution_count": 17,
   "metadata": {},
   "outputs": [],
   "source": [
    "\n",
    "time100 = pd.read_csv('summary/runtime_alpha_1.csv')\n",
    "time75 = pd.read_csv('summary/runtime_alpha_0.75.csv')\n",
    "time50 = pd.read_csv('summary/runtime_alpha_0.5.csv')\n",
    "time25 = pd.read_csv('summary/runtime_alpha_0.25.csv')"
   ]
  },
  {
   "cell_type": "code",
   "execution_count": 18,
   "metadata": {},
   "outputs": [
    {
     "data": {
      "text/html": [
       "<div>\n",
       "<style scoped>\n",
       "    .dataframe tbody tr th:only-of-type {\n",
       "        vertical-align: middle;\n",
       "    }\n",
       "\n",
       "    .dataframe tbody tr th {\n",
       "        vertical-align: top;\n",
       "    }\n",
       "\n",
       "    .dataframe thead th {\n",
       "        text-align: right;\n",
       "    }\n",
       "</style>\n",
       "<table border=\"1\" class=\"dataframe\">\n",
       "  <thead>\n",
       "    <tr style=\"text-align: right;\">\n",
       "      <th></th>\n",
       "      <th>Unnamed: 0</th>\n",
       "      <th>collection</th>\n",
       "      <th>mdm</th>\n",
       "      <th>rum</th>\n",
       "    </tr>\n",
       "  </thead>\n",
       "  <tbody>\n",
       "    <tr>\n",
       "      <th>0</th>\n",
       "      <td>0</td>\n",
       "      <td>2</td>\n",
       "      <td>-8.435778</td>\n",
       "      <td>-2.234733</td>\n",
       "    </tr>\n",
       "    <tr>\n",
       "      <th>1</th>\n",
       "      <td>1</td>\n",
       "      <td>3</td>\n",
       "      <td>-8.378697</td>\n",
       "      <td>-2.137137</td>\n",
       "    </tr>\n",
       "    <tr>\n",
       "      <th>2</th>\n",
       "      <td>2</td>\n",
       "      <td>5</td>\n",
       "      <td>-8.154711</td>\n",
       "      <td>-1.971470</td>\n",
       "    </tr>\n",
       "    <tr>\n",
       "      <th>3</th>\n",
       "      <td>3</td>\n",
       "      <td>10</td>\n",
       "      <td>-7.658236</td>\n",
       "      <td>-1.596909</td>\n",
       "    </tr>\n",
       "    <tr>\n",
       "      <th>4</th>\n",
       "      <td>4</td>\n",
       "      <td>15</td>\n",
       "      <td>-7.361693</td>\n",
       "      <td>-1.410643</td>\n",
       "    </tr>\n",
       "    <tr>\n",
       "      <th>5</th>\n",
       "      <td>5</td>\n",
       "      <td>20</td>\n",
       "      <td>-7.100941</td>\n",
       "      <td>-1.320029</td>\n",
       "    </tr>\n",
       "  </tbody>\n",
       "</table>\n",
       "</div>"
      ],
      "text/plain": [
       "   Unnamed: 0  collection       mdm       rum\n",
       "0           0           2 -8.435778 -2.234733\n",
       "1           1           3 -8.378697 -2.137137\n",
       "2           2           5 -8.154711 -1.971470\n",
       "3           3          10 -7.658236 -1.596909\n",
       "4           4          15 -7.361693 -1.410643\n",
       "5           5          20 -7.100941 -1.320029"
      ]
     },
     "execution_count": 18,
     "metadata": {},
     "output_type": "execute_result"
    }
   ],
   "source": [
    "time100"
   ]
  },
  {
   "cell_type": "code",
   "execution_count": 19,
   "metadata": {},
   "outputs": [],
   "source": [
    "mdm_run100 = np.array(time100.loc[:,['mdm']]).tolist()\n",
    "mdm_run75 = np.array(time75.loc[:,['mdm']]).tolist()\n",
    "mdm_run50 = np.array(time50.loc[:,['mdm']]).tolist()\n",
    "mdm_run25 = np.array(time25.loc[:,['mdm']]).tolist()"
   ]
  },
  {
   "cell_type": "code",
   "execution_count": 20,
   "metadata": {},
   "outputs": [],
   "source": [
    "rum_run100 = np.array(time100.loc[:,['rum']]).tolist()\n",
    "rum_run75 = np.array(time75.loc[:,['rum']]).tolist()\n",
    "rum_run50 = np.array(time50.loc[:,['rum']]).tolist()\n",
    "rum_run25 = np.array(time25.loc[:,['rum']]).tolist()"
   ]
  },
  {
   "cell_type": "code",
   "execution_count": 76,
   "metadata": {},
   "outputs": [
    {
     "data": {
      "image/png": "[encoded data removed]",
      "text/plain": [
       "<Figure size 432x288 with 1 Axes>"
      ]
     },
     "metadata": {
      "needs_background": "light"
     },
     "output_type": "display_data"
    }
   ],
   "source": [
    "''' run time '''\n",
    "''' runtime '''\n",
    "plt.plot(collection_size,mdm_run25,'D-',label = 'm 0.25')\n",
    "# plt.plot(collection_size,mdm_run50,'v-',label = 'm 0.5')\n",
    "# plt.plot(collection_size,mdm_run75,'o-',label = 'm 0.75')\n",
    "# plt.plot(collection_size,mdm_run100,'*-',label = 'm 1')\n",
    "\n",
    "plt.plot(collection_size,rum_run25,'D-',label = 'r 0.25')\n",
    "# plt.plot(collection_size,rum_run50,'v-',label = 'r 0.5')\n",
    "# plt.plot(collection_size,rum_run75,'o-',label = 'r 0.75')\n",
    "# plt.plot(collection_size,rum_run100,'*-',label = 'r 1')\n",
    "\n",
    "new_collection_size = [collection_size[i][0] for i in range(len(collection_size))]\n",
    "plt.xlim(min(new_collection_size)-1, max(new_collection_size) + 2)\n",
    "\n",
    "plt.text(collection_size[-1][0]-1.8, mdm_run25[-1][0]+1, r'mdm', fontsize=14, verticalalignment='bottom', horizontalalignment='left')\n",
    "plt.text(collection_size[-1][0]-1.8, mdm_run25[-1][0]+0.5, r'$\\alpha = 0.25$', fontsize=14, verticalalignment='bottom', horizontalalignment='left')\n",
    "\n",
    "plt.text(collection_size[-1][0]-1.8, rum_run25[-1][0]-0.8, r'rum', fontsize=14, verticalalignment='bottom', horizontalalignment='left')\n",
    "plt.text(collection_size[-1][0]-1.8, rum_run25[-1][0]-1.3, r'$\\alpha = 0.25$',fontsize=14, verticalalignment='bottom', horizontalalignment='left')\n",
    "\n",
    "x = [2,3,5,10,15,20]\n",
    "plt.xticks(x,x)\n",
    "y = [-8,-6,-3,-1]\n",
    "plt.yticks(y,y)\n",
    "plt.tick_params(labelsize=20)\n",
    "#plt.ylim(-0.1+np.min(np.array(mdm_run25)),np.max(np.array(rum_run100))+0.5)\n",
    "plt.xlabel('collection size',fontsize=20)\n",
    "plt.ylabel('log run time (sec)',fontsize=20)\n",
    "#plt.legend(loc=2, bbox_to_anchor=(1.05,1.0),borderaxespad = 0.)\n",
    "#plt.legend(fontsize=9)\n",
    "plt.tight_layout()\n",
    "#plt.title('log run time comparison',fontsize=12)\n",
    "plt.savefig('overall/overall_runtime_r1.png')\n",
    "plt.savefig('overall/overall_runtime_r1.pdf')\n",
    "plt.show()"
   ]
  }
 ],
 "metadata": {
  "interpreter": {
   "hash": "ebdf0563cd0506869acfe44a7cbfc0f9ee11e0c875e1179c386aef281c5ba524"
  },
  "kernelspec": {
   "display_name": "Python 3.8.5 64-bit ('anaconda3')",
   "language": "python",
   "name": "python3"
  },
  "language_info": {
   "codemirror_mode": {
    "name": "ipython",
    "version": 3
   },
   "file_extension": ".py",
   "mimetype": "text/x-python",
   "name": "python",
   "nbconvert_exporter": "python",
   "pygments_lexer": "ipython3",
   "version": "3.8.5"
  },
  "orig_nbformat": 4
 },
 "nbformat": 4,
 "nbformat_minor": 2
}
