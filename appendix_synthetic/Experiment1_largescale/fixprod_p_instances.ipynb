{
 "cells": [
  {
   "cell_type": "code",
   "execution_count": 36,
   "metadata": {},
   "outputs": [],
   "source": [
    "import numpy as np\n",
    "import matplotlib.pyplot as plt\n",
    "import math\n",
    "import gurobipy as gp\n",
    "from gurobipy import GRB\n",
    "from itertools import permutations\n",
    "from itertools import combinations\n",
    "import random\n",
    "from random import choice\n",
    "import time\n",
    "import copy\n",
    "import pandas as pd\n",
    "from scipy.stats import bernoulli"
   ]
  },
  {
   "cell_type": "code",
   "execution_count": 37,
   "metadata": {},
   "outputs": [],
   "source": [
    "np.random.seed(1)\n",
    "random.seed(1)"
   ]
  },
  {
   "cell_type": "code",
   "execution_count": 38,
   "metadata": {},
   "outputs": [],
   "source": [
    "def collection_distribution_mnl(n,collection,v):\n",
    "    \n",
    "    collection_distribution = np.zeros((n,len(collection)))\n",
    "\n",
    "    \n",
    "    for i in range(len(collection)):\n",
    "        curr_total_v = 0\n",
    "        for j in range(len(collection[i])): \n",
    "            curr_total_v = curr_total_v + math.exp(v[collection[i][j]])\n",
    "            #curr_total_v += v[collection[i][j]]\n",
    "        #print('the '+str(i)+\"th total v\",curr_total_v)\n",
    "        for k in range(len(collection[i])):\n",
    "            collection_distribution[collection[i][k]][i] = math.exp(v[collection[i][k]])/curr_total_v\n",
    "            #collection_distribution[collection[i][k]][i]= v[collection[i][k]]/curr_total_v\n",
    "\n",
    "    return collection_distribution"
   ]
  },
  {
   "cell_type": "code",
   "execution_count": 39,
   "metadata": {},
   "outputs": [],
   "source": [
    "def gaussian_noise(coll_distribution,std,alpha):\n",
    "    \n",
    "    idxs = np.dstack((np.nonzero(coll_distribution)[0],np.nonzero(coll_distribution)[1]))[0]\n",
    "    temp = copy.deepcopy(coll_distribution)\n",
    "    temp[temp>0]=1\n",
    "    for idx in idxs:\n",
    "        if np.random.random()>alpha:\n",
    "            temp[idx[0]][idx[1]]=0\n",
    "    noise = temp*np.random.normal(0,std,size=coll_distribution.shape)\n",
    "    p_coll_distribution = coll_distribution +noise*coll_distribution\n",
    "    ''' p_coll_distribution = coll_distribution +noise\n",
    "    p_coll_distribution[p_coll_distribution<0]=math.pow(10,-6) '''\n",
    "    p_coll_distribution = p_coll_distribution/p_coll_distribution.sum(axis=0)\n",
    "    \n",
    "    return p_coll_distribution"
   ]
  },
  {
   "cell_type": "code",
   "execution_count": 40,
   "metadata": {},
   "outputs": [
    {
     "data": {
      "text/plain": [
       "\" def mnl_feasiblity_check(data,collection,n):\\n    start_time = time.time()\\n    model = gp.Model('mnl')\\n    model.setParam('OutputFlag', 0)\\n    v = model.addVars(n,name = 'v') # positive \\n    \\n    for ass_idx in range(len(collection)):\\n        for i in collection[ass_idx]:\\n            model.addConstr(data[i][ass_idx]*sum(v[j] for j in collection[ass_idx])-v[i]==0)\\n    \\n    \\n    model.addConstrs(v[i]>=0 for i in range(n))\\n    model.setObjective(0,GRB.MAXIMIZE)\\n    model.optimize()\\n    used_time = time.time()-start_time\\n    \\n    soln = []\\n    \\n    for v in model.getVars():\\n        soln.append(v.x)\\n    \\n    \\n    if model.Status == 2: #optimal\\n        #return [1,model.Runtime]\\n        if sum(soln)>0:\\n            return [1, used_time]\\n        if sum(soln)==0:  # the value of v cannot be all zero : recall that v here is actually exp(v) in MNL so ,all v should be positive\\n            return [0, used_time]\\n    \\n    if model.Status == 3: #infeasible\\n        #return [0,model.Runtime]\\n        return [0, used_time] \""
      ]
     },
     "execution_count": 40,
     "metadata": {},
     "output_type": "execute_result"
    }
   ],
   "source": [
    "''' def mnl_feasiblity_check(data,collection,n):\n",
    "    start_time = time.time()\n",
    "    model = gp.Model('mnl')\n",
    "    model.setParam('OutputFlag', 0)\n",
    "    v = model.addVars(n,name = 'v') # positive \n",
    "    \n",
    "    for ass_idx in range(len(collection)):\n",
    "        for i in collection[ass_idx]:\n",
    "            model.addConstr(data[i][ass_idx]*sum(v[j] for j in collection[ass_idx])-v[i]==0)\n",
    "    \n",
    "    \n",
    "    model.addConstrs(v[i]>=0 for i in range(n))\n",
    "    model.setObjective(0,GRB.MAXIMIZE)\n",
    "    model.optimize()\n",
    "    used_time = time.time()-start_time\n",
    "    \n",
    "    soln = []\n",
    "    \n",
    "    for v in model.getVars():\n",
    "        soln.append(v.x)\n",
    "    \n",
    "    \n",
    "    if model.Status == 2: #optimal\n",
    "        #return [1,model.Runtime]\n",
    "        if sum(soln)>0:\n",
    "            return [1, used_time]\n",
    "        if sum(soln)==0:  # the value of v cannot be all zero : recall that v here is actually exp(v) in MNL so ,all v should be positive\n",
    "            return [0, used_time]\n",
    "    \n",
    "    if model.Status == 3: #infeasible\n",
    "        #return [0,model.Runtime]\n",
    "        return [0, used_time] '''"
   ]
  },
  {
   "cell_type": "code",
   "execution_count": 41,
   "metadata": {},
   "outputs": [],
   "source": [
    "def mnl_feasiblity_check(data,collection,n):\n",
    "    \n",
    "    actual_prod = np.unique(np.nonzero(data)[0]).tolist()\n",
    "    start_time = time.time()\n",
    "    model = gp.Model('mnl')\n",
    "    model.setParam('OutputFlag', 0)\n",
    "    v = model.addVars(n,name = 'v') # positive \n",
    "  \n",
    "    for ass_idx in range(len(collection)):\n",
    "        for i in collection[ass_idx]:\n",
    "            model.addConstr(data[i][ass_idx]*sum(v[j] for j in collection[ass_idx])-v[i]==0)\n",
    "    \n",
    "    model.addConstrs(v[i]>=0 for i in range(n))\n",
    "    model.addConstrs(v[i]<=100 for i in range(n))\n",
    "    #model.setObjective(0,GRB.MAXIMIZE)\n",
    "    model.setObjective(sum(v[i] for i in actual_prod),GRB.MAXIMIZE)\n",
    "    model.optimize()\n",
    "    used_time = time.time()-start_time\n",
    "    \n",
    "    # write the model \n",
    "    ''' print('write the model')\n",
    "    model.write(\"out.sol\")\n",
    "    model.write(\"model.lp\")  '''\n",
    "    \n",
    "    ''' if model.Status == 2: #optimal\n",
    "        soln = []\n",
    "    \n",
    "        for v in model.getVars():\n",
    "            soln.append(v.x)\n",
    "        #return [1,model.Runtime]\n",
    "        if sum(soln)>0:\n",
    "            return [1, used_time]\n",
    "        if sum(soln)==0:  # the value of v cannot be all zero : recall that v here is actually exp(v) in MNL so ,all v should be positive\n",
    "            return [0, used_time]\n",
    "    \n",
    "    if model.Status == 3: #infeasible\n",
    "        #return [0,model.Runtime]\n",
    "        return [0, used_time] '''\n",
    "    \n",
    "    if model.Status == 3: #infeasible\n",
    "    #return [0,model.Runtime]\n",
    "        return [0, used_time]\n",
    "    \n",
    "    if model.Status == 2: #optimal\n",
    "        soln = []\n",
    "    \n",
    "        for v in model.getVars():\n",
    "            soln.append(v.x)\n",
    "        #return [1,model.Runtime]\n",
    "        if sum(soln)==0:  # the value of v cannot be all zero : recall that v here is actually exp(v) in MNL so ,all v should be positive\n",
    "            return [0, used_time]\n",
    "        \n",
    "        for i in actual_prod:\n",
    "            if soln[i] == 0:\n",
    "                return[0,used_time]\n",
    "        return [1,used_time]"
   ]
  },
  {
   "cell_type": "code",
   "execution_count": 42,
   "metadata": {},
   "outputs": [],
   "source": [
    "def mdm_feasibility(data,ranking,equal):\n",
    "    n,m = data.shape\n",
    "    # for each product, find the assortments it belongs to \n",
    "    #prod_occurance = np.transpose(np.nonzero(data[0])).shape[0]  # count the number of assortments within each product , the size of assortment is fixed, all combinations of the products are taken, so the number of assortment including each product is the same\n",
    "    #ranking = np.argsort(data,axis=1)[:,-prod_occurance:] # probability increasing order # take the last 2 or 3(size) \n",
    "    ub = 100\n",
    "    \n",
    "    start_time = time.time()\n",
    "    model = gp.Model('mdm')\n",
    "    #model.setParam(gp.GRB.Param.TimeLimit, 60)\n",
    "    model.setParam('OutputFlag', 0)\n",
    "    eps = model.addVar(name='eps')\n",
    "    lam = model.addVars(m,name = 'lam')\n",
    "    \n",
    "    \n",
    "    model.addConstr(eps<=ub ) # just give an upper bound (+ve) for eps, o.w., the problem is unbounded\n",
    "    \n",
    "    #for i in range(ranking.shape[0]): # from each product \n",
    "    for i in range(len(ranking)): # from each product \n",
    "        for j in range(len(ranking[i])-1): # the ranking of assortment in product i \n",
    "            model.addConstr(lam[ranking[i][j]]- lam [ranking[i][j+1]] - eps >=0)\n",
    "    \n",
    "    for i in range(len(equal)):\n",
    "        for j in range(len(equal[i])-1):\n",
    "            model.addConstr(lam[equal[i][j]]-lam[equal[i][j+1]]==0)\n",
    "    \n",
    "    model.setObjective(eps,GRB.MAXIMIZE)\n",
    "    model.optimize()\n",
    "    used_time = time.time() - start_time\n",
    "    \n",
    "    # write the model \n",
    "    ''' print('write the model')\n",
    "    model.write(\"out.sol\")\n",
    "    model.write(\"model.lp\")  '''\n",
    "    \n",
    "    soln = []\n",
    "\n",
    "    for v in model.getVars():\n",
    "        soln.append(v.x)\n",
    "\n",
    "    if (soln[0]>0):\n",
    "        return [1, used_time]\n",
    "        #return [1,model.Runtime]\n",
    "    else:\n",
    "        return [0, used_time]\n",
    "        #return [0,model.Runtime]"
   ]
  },
  {
   "cell_type": "markdown",
   "metadata": {},
   "source": [
    "uniformly generated random assortment"
   ]
  },
  {
   "cell_type": "code",
   "execution_count": 43,
   "metadata": {},
   "outputs": [],
   "source": [
    "alpha = 0.25\n",
    "n = 1000\n",
    "collection_size = [100,200,300,400,500,600,700,800,900,1000]\n",
    "instance_size = 1000\n",
    "p = 0.005 #0.005assortment of average size 5\n",
    "std = 0.01\n",
    "all_collection = [[] for _ in range(len(collection_size))]\n",
    "\n",
    "# construct 1000 samples of random assortment size collection of first collection size\n",
    "for j in range(instance_size):\n",
    "    collection = []\n",
    "    while(len(collection)<collection_size[0]):\n",
    "        S_var = bernoulli.rvs(p,size = n)\n",
    "        if np.sum(S_var)>1:\n",
    "            S = np.nonzero(S_var)[0].tolist()\n",
    "            if S not in collection or len(collection)==0:\n",
    "                collection.append(S)\n",
    "    all_collection[0].append(collection)\n",
    "\n",
    "\n",
    "for i in range(1,len(collection_size)):\n",
    "    all_collection[i] = copy.deepcopy(all_collection[i-1])\n",
    "    for j in range(instance_size):\n",
    "        while(len(all_collection[i][j])<collection_size[i]):\n",
    "            S_var = bernoulli.rvs(p,size = n)\n",
    "            if np.sum(S_var)>1:\n",
    "                S = np.nonzero(S_var)[0].tolist()\n",
    "                #if S not in collection :\n",
    "                if S not in all_collection[i][j] :\n",
    "                    all_collection[i][j].append(S)\n",
    "\n",
    "all_instance = []\n",
    "#for collection in all_collection:\n",
    "for i in range(len(collection_size)):\n",
    "    collection_ins = []   \n",
    "    for j in range(instance_size):\n",
    "        v = np.random.normal(0,1,size=n) #standard normal\n",
    "        curr_coll_mnl = collection_distribution_mnl(n,all_collection[i][j],v)\n",
    "        #curr_coll_mnl = collection_distribution_mnl(n,collection,v)\n",
    "        collection_ins.append(gaussian_noise(curr_coll_mnl,std,alpha))\n",
    "    all_instance.append(collection_ins)\n",
    "      \n",
    "    "
   ]
  },
  {
   "cell_type": "code",
   "execution_count": 44,
   "metadata": {},
   "outputs": [
    {
     "data": {
      "text/plain": [
       "\" df = pd.DataFrame(all_instance[0][23])\\ndf.to_csv('distribution_check/coll_size'+str(collection_size[i])+'p_size'+str(n)+'notuniform.csv') \""
      ]
     },
     "execution_count": 44,
     "metadata": {},
     "output_type": "execute_result"
    }
   ],
   "source": [
    "''' df = pd.DataFrame(all_instance[0][23])\n",
    "df.to_csv('distribution_check/coll_size'+str(collection_size[i])+'p_size'+str(n)+'notuniform.csv') '''"
   ]
  },
  {
   "cell_type": "code",
   "execution_count": 45,
   "metadata": {},
   "outputs": [
    {
     "data": {
      "text/plain": [
       "\" for i in range(len(all_instance)):\\n    for j in range(instance_size):\\n        df = pd.DataFrame(all_instance[i][j])\\n        df.to_csv('distribution_check/coll_size'+str(collection_size[i])+'p_size'+str(n)+'notuniform.csv') \""
      ]
     },
     "execution_count": 45,
     "metadata": {},
     "output_type": "execute_result"
    }
   ],
   "source": [
    "''' for i in range(len(all_instance)):\n",
    "    for j in range(instance_size):\n",
    "        df = pd.DataFrame(all_instance[i][j])\n",
    "        df.to_csv('distribution_check/coll_size'+str(collection_size[i])+'p_size'+str(n)+'notuniform.csv') '''"
   ]
  },
  {
   "cell_type": "code",
   "execution_count": 46,
   "metadata": {},
   "outputs": [
    {
     "name": "stdout",
     "output_type": "stream",
     "text": [
      "fix product size with nested collection structure and random assortments\n"
     ]
    }
   ],
   "source": [
    "mdm_runtime_min = []\n",
    "mdm_runtime_max = []\n",
    "mdm_runtime_mean = []\n",
    "mdm_all_feasibility = []\n",
    "mdm_feas_mean = []\n",
    "\n",
    "mnl_runtime_min = []\n",
    "mnl_runtime_max = []\n",
    "mnl_runtime_mean = []\n",
    "mnl_all_feasibility = []\n",
    "mnl_feas_mean = []\n",
    "\n",
    "for i in range(len(all_instance)): # instance of the same collection size i \n",
    "    mnl_feas = []\n",
    "    mnl_runtime = []\n",
    "    mdm_feas = []\n",
    "    mdm_runtime = []\n",
    "    for j in range(len(all_instance[i])): # under the same collection size, there are instances of the instance size\n",
    "        \n",
    "        # feasibility check for MNL\n",
    "        mnl_result = mnl_feasiblity_check(all_instance[i][j],all_collection[i][j],n)\n",
    "        mnl_feas.append(mnl_result[0])\n",
    "        mnl_runtime.append(mnl_result[1])\n",
    "        \n",
    "        # feasibility check of MDM\n",
    "        rank = []\n",
    "        curr_instance = all_instance[i][j]  \n",
    "        raw_rank = np.argsort(curr_instance,axis=1)  \n",
    "        # the indexes of all the enties are in increasing order in each row (product)\n",
    "        # note that this argsort admits equal cases with index in increasing order\n",
    "        # eg.\n",
    "        ''' x =np.array([[1,1,0],[0,0,0],[0,0,1]]) is also feasible for the system means  '''\n",
    "        for k in range(curr_instance.shape[0]): # find all the assortments in each product\n",
    "            for l in np.nonzero(curr_instance[k]): \n",
    "                if len(l)>1: \n",
    "                    rank.append(raw_rank[k][-len(l):]) # take the ranking of the nonzero entries\n",
    "        # add the reverse order of the equal probabilities\n",
    "        #print(type(curr_instance))\n",
    "        equal = []\n",
    "        for k in range(curr_instance.shape[0]):\n",
    "            for l in np.unique(curr_instance[k]):\n",
    "                if l == 0 or l==1:\n",
    "                    continue\n",
    "                idx = np.flipud(np.argwhere(curr_instance[k] == l))\n",
    "                if len(idx)>1:\n",
    "                    print('check',idx)\n",
    "                    idx = idx.reshape(1,-1).squeeze(0)\n",
    "                    equal.append(idx)\n",
    "                    ''' print('check the corresponding k th row of the rank ',rank[k])\n",
    "                    print('check the corresponding element',idx)\n",
    "                    print('element check',np.isin(idx,rank[k])) '''\n",
    "                    print(len(idx))\n",
    "                    if (True in np.isin(idx,rank[k])):\n",
    "                        if len(rank[k])==2: #only with \n",
    "                            rank.pop(k) # only with 1 pair of equal probabilities of the row. \n",
    "                        else:\n",
    "                            for ii in idx[:-1]:\n",
    "                                rank[k] = rank[k].delete(ii) # leaving only 1 idex of the eqaul probability in the rank \n",
    "\n",
    "        \n",
    "        mdm_result = mdm_feasibility(all_instance[i][j],rank,equal)\n",
    "        mdm_feas.append(mdm_result[0])\n",
    "        mdm_runtime.append(mdm_result[1])\n",
    "        \n",
    "    mnl_test = pd.DataFrame({'feasibility':mnl_feas,'runtime':mnl_runtime})\n",
    "    mnl_test.to_csv('results/mnl/mnl_p_size'+str(n)+'csize'+str(collection_size[i])+'alpha_'+str(alpha)+'.csv')\n",
    "    mnl_all_feasibility.append(mnl_feas_mean)\n",
    "    mnl_feas_mean.append(sum(mnl_feas)/instance_size)\n",
    "    mnl_runtime = np.array(mnl_runtime)\n",
    "    mnl_runtime_min.append(np.min(mnl_runtime))\n",
    "    mnl_runtime_max.append(np.max(mnl_runtime))\n",
    "    mnl_runtime_mean.append(np.mean(mnl_runtime))    \n",
    "    \n",
    "    mdm_test = pd.DataFrame({'feasibility':mdm_feas,'runtime':mdm_runtime})\n",
    "    mdm_test.to_csv('results/mdm/mdm_p_size'+str(n)+'csize'+str(collection_size[i])+'alpha_'+str(alpha)+'.csv')\n",
    "    mdm_all_feasibility.append(mdm_feas)\n",
    "    mdm_feas_mean.append(sum(mdm_feas)/instance_size)\n",
    "    mdm_runtime = np.array(mdm_runtime)\n",
    "    mdm_runtime_min.append(np.min(mdm_runtime))\n",
    "    mdm_runtime_max.append(np.max(mdm_runtime))\n",
    "    mdm_runtime_mean.append(np.mean(mdm_runtime))\n",
    "print('fix product size with nested collection structure and random assortments')   "
   ]
  },
  {
   "cell_type": "markdown",
   "metadata": {},
   "source": [
    "run time "
   ]
  },
  {
   "cell_type": "code",
   "execution_count": 47,
   "metadata": {},
   "outputs": [
    {
     "data": {
      "image/png": "[encoded data removed]",
      "text/plain": [
       "<Figure size 432x288 with 1 Axes>"
      ]
     },
     "metadata": {
      "needs_background": "light"
     },
     "output_type": "display_data"
    }
   ],
   "source": [
    "''' runtime '''\n",
    "plt.plot(collection_size,mdm_runtime_mean,'*-',label = 'mdm mean run time')\n",
    "plt.plot(collection_size,mnl_runtime_mean,'o-',label = 'mnl mean run time')\n",
    "plt.xlim(collection_size[0]-100,collection_size[-1]+100)\n",
    "plt.ylim(-0.1,max(np.max(np.array(mdm_runtime_mean)),np.max(np.array(mnl_runtime_mean)))+0.1)\n",
    "plt.xlabel('collection size')\n",
    "plt.ylabel('run time (sec)')\n",
    "plt.legend()\n",
    "plt.title('run time comparison')\n",
    "\n",
    "''' for a, b in zip(collection_size, mdm_runtime_mean):\n",
    "    plt.text(a, b, b, ha='center', va='bottom', fontsize=10)\n",
    "    \n",
    "for c, d in zip(collection_size, mnl_runtime_mean):\n",
    "    plt.text(c, d, d, ha='center', va='bottom', fontsize=10) '''\n",
    "    \n",
    "plt.savefig('outputpic/runtime_p'+str(n)+'alpha_'+str(alpha)+'.png')\n",
    "plt.savefig('outputpic/runtime_p'+str(n)+'alpha_'+str(alpha)+'.pdf')\n",
    "plt.show()"
   ]
  },
  {
   "cell_type": "markdown",
   "metadata": {},
   "source": [
    "representational power"
   ]
  },
  {
   "cell_type": "code",
   "execution_count": 48,
   "metadata": {},
   "outputs": [
    {
     "data": {
      "image/png": "[encoded data removed]",
      "text/plain": [
       "<Figure size 432x288 with 1 Axes>"
      ]
     },
     "metadata": {
      "needs_background": "light"
     },
     "output_type": "display_data"
    }
   ],
   "source": [
    "plt.plot(collection_size,mdm_feas_mean,'*-',label = 'mdm feasibility')\n",
    "plt.plot(collection_size,mnl_feas_mean,'o-',label = 'mnl feasibility')\n",
    "plt.xlim(collection_size[0]-100,collection_size[-1]+100)\n",
    "plt.ylim(-0.1,1.1)\n",
    "plt.xlabel('collection size')\n",
    "plt.ylabel('feasible proportion')\n",
    "plt.legend()\n",
    "plt.title('representational power comparison ')\n",
    "\n",
    "''' for a, b in zip(collection_size, mdm_feas_mean):\n",
    "    plt.text(a, b, b, ha='left', va='bottom', fontsize=10,rotation=30)\n",
    "    \n",
    "for c, d in zip(collection_size, mnl_feas_mean):\n",
    "    plt.text(c, d, d, ha='right', va='top',fontsize=10) '''\n",
    "\n",
    "plt.savefig('outputpic/rep_power_p'+str(n)+'alpha_'+str(alpha)+'.png')\n",
    "plt.savefig('outputpic/rep_power_p'+str(n)+'alpha_'+str(alpha)+'.pdf')\n",
    "plt.show()"
   ]
  },
  {
   "cell_type": "code",
   "execution_count": 49,
   "metadata": {},
   "outputs": [
    {
     "name": "stdout",
     "output_type": "stream",
     "text": [
      "[0.0, 0.0, 0.0, 0.0, 0.0, 0.0, 0.0, 0.0, 0.0, 0.0]\n"
     ]
    }
   ],
   "source": [
    "print(mnl_feas_mean)\n",
    "mnl_test = pd.DataFrame({'collection':collection_size,'feasible percentage':mnl_feas_mean})\n",
    "mnl_test.to_csv('summary/mnl/mnl_p_'+str(n)+'_std'+'alpha_'+str(alpha)+'.csv') "
   ]
  },
  {
   "cell_type": "code",
   "execution_count": 50,
   "metadata": {},
   "outputs": [
    {
     "name": "stdout",
     "output_type": "stream",
     "text": [
      "[0.998, 0.974, 0.956, 0.891, 0.849, 0.76, 0.746, 0.633, 0.578, 0.495]\n"
     ]
    }
   ],
   "source": [
    "print(mdm_feas_mean)\n",
    "mdm_test = pd.DataFrame({'collection':collection_size,'feasible percentage':mdm_feas_mean})\n",
    "mdm_test.to_csv('summary/mdm/mdm_p_'+str(n)+'alpha_'+str(alpha)+'.csv') "
   ]
  },
  {
   "cell_type": "code",
   "execution_count": 51,
   "metadata": {},
   "outputs": [],
   "source": [
    "summary = pd.DataFrame({'collection size':collection_size,'mdm feasibility':mdm_feas_mean,'mnl feasiblity':mnl_feas_mean,'mdm runtime':mdm_runtime_mean,'mnl runtime':mnl_runtime_mean})\n",
    "summary.to_csv('summary/summary_mdm_mnl_alpha_'+str(alpha)+'.csv')"
   ]
  },
  {
   "cell_type": "code",
   "execution_count": 52,
   "metadata": {},
   "outputs": [
    {
     "name": "stdout",
     "output_type": "stream",
     "text": [
      "completed\n"
     ]
    }
   ],
   "source": [
    "print('completed')"
   ]
  },
  {
   "cell_type": "code",
   "execution_count": 56,
   "metadata": {},
   "outputs": [
    {
     "data": {
      "text/plain": [
       "499"
      ]
     },
     "execution_count": 56,
     "metadata": {},
     "output_type": "execute_result"
    }
   ],
   "source": [
    "prod_ind = np.nonzero(all_instance[0][0])[0].tolist()\n",
    "assm_ind = np.nonzero(all_instance[0][0])[1].tolist()\n",
    "len(prod_ind)"
   ]
  },
  {
   "cell_type": "code",
   "execution_count": 57,
   "metadata": {},
   "outputs": [
    {
     "data": {
      "text/plain": [
       "499"
      ]
     },
     "execution_count": 57,
     "metadata": {},
     "output_type": "execute_result"
    }
   ],
   "source": [
    "len(assm_ind)"
   ]
  },
  {
   "cell_type": "code",
   "execution_count": 59,
   "metadata": {},
   "outputs": [],
   "source": [
    "df = pd.DataFrame({'product':prod_ind,'assortment':assm_ind})\n",
    "df\n",
    "df.to_csv('distribution_check/feasiblity.csv')"
   ]
  },
  {
   "cell_type": "code",
   "execution_count": null,
   "metadata": {},
   "outputs": [],
   "source": [
    "''' df = pd.DataFrame(all_instance[0][23])\n",
    "df.to_csv('distribution_check/coll_size'+str(collection_size[i])+'p_size'+str(n)+'notuniform.csv') '''"
   ]
  }
 ],
 "metadata": {
  "interpreter": {
   "hash": "c4827c5e6b993685b89ba86cfbe27bde82c90f64baa1790a22f820b41af2ab7a"
  },
  "kernelspec": {
   "display_name": "Python 3.8.5 ('base')",
   "language": "python",
   "name": "python3"
  },
  "language_info": {
   "codemirror_mode": {
    "name": "ipython",
    "version": 3
   },
   "file_extension": ".py",
   "mimetype": "text/x-python",
   "name": "python",
   "nbconvert_exporter": "python",
   "pygments_lexer": "ipython3",
   "version": "3.8.5"
  },
  "orig_nbformat": 4
 },
 "nbformat": 4,
 "nbformat_minor": 2
}
