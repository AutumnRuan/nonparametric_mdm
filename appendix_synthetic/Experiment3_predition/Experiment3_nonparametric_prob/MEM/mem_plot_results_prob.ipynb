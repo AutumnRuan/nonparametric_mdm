{
 "cells": [
  {
   "cell_type": "code",
   "execution_count": 45,
   "metadata": {},
   "outputs": [],
   "source": [
    "import pandas as pd\n",
    "import numpy as np\n",
    "import matplotlib.pyplot as plt"
   ]
  },
  {
   "cell_type": "code",
   "execution_count": 46,
   "metadata": {},
   "outputs": [
    {
     "data": {
      "text/html": [
       "<div>\n",
       "<style scoped>\n",
       "    .dataframe tbody tr th:only-of-type {\n",
       "        vertical-align: middle;\n",
       "    }\n",
       "\n",
       "    .dataframe tbody tr th {\n",
       "        vertical-align: top;\n",
       "    }\n",
       "\n",
       "    .dataframe thead th {\n",
       "        text-align: right;\n",
       "    }\n",
       "</style>\n",
       "<table border=\"1\" class=\"dataframe\">\n",
       "  <thead>\n",
       "    <tr style=\"text-align: right;\">\n",
       "      <th></th>\n",
       "      <th>Unnamed: 0</th>\n",
       "      <th>true_prob</th>\n",
       "      <th>min_mdm_prob</th>\n",
       "      <th>max_mdm_prob</th>\n",
       "      <th>mnl_prob</th>\n",
       "    </tr>\n",
       "  </thead>\n",
       "  <tbody>\n",
       "    <tr>\n",
       "      <th>0</th>\n",
       "      <td>0</td>\n",
       "      <td>0.003547</td>\n",
       "      <td>0.003547</td>\n",
       "      <td>0.003548</td>\n",
       "      <td>0.2</td>\n",
       "    </tr>\n",
       "    <tr>\n",
       "      <th>1</th>\n",
       "      <td>1</td>\n",
       "      <td>0.065485</td>\n",
       "      <td>0.065485</td>\n",
       "      <td>0.065486</td>\n",
       "      <td>0.2</td>\n",
       "    </tr>\n",
       "    <tr>\n",
       "      <th>2</th>\n",
       "      <td>2</td>\n",
       "      <td>0.038925</td>\n",
       "      <td>0.038925</td>\n",
       "      <td>0.038926</td>\n",
       "      <td>0.2</td>\n",
       "    </tr>\n",
       "    <tr>\n",
       "      <th>3</th>\n",
       "      <td>3</td>\n",
       "      <td>0.121960</td>\n",
       "      <td>0.121960</td>\n",
       "      <td>0.121961</td>\n",
       "      <td>0.2</td>\n",
       "    </tr>\n",
       "    <tr>\n",
       "      <th>4</th>\n",
       "      <td>4</td>\n",
       "      <td>0.770081</td>\n",
       "      <td>0.770081</td>\n",
       "      <td>0.770082</td>\n",
       "      <td>0.2</td>\n",
       "    </tr>\n",
       "    <tr>\n",
       "      <th>...</th>\n",
       "      <td>...</td>\n",
       "      <td>...</td>\n",
       "      <td>...</td>\n",
       "      <td>...</td>\n",
       "      <td>...</td>\n",
       "    </tr>\n",
       "    <tr>\n",
       "      <th>87</th>\n",
       "      <td>87</td>\n",
       "      <td>0.044924</td>\n",
       "      <td>0.036775</td>\n",
       "      <td>0.089055</td>\n",
       "      <td>0.2</td>\n",
       "    </tr>\n",
       "    <tr>\n",
       "      <th>88</th>\n",
       "      <td>88</td>\n",
       "      <td>0.811484</td>\n",
       "      <td>0.759605</td>\n",
       "      <td>0.848660</td>\n",
       "      <td>0.2</td>\n",
       "    </tr>\n",
       "    <tr>\n",
       "      <th>89</th>\n",
       "      <td>89</td>\n",
       "      <td>0.132734</td>\n",
       "      <td>0.110204</td>\n",
       "      <td>0.139720</td>\n",
       "      <td>0.2</td>\n",
       "    </tr>\n",
       "    <tr>\n",
       "      <th>90</th>\n",
       "      <td>90</td>\n",
       "      <td>0.001635</td>\n",
       "      <td>0.001281</td>\n",
       "      <td>0.001748</td>\n",
       "      <td>0.2</td>\n",
       "    </tr>\n",
       "    <tr>\n",
       "      <th>91</th>\n",
       "      <td>91</td>\n",
       "      <td>0.009223</td>\n",
       "      <td>0.000000</td>\n",
       "      <td>0.009873</td>\n",
       "      <td>0.2</td>\n",
       "    </tr>\n",
       "  </tbody>\n",
       "</table>\n",
       "<p>92 rows × 5 columns</p>\n",
       "</div>"
      ],
      "text/plain": [
       "    Unnamed: 0  true_prob  min_mdm_prob  max_mdm_prob  mnl_prob\n",
       "0            0   0.003547      0.003547      0.003548       0.2\n",
       "1            1   0.065485      0.065485      0.065486       0.2\n",
       "2            2   0.038925      0.038925      0.038926       0.2\n",
       "3            3   0.121960      0.121960      0.121961       0.2\n",
       "4            4   0.770081      0.770081      0.770082       0.2\n",
       "..         ...        ...           ...           ...       ...\n",
       "87          87   0.044924      0.036775      0.089055       0.2\n",
       "88          88   0.811484      0.759605      0.848660       0.2\n",
       "89          89   0.132734      0.110204      0.139720       0.2\n",
       "90          90   0.001635      0.001281      0.001748       0.2\n",
       "91          91   0.009223      0.000000      0.009873       0.2\n",
       "\n",
       "[92 rows x 5 columns]"
      ]
     },
     "execution_count": 46,
     "metadata": {},
     "output_type": "execute_result"
    }
   ],
   "source": [
    "mem_20_case1 = pd.read_csv('case1/20/prob_withMNL.csv')\n",
    "mem_20_case1"
   ]
  },
  {
   "cell_type": "code",
   "execution_count": 47,
   "metadata": {},
   "outputs": [],
   "source": [
    "mem_20_case1_gt = mem_20_case1['true_prob']\n",
    "mem_20_case1_gt = np.array(mem_20_case1_gt)\n",
    "\n",
    "mem_20_case1_min = mem_20_case1['min_mdm_prob']\n",
    "mem_20_case1_min = np.array(mem_20_case1_min)\n",
    "\n",
    "mem_20_case1_max = mem_20_case1['max_mdm_prob']\n",
    "mem_20_case1_max = np.array(mem_20_case1_max)"
   ]
  },
  {
   "cell_type": "code",
   "execution_count": 48,
   "metadata": {},
   "outputs": [
    {
     "name": "stderr",
     "output_type": "stream",
     "text": [
      "<ipython-input-48-336b83a52890>:5: MatplotlibDeprecationWarning: Using a string of single character colors as a color sequence is deprecated since 3.2 and will be removed two minor releases later. Use an explicit list instead.\n",
      "  plt.scatter(mem_20_case1_gt, mem_20_case1_min, marker='o', c='', edgecolors='b',label='min')\n",
      "<ipython-input-48-336b83a52890>:6: MatplotlibDeprecationWarning: Using a string of single character colors as a color sequence is deprecated since 3.2 and will be removed two minor releases later. Use an explicit list instead.\n",
      "  plt.scatter(mem_20_case1_gt, mem_20_case1_max, marker='D', c='', edgecolors='r',label='max')\n"
     ]
    },
    {
     "data": {
      "image/png": "[encoded data removed]",
      "text/plain": [
       "<Figure size 432x288 with 1 Axes>"
      ]
     },
     "metadata": {
      "needs_background": "light"
     },
     "output_type": "display_data"
    }
   ],
   "source": [
    "''' plot scatters '''\n",
    "x = np.arange(0,5.5,0.0001) \n",
    "\n",
    "from turtle import color\n",
    "plt.scatter(mem_20_case1_gt, mem_20_case1_min, marker='o', c='', edgecolors='b',label='min')\n",
    "plt.scatter(mem_20_case1_gt, mem_20_case1_max, marker='D', c='', edgecolors='r',label='max')\n",
    "plt.plot(x,x,color='g') ## construct a 45 degree line\n",
    "plt.legend() \n",
    "plt.xlim(-0.1,np.max(mem_20_case1_max)+0.3)\n",
    "plt.ylim(-0.1,np.max(mem_20_case1_max)+0.3)\n",
    "#plt.xticks(x, names, rotation=45)\n",
    "#plt.xticks(x, names)\n",
    "plt.xlabel(\"MEM prob\",fontsize=12)  \n",
    "plt.ylabel(\"MDM prob\",fontsize=12)  \n",
    "#plt.title('choice probability distance',fontsize=12)  \n",
    "plt.savefig('case1/plots/case1_20.png')\n",
    "plt.savefig('case1/plots/case1_20.pdf')\n",
    "plt.show()"
   ]
  },
  {
   "cell_type": "code",
   "execution_count": 49,
   "metadata": {},
   "outputs": [],
   "source": [
    "mem_20_case1_mnl = mem_20_case1['mnl_prob']\n",
    "mem_20_case1_mnl = np.array(mem_20_case1_mnl)"
   ]
  },
  {
   "cell_type": "code",
   "execution_count": 50,
   "metadata": {},
   "outputs": [
    {
     "name": "stderr",
     "output_type": "stream",
     "text": [
      "<ipython-input-50-25b56cd1ff66>:10: MatplotlibDeprecationWarning: Using a string of single character colors as a color sequence is deprecated since 3.2 and will be removed two minor releases later. Use an explicit list instead.\n",
      "  plt.scatter(mem_20_case1_gt, mem_20_case1_mnl, marker='D', c='', edgecolors='g')\n"
     ]
    },
    {
     "data": {
      "image/png": "[encoded data removed]",
      "text/plain": [
       "<Figure size 432x288 with 1 Axes>"
      ]
     },
     "metadata": {
      "needs_background": "light"
     },
     "output_type": "display_data"
    }
   ],
   "source": [
    "''' visulize the prediction interval '''\n",
    "x = np.arange(0,5.5,0.0001) \n",
    "lower_error = []\n",
    "upper_error = []\n",
    "for i in range(len(mem_20_case1_gt)):\n",
    "    lower_error.append(mem_20_case1_gt[i]-mem_20_case1_min[i])\n",
    "    upper_error.append(mem_20_case1_max[i]-mem_20_case1_gt[i])\n",
    "asymmetric_error = [lower_error, upper_error]\n",
    "plt.errorbar(mem_20_case1_gt,mem_20_case1_gt,yerr=asymmetric_error,fmt='o', ecolor='r',linewidth=2, capsize=6)\n",
    "plt.scatter(mem_20_case1_gt, mem_20_case1_mnl, marker='D', c='', edgecolors='g')\n",
    "#plt.errorbar(mem_20_case1_gt,mem_20_case1_gt,yerr=asymmetric_error,ecolor='r',marker='o',ms=3,elinewidth=2,capsize=4)\n",
    "#plt.errorbar(mem_20_case1_gt,mem_20_case1_gt,yerr=asymmetric_error,ecolor='r',elinewidth=2,capsize=4)\n",
    "plt.xlim(np.min(mem_20_case1_min)-0.1,np.max(mem_20_case1_max)+0.3)\n",
    "plt.ylim(np.min(mem_20_case1_min)-0.1,np.max(mem_20_case1_max)+0.3)\n",
    "#plt.xticks(np.arange(np.min(mem_20_case1_min)-0.1, np.max(mem_20_case1_max)+0.3, 0.01))\n",
    "#plt.yticks(np.arange(np.min(mem_20_case1_min)-0.1, np.max(mem_20_case1_max)+0.3, 0.01))\n",
    "plt.xlabel(\"MEM prob\",fontsize=12)  \n",
    "plt.ylabel(\"MDM prob\",fontsize=12) \n",
    "plt.savefig('case1/plots/error_bar_case1_20.png')\n",
    "plt.savefig('case1/plots/error_bar_case1_20.pdf')\n",
    "plt.show()"
   ]
  },
  {
   "cell_type": "code",
   "execution_count": 51,
   "metadata": {},
   "outputs": [
    {
     "data": {
      "text/html": [
       "<div>\n",
       "<style scoped>\n",
       "    .dataframe tbody tr th:only-of-type {\n",
       "        vertical-align: middle;\n",
       "    }\n",
       "\n",
       "    .dataframe tbody tr th {\n",
       "        vertical-align: top;\n",
       "    }\n",
       "\n",
       "    .dataframe thead th {\n",
       "        text-align: right;\n",
       "    }\n",
       "</style>\n",
       "<table border=\"1\" class=\"dataframe\">\n",
       "  <thead>\n",
       "    <tr style=\"text-align: right;\">\n",
       "      <th></th>\n",
       "      <th>Unnamed: 0</th>\n",
       "      <th>true_prob</th>\n",
       "      <th>min_mdm_prob</th>\n",
       "      <th>max_mdm_prob</th>\n",
       "      <th>mnl_prob</th>\n",
       "    </tr>\n",
       "  </thead>\n",
       "  <tbody>\n",
       "    <tr>\n",
       "      <th>0</th>\n",
       "      <td>0</td>\n",
       "      <td>0.003547</td>\n",
       "      <td>0.003547</td>\n",
       "      <td>0.003548</td>\n",
       "      <td>0.2</td>\n",
       "    </tr>\n",
       "    <tr>\n",
       "      <th>1</th>\n",
       "      <td>1</td>\n",
       "      <td>0.065485</td>\n",
       "      <td>0.065485</td>\n",
       "      <td>0.065486</td>\n",
       "      <td>0.2</td>\n",
       "    </tr>\n",
       "    <tr>\n",
       "      <th>2</th>\n",
       "      <td>2</td>\n",
       "      <td>0.038925</td>\n",
       "      <td>0.038925</td>\n",
       "      <td>0.038926</td>\n",
       "      <td>0.2</td>\n",
       "    </tr>\n",
       "    <tr>\n",
       "      <th>3</th>\n",
       "      <td>3</td>\n",
       "      <td>0.121960</td>\n",
       "      <td>0.121960</td>\n",
       "      <td>0.121961</td>\n",
       "      <td>0.2</td>\n",
       "    </tr>\n",
       "    <tr>\n",
       "      <th>4</th>\n",
       "      <td>4</td>\n",
       "      <td>0.770081</td>\n",
       "      <td>0.770081</td>\n",
       "      <td>0.770082</td>\n",
       "      <td>0.2</td>\n",
       "    </tr>\n",
       "    <tr>\n",
       "      <th>...</th>\n",
       "      <td>...</td>\n",
       "      <td>...</td>\n",
       "      <td>...</td>\n",
       "      <td>...</td>\n",
       "      <td>...</td>\n",
       "    </tr>\n",
       "    <tr>\n",
       "      <th>87</th>\n",
       "      <td>87</td>\n",
       "      <td>0.044924</td>\n",
       "      <td>0.036775</td>\n",
       "      <td>0.089055</td>\n",
       "      <td>0.2</td>\n",
       "    </tr>\n",
       "    <tr>\n",
       "      <th>88</th>\n",
       "      <td>88</td>\n",
       "      <td>0.811484</td>\n",
       "      <td>0.759605</td>\n",
       "      <td>0.848660</td>\n",
       "      <td>0.2</td>\n",
       "    </tr>\n",
       "    <tr>\n",
       "      <th>89</th>\n",
       "      <td>89</td>\n",
       "      <td>0.132734</td>\n",
       "      <td>0.110204</td>\n",
       "      <td>0.139720</td>\n",
       "      <td>0.2</td>\n",
       "    </tr>\n",
       "    <tr>\n",
       "      <th>90</th>\n",
       "      <td>90</td>\n",
       "      <td>0.001635</td>\n",
       "      <td>0.001281</td>\n",
       "      <td>0.001748</td>\n",
       "      <td>0.2</td>\n",
       "    </tr>\n",
       "    <tr>\n",
       "      <th>91</th>\n",
       "      <td>91</td>\n",
       "      <td>0.009223</td>\n",
       "      <td>0.000000</td>\n",
       "      <td>0.009873</td>\n",
       "      <td>0.2</td>\n",
       "    </tr>\n",
       "  </tbody>\n",
       "</table>\n",
       "<p>92 rows × 5 columns</p>\n",
       "</div>"
      ],
      "text/plain": [
       "    Unnamed: 0  true_prob  min_mdm_prob  max_mdm_prob  mnl_prob\n",
       "0            0   0.003547      0.003547      0.003548       0.2\n",
       "1            1   0.065485      0.065485      0.065486       0.2\n",
       "2            2   0.038925      0.038925      0.038926       0.2\n",
       "3            3   0.121960      0.121960      0.121961       0.2\n",
       "4            4   0.770081      0.770081      0.770082       0.2\n",
       "..         ...        ...           ...           ...       ...\n",
       "87          87   0.044924      0.036775      0.089055       0.2\n",
       "88          88   0.811484      0.759605      0.848660       0.2\n",
       "89          89   0.132734      0.110204      0.139720       0.2\n",
       "90          90   0.001635      0.001281      0.001748       0.2\n",
       "91          91   0.009223      0.000000      0.009873       0.2\n",
       "\n",
       "[92 rows x 5 columns]"
      ]
     },
     "execution_count": 51,
     "metadata": {},
     "output_type": "execute_result"
    }
   ],
   "source": [
    "mem_20_case1_prob = pd.read_csv('case1/20/prob_withMNL.csv')\n",
    "mem_20_case1_prob"
   ]
  },
  {
   "cell_type": "code",
   "execution_count": 52,
   "metadata": {},
   "outputs": [],
   "source": [
    "mem_20_case1_gt_prob = mem_20_case1_prob['true_prob']\n",
    "mem_20_case1_gt_prob = np.array(mem_20_case1_gt_prob)\n",
    "\n",
    "mem_20_case1_min_prob = mem_20_case1_prob['min_mdm_prob']\n",
    "mem_20_case1_min_prob = np.array(mem_20_case1_min_prob)\n",
    "\n",
    "mem_20_case1_max_prob = mem_20_case1_prob['max_mdm_prob']\n",
    "mem_20_case1_max_prob = np.array(mem_20_case1_max_prob)\n",
    "\n",
    "mem_20_case1_mnl_prob = mem_20_case1_prob['mnl_prob']\n",
    "mem_20_case1_mnl_prob = np.array(mem_20_case1_mnl_prob)"
   ]
  },
  {
   "cell_type": "code",
   "execution_count": 53,
   "metadata": {},
   "outputs": [
    {
     "name": "stderr",
     "output_type": "stream",
     "text": [
      "<ipython-input-53-4c96a0e79a47>:9: MatplotlibDeprecationWarning: Using a string of single character colors as a color sequence is deprecated since 3.2 and will be removed two minor releases later. Use an explicit list instead.\n",
      "  plt.scatter(mem_20_case1_gt_prob, mem_20_case1_mnl_prob, marker='D', c='', edgecolors='g')\n"
     ]
    },
    {
     "data": {
      "image/png": "[encoded data removed]",
      "text/plain": [
       "<Figure size 432x288 with 1 Axes>"
      ]
     },
     "metadata": {
      "needs_background": "light"
     },
     "output_type": "display_data"
    }
   ],
   "source": [
    "''' visulize the prediction interval '''\n",
    "lower_error = []\n",
    "upper_error = []\n",
    "for i in range(len(mem_20_case1_gt_prob)):\n",
    "    lower_error.append(mem_20_case1_gt_prob[i]-mem_20_case1_min_prob[i])\n",
    "    upper_error.append(mem_20_case1_max_prob[i]-mem_20_case1_gt_prob[i])\n",
    "asymmetric_error = [lower_error, upper_error]\n",
    "plt.errorbar(mem_20_case1_gt_prob,mem_20_case1_gt_prob,yerr=asymmetric_error,fmt='o', ecolor='r',linewidth=2, capsize=6)\n",
    "plt.scatter(mem_20_case1_gt_prob, mem_20_case1_mnl_prob, marker='D', c='', edgecolors='g')\n",
    "#plt.errorbar(mem_20_case1_gt,mem_20_case1_gt,yerr=asymmetric_error,ecolor='r',marker='o',ms=3,elinewidth=2,capsize=4)\n",
    "#plt.errorbar(mem_20_case1_gt,mem_20_case1_gt,yerr=asymmetric_error,ecolor='r',elinewidth=2,capsize=4)\n",
    "x = [0,0.2,0.5,0.8,1]\n",
    "plt.xticks(x,x)\n",
    "y = [0,0.2,0.5,0.8,1]\n",
    "plt.yticks(y,y)\n",
    "plt.tick_params(labelsize=20)\n",
    "#plt.xlim(-0.1,1.1)\n",
    "#plt.ylim(-0.1,1.1)\n",
    "#plt.xticks(np.arange(np.min(mem_20_case1_min)-0.1, np.max(mem_20_case1_max)+0.3, 0.01))\n",
    "#plt.yticks(np.arange(np.min(mem_20_case1_min)-0.1, np.max(mem_20_case1_max)+0.3, 0.01))\n",
    "plt.xlabel(\"True \"+'$x_{i,A}$',fontsize=25)  \n",
    "plt.ylabel(\"Predicted \"+'$x_{i,A}$',fontsize=25) \n",
    "plt.tight_layout()\n",
    "plt.savefig('case1/plots/prob/prob_case1_20.png')\n",
    "plt.savefig('case1/plots/prob/prob_case1_20.pdf')\n",
    "plt.show()"
   ]
  }
 ],
 "metadata": {
  "kernelspec": {
   "display_name": "base",
   "language": "python",
   "name": "python3"
  },
  "language_info": {
   "codemirror_mode": {
    "name": "ipython",
    "version": 3
   },
   "file_extension": ".py",
   "mimetype": "text/x-python",
   "name": "python",
   "nbconvert_exporter": "python",
   "pygments_lexer": "ipython3",
   "version": "3.8.5"
  },
  "orig_nbformat": 4,
  "vscode": {
   "interpreter": {
    "hash": "ebdf0563cd0506869acfe44a7cbfc0f9ee11e0c875e1179c386aef281c5ba524"
   }
  }
 },
 "nbformat": 4,
 "nbformat_minor": 2
}
