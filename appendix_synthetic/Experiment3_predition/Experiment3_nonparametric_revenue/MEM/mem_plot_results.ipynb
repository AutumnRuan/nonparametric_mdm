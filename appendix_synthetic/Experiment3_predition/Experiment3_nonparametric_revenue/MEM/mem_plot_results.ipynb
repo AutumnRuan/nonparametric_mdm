{
 "cells": [
  {
   "cell_type": "code",
   "execution_count": 1,
   "metadata": {},
   "outputs": [],
   "source": [
    "import pandas as pd\n",
    "import numpy as np\n",
    "import matplotlib.pyplot as plt"
   ]
  },
  {
   "cell_type": "code",
   "execution_count": 2,
   "metadata": {},
   "outputs": [
    {
     "data": {
      "text/html": [
       "<div>\n",
       "<style scoped>\n",
       "    .dataframe tbody tr th:only-of-type {\n",
       "        vertical-align: middle;\n",
       "    }\n",
       "\n",
       "    .dataframe tbody tr th {\n",
       "        vertical-align: top;\n",
       "    }\n",
       "\n",
       "    .dataframe thead th {\n",
       "        text-align: right;\n",
       "    }\n",
       "</style>\n",
       "<table border=\"1\" class=\"dataframe\">\n",
       "  <thead>\n",
       "    <tr style=\"text-align: right;\">\n",
       "      <th></th>\n",
       "      <th>Unnamed: 0</th>\n",
       "      <th>true_revenue</th>\n",
       "      <th>min_mdm_revenue</th>\n",
       "      <th>max_mdm_revenue</th>\n",
       "      <th>mnl_revenue</th>\n",
       "    </tr>\n",
       "  </thead>\n",
       "  <tbody>\n",
       "    <tr>\n",
       "      <th>0</th>\n",
       "      <td>0</td>\n",
       "      <td>2.259260</td>\n",
       "      <td>2.247485</td>\n",
       "      <td>2.260973</td>\n",
       "      <td>3.127234</td>\n",
       "    </tr>\n",
       "    <tr>\n",
       "      <th>1</th>\n",
       "      <td>1</td>\n",
       "      <td>2.704760</td>\n",
       "      <td>2.702898</td>\n",
       "      <td>2.706369</td>\n",
       "      <td>2.903859</td>\n",
       "    </tr>\n",
       "    <tr>\n",
       "      <th>2</th>\n",
       "      <td>2</td>\n",
       "      <td>2.029159</td>\n",
       "      <td>2.019479</td>\n",
       "      <td>2.032429</td>\n",
       "      <td>2.598698</td>\n",
       "    </tr>\n",
       "    <tr>\n",
       "      <th>3</th>\n",
       "      <td>3</td>\n",
       "      <td>1.282545</td>\n",
       "      <td>1.237464</td>\n",
       "      <td>1.288264</td>\n",
       "      <td>2.598698</td>\n",
       "    </tr>\n",
       "    <tr>\n",
       "      <th>4</th>\n",
       "      <td>4</td>\n",
       "      <td>1.829011</td>\n",
       "      <td>1.823130</td>\n",
       "      <td>1.842986</td>\n",
       "      <td>2.448126</td>\n",
       "    </tr>\n",
       "    <tr>\n",
       "      <th>5</th>\n",
       "      <td>5</td>\n",
       "      <td>2.818254</td>\n",
       "      <td>2.737199</td>\n",
       "      <td>2.923214</td>\n",
       "      <td>2.811230</td>\n",
       "    </tr>\n",
       "    <tr>\n",
       "      <th>6</th>\n",
       "      <td>6</td>\n",
       "      <td>2.617883</td>\n",
       "      <td>2.569414</td>\n",
       "      <td>2.634121</td>\n",
       "      <td>2.865034</td>\n",
       "    </tr>\n",
       "    <tr>\n",
       "      <th>7</th>\n",
       "      <td>7</td>\n",
       "      <td>1.627733</td>\n",
       "      <td>1.627733</td>\n",
       "      <td>1.627734</td>\n",
       "      <td>2.734390</td>\n",
       "    </tr>\n",
       "    <tr>\n",
       "      <th>8</th>\n",
       "      <td>8</td>\n",
       "      <td>1.553700</td>\n",
       "      <td>1.543321</td>\n",
       "      <td>1.553710</td>\n",
       "      <td>1.277359</td>\n",
       "    </tr>\n",
       "    <tr>\n",
       "      <th>9</th>\n",
       "      <td>9</td>\n",
       "      <td>2.780855</td>\n",
       "      <td>2.246235</td>\n",
       "      <td>3.023566</td>\n",
       "      <td>2.598698</td>\n",
       "    </tr>\n",
       "    <tr>\n",
       "      <th>10</th>\n",
       "      <td>10</td>\n",
       "      <td>2.305831</td>\n",
       "      <td>2.296031</td>\n",
       "      <td>2.307920</td>\n",
       "      <td>2.772810</td>\n",
       "    </tr>\n",
       "    <tr>\n",
       "      <th>11</th>\n",
       "      <td>11</td>\n",
       "      <td>2.111118</td>\n",
       "      <td>2.058375</td>\n",
       "      <td>2.170167</td>\n",
       "      <td>2.903859</td>\n",
       "    </tr>\n",
       "    <tr>\n",
       "      <th>12</th>\n",
       "      <td>12</td>\n",
       "      <td>3.268409</td>\n",
       "      <td>3.268407</td>\n",
       "      <td>3.268408</td>\n",
       "      <td>2.678888</td>\n",
       "    </tr>\n",
       "    <tr>\n",
       "      <th>13</th>\n",
       "      <td>13</td>\n",
       "      <td>2.147077</td>\n",
       "      <td>2.093965</td>\n",
       "      <td>2.166298</td>\n",
       "      <td>2.875241</td>\n",
       "    </tr>\n",
       "    <tr>\n",
       "      <th>14</th>\n",
       "      <td>14</td>\n",
       "      <td>1.763826</td>\n",
       "      <td>1.757684</td>\n",
       "      <td>1.775019</td>\n",
       "      <td>1.984346</td>\n",
       "    </tr>\n",
       "    <tr>\n",
       "      <th>15</th>\n",
       "      <td>15</td>\n",
       "      <td>4.185887</td>\n",
       "      <td>4.183454</td>\n",
       "      <td>4.188156</td>\n",
       "      <td>3.879358</td>\n",
       "    </tr>\n",
       "    <tr>\n",
       "      <th>16</th>\n",
       "      <td>16</td>\n",
       "      <td>3.908656</td>\n",
       "      <td>3.891418</td>\n",
       "      <td>3.932250</td>\n",
       "      <td>2.598698</td>\n",
       "    </tr>\n",
       "    <tr>\n",
       "      <th>17</th>\n",
       "      <td>17</td>\n",
       "      <td>2.015658</td>\n",
       "      <td>2.014650</td>\n",
       "      <td>2.023140</td>\n",
       "      <td>2.580182</td>\n",
       "    </tr>\n",
       "    <tr>\n",
       "      <th>18</th>\n",
       "      <td>18</td>\n",
       "      <td>2.527239</td>\n",
       "      <td>2.286397</td>\n",
       "      <td>2.644309</td>\n",
       "      <td>2.772810</td>\n",
       "    </tr>\n",
       "    <tr>\n",
       "      <th>19</th>\n",
       "      <td>19</td>\n",
       "      <td>1.574611</td>\n",
       "      <td>1.546941</td>\n",
       "      <td>1.640271</td>\n",
       "      <td>2.127785</td>\n",
       "    </tr>\n",
       "  </tbody>\n",
       "</table>\n",
       "</div>"
      ],
      "text/plain": [
       "    Unnamed: 0  true_revenue  min_mdm_revenue  max_mdm_revenue  mnl_revenue\n",
       "0            0      2.259260         2.247485         2.260973     3.127234\n",
       "1            1      2.704760         2.702898         2.706369     2.903859\n",
       "2            2      2.029159         2.019479         2.032429     2.598698\n",
       "3            3      1.282545         1.237464         1.288264     2.598698\n",
       "4            4      1.829011         1.823130         1.842986     2.448126\n",
       "5            5      2.818254         2.737199         2.923214     2.811230\n",
       "6            6      2.617883         2.569414         2.634121     2.865034\n",
       "7            7      1.627733         1.627733         1.627734     2.734390\n",
       "8            8      1.553700         1.543321         1.553710     1.277359\n",
       "9            9      2.780855         2.246235         3.023566     2.598698\n",
       "10          10      2.305831         2.296031         2.307920     2.772810\n",
       "11          11      2.111118         2.058375         2.170167     2.903859\n",
       "12          12      3.268409         3.268407         3.268408     2.678888\n",
       "13          13      2.147077         2.093965         2.166298     2.875241\n",
       "14          14      1.763826         1.757684         1.775019     1.984346\n",
       "15          15      4.185887         4.183454         4.188156     3.879358\n",
       "16          16      3.908656         3.891418         3.932250     2.598698\n",
       "17          17      2.015658         2.014650         2.023140     2.580182\n",
       "18          18      2.527239         2.286397         2.644309     2.772810\n",
       "19          19      1.574611         1.546941         1.640271     2.127785"
      ]
     },
     "execution_count": 2,
     "metadata": {},
     "output_type": "execute_result"
    }
   ],
   "source": [
    "mem_20_case1 = pd.read_csv('case1/20/revenues_withMNL.csv')\n",
    "mem_20_case1"
   ]
  },
  {
   "cell_type": "code",
   "execution_count": 3,
   "metadata": {},
   "outputs": [],
   "source": [
    "mem_20_case1_gt = mem_20_case1['true_revenue']\n",
    "mem_20_case1_gt = np.array(mem_20_case1_gt)\n",
    "\n",
    "mem_20_case1_min = mem_20_case1['min_mdm_revenue']\n",
    "mem_20_case1_min = np.array(mem_20_case1_min)\n",
    "\n",
    "mem_20_case1_max = mem_20_case1['max_mdm_revenue']\n",
    "mem_20_case1_max = np.array(mem_20_case1_max)"
   ]
  },
  {
   "cell_type": "code",
   "execution_count": 4,
   "metadata": {},
   "outputs": [
    {
     "name": "stderr",
     "output_type": "stream",
     "text": [
      "<ipython-input-4-49ca8e62833c>:5: MatplotlibDeprecationWarning: Using a string of single character colors as a color sequence is deprecated since 3.2 and will be removed two minor releases later. Use an explicit list instead.\n",
      "  plt.scatter(mem_20_case1_gt, mem_20_case1_min, marker='o', c='', edgecolors='b',label='min')\n",
      "<ipython-input-4-49ca8e62833c>:6: MatplotlibDeprecationWarning: Using a string of single character colors as a color sequence is deprecated since 3.2 and will be removed two minor releases later. Use an explicit list instead.\n",
      "  plt.scatter(mem_20_case1_gt, mem_20_case1_max, marker='D', c='', edgecolors='r',label='max')\n"
     ]
    },
    {
     "data": {
      "image/png": "[encoded data removed]",
      "text/plain": [
       "<Figure size 432x288 with 1 Axes>"
      ]
     },
     "metadata": {
      "needs_background": "light"
     },
     "output_type": "display_data"
    }
   ],
   "source": [
    "''' plot scatters '''\n",
    "x = np.arange(0,5.5,0.0001) \n",
    "\n",
    "from turtle import color\n",
    "plt.scatter(mem_20_case1_gt, mem_20_case1_min, marker='o', c='', edgecolors='b',label='min')\n",
    "plt.scatter(mem_20_case1_gt, mem_20_case1_max, marker='D', c='', edgecolors='r',label='max')\n",
    "plt.plot(x,x,color='g') ## construct a 45 degree line\n",
    "plt.legend() \n",
    "plt.xlim(-0.1,np.max(mem_20_case1_max)+0.3)\n",
    "plt.ylim(-0.1,np.max(mem_20_case1_max)+0.3)\n",
    "#plt.xticks(x, names, rotation=45)\n",
    "#plt.xticks(x, names)\n",
    "plt.xlabel(\"True Revenue\",fontsize=12)  \n",
    "plt.ylabel(\"Predicted Revenue\",fontsize=12)  \n",
    "#plt.title('choice probability distance',fontsize=12)  \n",
    "plt.savefig('case1/mem_case1_20.png')\n",
    "plt.savefig('case1/mem_case1_20.pdf')\n",
    "plt.show()"
   ]
  },
  {
   "cell_type": "code",
   "execution_count": 5,
   "metadata": {},
   "outputs": [],
   "source": [
    "mem_20_case1_mnl = mem_20_case1['mnl_revenue']\n",
    "mem_20_case1_mnl = np.array(mem_20_case1_mnl)"
   ]
  },
  {
   "cell_type": "code",
   "execution_count": 6,
   "metadata": {},
   "outputs": [
    {
     "name": "stderr",
     "output_type": "stream",
     "text": [
      "<ipython-input-6-f94853fad1e7>:10: MatplotlibDeprecationWarning: Using a string of single character colors as a color sequence is deprecated since 3.2 and will be removed two minor releases later. Use an explicit list instead.\n",
      "  plt.scatter(mem_20_case1_gt, mem_20_case1_mnl, marker='D', c='', edgecolors='g',label = 'mnl')\n"
     ]
    },
    {
     "data": {
      "image/png": "[encoded data removed]",
      "text/plain": [
       "<Figure size 432x288 with 1 Axes>"
      ]
     },
     "metadata": {
      "needs_background": "light"
     },
     "output_type": "display_data"
    }
   ],
   "source": [
    "''' visulize the prediction interval '''\n",
    "x = np.arange(0,5.5,0.0001) \n",
    "lower_error = []\n",
    "upper_error = []\n",
    "for i in range(len(mem_20_case1_gt)):\n",
    "    lower_error.append(mem_20_case1_gt[i]-mem_20_case1_min[i])\n",
    "    upper_error.append(mem_20_case1_max[i]-mem_20_case1_gt[i])\n",
    "asymmetric_error = [lower_error, upper_error]\n",
    "plt.errorbar(mem_20_case1_gt,mem_20_case1_gt,yerr=asymmetric_error,fmt='o', ecolor='r',linewidth=2, capsize=6,label = 'mdm')\n",
    "plt.scatter(mem_20_case1_gt, mem_20_case1_mnl, marker='D', c='', edgecolors='g',label = 'mnl')\n",
    "#plt.errorbar(mem_20_case1_gt,mem_20_case1_gt,yerr=asymmetric_error,ecolor='r',marker='o',ms=3,elinewidth=2,capsize=4)\n",
    "#plt.errorbar(mem_20_case1_gt,mem_20_case1_gt,yerr=asymmetric_error,ecolor='r',elinewidth=2,capsize=4)\n",
    "plt.xlim(np.min(mem_20_case1_min)-0.1,np.max(mem_20_case1_max)+0.3)\n",
    "plt.ylim(np.min(mem_20_case1_min)-0.1,np.max(mem_20_case1_max)+0.3)\n",
    "#plt.xticks(np.arange(np.min(mem_20_case1_min)-0.1, np.max(mem_20_case1_max)+0.3, 0.01))\n",
    "#plt.yticks(np.arange(np.min(mem_20_case1_min)-0.1, np.max(mem_20_case1_max)+0.3, 0.01))\n",
    "plt.legend()\n",
    "plt.xlabel(\"True Revenue\",fontsize=12)  \n",
    "plt.ylabel(\"Predicted Revenue\",fontsize=12) \n",
    "plt.savefig('case1/mem_revenue_case1_20.png')\n",
    "plt.savefig('case1/mem_revenue_case1_20.pdf')\n",
    "plt.show()"
   ]
  },
  {
   "cell_type": "code",
   "execution_count": 8,
   "metadata": {},
   "outputs": [
    {
     "name": "stderr",
     "output_type": "stream",
     "text": [
      "<ipython-input-8-8dc146a1e337>:10: MatplotlibDeprecationWarning: Using a string of single character colors as a color sequence is deprecated since 3.2 and will be removed two minor releases later. Use an explicit list instead.\n",
      "  plt.scatter(mem_20_case1_gt, mem_20_case1_mnl, marker='D', c='', edgecolors='g',label = 'mnl')\n"
     ]
    },
    {
     "data": {
      "image/png": "[encoded data removed]",
      "text/plain": [
       "<Figure size 432x288 with 1 Axes>"
      ]
     },
     "metadata": {
      "needs_background": "light"
     },
     "output_type": "display_data"
    }
   ],
   "source": [
    "''' visulize the prediction interval '''\n",
    "x = np.arange(0,5.5,0.0001) \n",
    "lower_error = []\n",
    "upper_error = []\n",
    "for i in range(len(mem_20_case1_gt)):\n",
    "    lower_error.append(mem_20_case1_gt[i]-mem_20_case1_min[i])\n",
    "    upper_error.append(mem_20_case1_max[i]-mem_20_case1_gt[i])\n",
    "asymmetric_error = [lower_error, upper_error]\n",
    "plt.errorbar(mem_20_case1_gt,mem_20_case1_gt,yerr=asymmetric_error,fmt='o', ecolor='r',linewidth=2, capsize=6,label = 'mdm')\n",
    "plt.scatter(mem_20_case1_gt, mem_20_case1_mnl, marker='D', c='', edgecolors='g',label = 'mnl')\n",
    "#plt.errorbar(mem_20_case1_gt,mem_20_case1_gt,yerr=asymmetric_error,ecolor='r',marker='o',ms=3,elinewidth=2,capsize=4)\n",
    "#plt.errorbar(mem_20_case1_gt,mem_20_case1_gt,yerr=asymmetric_error,ecolor='r',elinewidth=2,capsize=4)\n",
    "x = [1,2,3,4,5]\n",
    "plt.xticks(x,x)\n",
    "y = [1,2,3,4,5]\n",
    "plt.yticks(y,y)\n",
    "plt.tick_params(labelsize=20)\n",
    "#plt.xticks(np.arange(np.min(mem_20_case1_min)-0.1, np.max(mem_20_case1_max)+0.3, 0.01))\n",
    "#plt.yticks(np.arange(np.min(mem_20_case1_min)-0.1, np.max(mem_20_case1_max)+0.3, 0.01))\n",
    "plt.legend(loc='upper left',fontsize=20)\n",
    "plt.xlabel(\"True \"+\"$r_A$\",fontsize=25)  \n",
    "plt.ylabel(\"Predicted \"+\"$r_A$\",fontsize=25) \n",
    "plt.tight_layout()\n",
    "plt.savefig('case1/plots/mem_revenue_20.png')\n",
    "plt.savefig('case1/plots/mem_revenue_20.pdf')\n",
    "plt.show()"
   ]
  }
 ],
 "metadata": {
  "kernelspec": {
   "display_name": "base",
   "language": "python",
   "name": "python3"
  },
  "language_info": {
   "codemirror_mode": {
    "name": "ipython",
    "version": 3
   },
   "file_extension": ".py",
   "mimetype": "text/x-python",
   "name": "python",
   "nbconvert_exporter": "python",
   "pygments_lexer": "ipython3",
   "version": "3.8.5"
  },
  "orig_nbformat": 4,
  "vscode": {
   "interpreter": {
    "hash": "ebdf0563cd0506869acfe44a7cbfc0f9ee11e0c875e1179c386aef281c5ba524"
   }
  }
 },
 "nbformat": 4,
 "nbformat_minor": 2
}
