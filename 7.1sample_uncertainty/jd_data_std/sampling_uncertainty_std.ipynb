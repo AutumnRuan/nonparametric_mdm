{
 "cells": [
  {
   "cell_type": "code",
   "execution_count": 1,
   "metadata": {},
   "outputs": [],
   "source": [
    "import pandas as pd\n",
    "import numpy as np\n",
    "import random\n",
    "import matplotlib.pyplot as plt\n",
    "import math\n",
    "import gurobipy as gp\n",
    "from gurobipy import GRB\n",
    "import itertools\n",
    "from itertools import combinations\n",
    "from itertools import permutations\n",
    "from random import choice\n",
    "import json\n",
    "import cvxpy as cp\n",
    "from tkinter import _flatten\n",
    "import copy\n",
    "import time\n",
    "import scipy.stats as stats"
   ]
  },
  {
   "cell_type": "code",
   "execution_count": 2,
   "metadata": {},
   "outputs": [],
   "source": [
    "np.random.seed(1)\n",
    "random.seed(1)"
   ]
  },
  {
   "cell_type": "code",
   "execution_count": 3,
   "metadata": {},
   "outputs": [
    {
     "name": "stdout",
     "output_type": "stream",
     "text": [
      "there are 9 different products\n",
      "there are 134 different assortments\n"
     ]
    }
   ],
   "source": [
    "raw_jd_choice = pd.read_excel('data_processing/choices.xlsm')  \n",
    "offertimes = raw_jd_choice.groupby('clickset')['clicknum'].sum()[raw_jd_choice.clickset.unique()]\n",
    "#offertimes.to_csv('offertimes.csv')\n",
    "inc_prod_num = raw_jd_choice['clickset'].value_counts()[raw_jd_choice.clickset.unique()]\n",
    "#inc_prod_num.to_csv('inc_prod_num.csv')\n",
    "choice_prob = raw_jd_choice['clicknum'] / raw_jd_choice.groupby('clickset')['clicknum'].transform('sum')\n",
    "raw_jd_choice['choice prob'] = choice_prob\n",
    "\n",
    "assortment_info_df = pd.DataFrame({'assortments':raw_jd_choice.clickset.unique(),'offer_times':offertimes,'includ_prod_num':inc_prod_num})\n",
    "\n",
    "# extended assortments with outside option \n",
    "# transfer to list\n",
    "clickset = raw_jd_choice['clickset']\n",
    "clickset_list = []\n",
    "for cset in clickset:\n",
    "    num_lst = json.loads(cset)\n",
    "    #clickset_list.append(num_lst+[0])\n",
    "    clickset_list.append([0]+num_lst)\n",
    "raw_jd_choice['clickset'] = clickset_list\n",
    "\n",
    "# all purchase options in each assortment\n",
    "purchaseset = raw_jd_choice['purchaseset']\n",
    "purchaseset_list = []\n",
    "for pset in purchaseset:\n",
    "    num_lst = json.loads(pset)\n",
    "    purchaseset_list.append(num_lst)\n",
    "raw_jd_choice['purchaseset'] = purchaseset_list\n",
    "\n",
    "purchasenum_list = raw_jd_choice['clicknum'].tolist()\n",
    "jd_choice=pd.DataFrame({'clickset':clickset_list,'purchaseset':purchaseset_list,'purchasenum':purchasenum_list,'choice prob':choice_prob})\n",
    "\n",
    "n = 9 # product size top 8 products and outside option\n",
    "print('there are {} different products'.format(n))\n",
    "collection = []\n",
    "for cset in clickset_list:\n",
    "    if cset not in collection:\n",
    "        collection.append(cset)\n",
    "print('there are {} different assortments'.format(len(collection)))\n",
    "\n",
    "assortment_info_df['assortments'] = collection\n",
    "choice_collection = np.zeros((n,len(collection)))\n",
    "global_num = 0\n",
    "for i in range(len(collection)):\n",
    "    local_num =0\n",
    "    while(local_num < inc_prod_num[i]):\n",
    "        if purchaseset_list[global_num][0] in collection[i]:\n",
    "            choice_collection[purchaseset_list[global_num][0]][i] = choice_prob[global_num]\n",
    "            global_num = global_num +1\n",
    "            local_num = local_num +1\n",
    "        else:\n",
    "            print('error!')\n",
    "full_choice_collection = pd.DataFrame(choice_collection)\n",
    "#full_choice_collection.to_csv('instances/full_instances/full_choice.csv')\n"
   ]
  },
  {
   "cell_type": "code",
   "execution_count": 4,
   "metadata": {},
   "outputs": [
    {
     "name": "stdout",
     "output_type": "stream",
     "text": [
      "the number of assortments with at least 20 purchases is 29\n"
     ]
    }
   ],
   "source": [
    "assortment_info_df_20 = assortment_info_df[(assortment_info_df['offer_times']>=20)]\n",
    "assortments_20 = []\n",
    "for i in range(len(assortment_info_df_20['assortments'])):\n",
    "    assortments_20.append(assortment_info_df_20['assortments'][i])\n",
    "\n",
    "\n",
    "jd_choice_20 = pd.DataFrame(columns=jd_choice.columns)\n",
    "\n",
    "num = 0\n",
    "for i in range(len(jd_choice)):\n",
    "    if jd_choice['clickset'][i] in assortments_20:\n",
    "        jd_choice_20.loc[num] = jd_choice.loc[i]\n",
    "        num = num+1 \n",
    "\n",
    "collection_20 = assortment_info_df_20['assortments']\n",
    "choice_collection_20 = np.zeros((n,len(collection_20)))\n",
    "\n",
    "frequency_collection_20 = np.zeros((n,len(collection_20)))\n",
    "\n",
    "purchaseset_list_20 = jd_choice_20['purchaseset'].tolist()\n",
    "\n",
    "inc_prod_num_20 = assortment_info_df_20['includ_prod_num']\n",
    "choice_prob_20 = jd_choice_20['choice prob']\n",
    "frequency_20 = jd_choice_20['purchasenum']\n",
    "\n",
    "global_num = 0\n",
    "for i in range(len(collection_20)):\n",
    "    local_num =0\n",
    "    while(local_num < inc_prod_num_20[i]):\n",
    "        if purchaseset_list_20[global_num][0] in assortments_20[i]:\n",
    "            choice_collection_20[purchaseset_list_20[global_num][0]][i] = choice_prob_20[global_num]\n",
    "            frequency_collection_20[purchaseset_list_20[global_num][0]][i] = frequency_20[global_num]\n",
    "            global_num = global_num +1\n",
    "            local_num = local_num +1\n",
    "        else:\n",
    "            print(purchaseset_list_20[global_num])\n",
    "            print(assortments_20[i])\n",
    "            print('error!')\n",
    "            break\n",
    "#print(global_num)  \n",
    "\n",
    "choice_check_20 = pd.DataFrame(choice_collection_20)\n",
    "#choice_check_20.to_csv('instances/full_instances/full_20.csv')\n",
    "frequency_collection_20 = frequency_collection_20.astype(int)\n",
    "frequency_check_20 = pd.DataFrame(frequency_collection_20)\n",
    "#frequency_check_20.to_csv('instances/full_instances/frequency_20.csv')\n",
    "\n",
    "offer_times_20 = assortment_info_df_20['offer_times'].tolist()\n",
    "print('the number of assortments with at least 20 purchases is',len(assortments_20))"
   ]
  },
  {
   "cell_type": "code",
   "execution_count": 5,
   "metadata": {},
   "outputs": [
    {
     "name": "stdout",
     "output_type": "stream",
     "text": [
      "the number of assortments with at least 30 purchases is 24\n"
     ]
    }
   ],
   "source": [
    "assortment_info_df_30 = assortment_info_df[(assortment_info_df['offer_times']>=30)]\n",
    "assortments_30 = []\n",
    "for i in range(len(assortment_info_df_30['assortments'])):\n",
    "    assortments_30.append(assortment_info_df_30['assortments'][i])\n",
    "\n",
    "\n",
    "jd_choice_30 = pd.DataFrame(columns=jd_choice.columns)\n",
    "\n",
    "num = 0\n",
    "for i in range(len(jd_choice)):\n",
    "    if jd_choice['clickset'][i] in assortments_30:\n",
    "        jd_choice_30.loc[num] = jd_choice.loc[i]\n",
    "        num = num+1 \n",
    "\n",
    "collection_30 = assortment_info_df_30['assortments']\n",
    "choice_collection_30 = np.zeros((n,len(collection_30)))\n",
    "\n",
    "frequency_collection_30 = np.zeros((n,len(collection_30)))\n",
    "\n",
    "purchaseset_list_30 = jd_choice_30['purchaseset'].tolist()\n",
    "\n",
    "inc_prod_num_30 = assortment_info_df_30['includ_prod_num']\n",
    "choice_prob_30 = jd_choice_30['choice prob']\n",
    "frequency_30 = jd_choice_30['purchasenum']\n",
    "\n",
    "global_num = 0\n",
    "for i in range(len(collection_30)):\n",
    "    local_num =0\n",
    "    while(local_num < inc_prod_num_30[i]):\n",
    "        if purchaseset_list_30[global_num][0] in assortments_30[i]:\n",
    "            choice_collection_30[purchaseset_list_30[global_num][0]][i] = choice_prob_30[global_num]\n",
    "            frequency_collection_30[purchaseset_list_30[global_num][0]][i] = frequency_30[global_num]\n",
    "            global_num = global_num +1\n",
    "            local_num = local_num +1\n",
    "        else:\n",
    "            print(purchaseset_list_30[global_num])\n",
    "            print(assortments_30[i])\n",
    "            print('error!')\n",
    "            break\n",
    "#print(global_num)  \n",
    "\n",
    "choice_check_30 = pd.DataFrame(choice_collection_30)\n",
    "#choice_check_30.to_csv('instances/full_instances/full_30.csv')\n",
    "frequency_collection_30 = frequency_collection_30.astype(int)\n",
    "frequency_check_30 = pd.DataFrame(frequency_collection_30)\n",
    "#frequency_check_30.to_csv('instances/full_instances/frequency_30.csv')\n",
    "\n",
    "offer_times_30 = assortment_info_df_30['offer_times'].tolist()\n",
    "print('the number of assortments with at least 30 purchases is',len(assortments_30))"
   ]
  },
  {
   "cell_type": "code",
   "execution_count": 6,
   "metadata": {},
   "outputs": [
    {
     "name": "stdout",
     "output_type": "stream",
     "text": [
      "the number of assortments with at least 40 purchases is 19\n"
     ]
    }
   ],
   "source": [
    "assortment_info_df_40 = assortment_info_df[(assortment_info_df['offer_times']>=40)]\n",
    "assortments_40 = []\n",
    "for i in range(len(assortment_info_df_40['assortments'])):\n",
    "    assortments_40.append(assortment_info_df_40['assortments'][i])\n",
    "\n",
    "\n",
    "jd_choice_40 = pd.DataFrame(columns=jd_choice.columns)\n",
    "\n",
    "num = 0\n",
    "for i in range(len(jd_choice)):\n",
    "    if jd_choice['clickset'][i] in assortments_40:\n",
    "        jd_choice_40.loc[num] = jd_choice.loc[i]\n",
    "        num = num+1 \n",
    "\n",
    "collection_40 = assortment_info_df_40['assortments']\n",
    "choice_collection_40 = np.zeros((n,len(collection_40)))\n",
    "\n",
    "frequency_collection_40 = np.zeros((n,len(collection_40)))\n",
    "\n",
    "purchaseset_list_40 = jd_choice_40['purchaseset'].tolist()\n",
    "\n",
    "inc_prod_num_40 = assortment_info_df_40['includ_prod_num']\n",
    "choice_prob_40 = jd_choice_40['choice prob']\n",
    "frequency_40 = jd_choice_40['purchasenum']\n",
    "\n",
    "global_num = 0\n",
    "for i in range(len(collection_40)):\n",
    "    local_num =0\n",
    "    while(local_num < inc_prod_num_40[i]):\n",
    "        if purchaseset_list_40[global_num][0] in assortments_40[i]:\n",
    "            choice_collection_40[purchaseset_list_40[global_num][0]][i] = choice_prob_40[global_num]\n",
    "            frequency_collection_40[purchaseset_list_40[global_num][0]][i] = frequency_40[global_num]\n",
    "            global_num = global_num +1\n",
    "            local_num = local_num +1\n",
    "        else:\n",
    "            print(purchaseset_list_40[global_num])\n",
    "            print(assortments_40[i])\n",
    "            print('error!')\n",
    "            break\n",
    "#print(global_num)  \n",
    "\n",
    "choice_check_40 = pd.DataFrame(choice_collection_40)\n",
    "#choice_check_40.to_csv('instances/full_instances/full_40.csv')\n",
    "frequency_collection_40 = frequency_collection_40.astype(int)\n",
    "frequency_check_40 = pd.DataFrame(frequency_collection_40)\n",
    "#frequency_check_40.to_csv('instances/full_instances/frequency_40.csv')\n",
    "\n",
    "offer_times_40 = assortment_info_df_40['offer_times'].tolist()\n",
    "print('the number of assortments with at least 40 purchases is',len(assortments_40))"
   ]
  },
  {
   "cell_type": "code",
   "execution_count": 7,
   "metadata": {},
   "outputs": [
    {
     "name": "stdout",
     "output_type": "stream",
     "text": [
      "the number of assortments with at least 50 purchases is 15\n"
     ]
    }
   ],
   "source": [
    "assortment_info_df_50 = assortment_info_df[(assortment_info_df['offer_times']>=50)]\n",
    "assortments_50 = []\n",
    "for i in range(len(assortment_info_df_50['assortments'])):\n",
    "    assortments_50.append(assortment_info_df_50['assortments'][i])\n",
    "\n",
    "\n",
    "jd_choice_50 = pd.DataFrame(columns=jd_choice.columns)\n",
    "\n",
    "num = 0\n",
    "for i in range(len(jd_choice)):\n",
    "    if jd_choice['clickset'][i] in assortments_50:\n",
    "        jd_choice_50.loc[num] = jd_choice.loc[i]\n",
    "        num = num+1 \n",
    "\n",
    "collection_50 = assortment_info_df_50['assortments']\n",
    "choice_collection_50 = np.zeros((n,len(collection_50)))\n",
    "\n",
    "frequency_collection_50 = np.zeros((n,len(collection_50)))\n",
    "\n",
    "purchaseset_list_50 = jd_choice_50['purchaseset'].tolist()\n",
    "\n",
    "inc_prod_num_50 = assortment_info_df_50['includ_prod_num']\n",
    "choice_prob_50 = jd_choice_50['choice prob']\n",
    "frequency_50 = jd_choice_50['purchasenum']\n",
    "\n",
    "global_num = 0\n",
    "for i in range(len(collection_50)):\n",
    "    local_num =0\n",
    "    while(local_num < inc_prod_num_50[i]):\n",
    "        if purchaseset_list_50[global_num][0] in assortments_50[i]:\n",
    "            choice_collection_50[purchaseset_list_50[global_num][0]][i] = choice_prob_50[global_num]\n",
    "            frequency_collection_50[purchaseset_list_50[global_num][0]][i] = frequency_50[global_num]\n",
    "            global_num = global_num +1\n",
    "            local_num = local_num +1\n",
    "        else:\n",
    "            print(purchaseset_list_50[global_num])\n",
    "            print(assortments_50[i])\n",
    "            print('error!')\n",
    "            break\n",
    "#print(global_num)  \n",
    "\n",
    "choice_check_50 = pd.DataFrame(choice_collection_50)\n",
    "#choice_check_50.to_csv('instances/full_instances/full_50.csv')\n",
    "frequency_collection_50 = frequency_collection_50.astype(int)\n",
    "frequency_check_50 = pd.DataFrame(frequency_collection_50)\n",
    "#frequency_check_50.to_csv('instances/full_instances/frequency_50.csv')\n",
    "\n",
    "offer_times_50 = assortment_info_df_50['offer_times'].tolist()\n",
    "print('the number of assortments with at least 50 purchases is',len(assortments_50))"
   ]
  },
  {
   "cell_type": "code",
   "execution_count": 8,
   "metadata": {},
   "outputs": [
    {
     "name": "stdout",
     "output_type": "stream",
     "text": [
      "the number of assortments with at least 60 purchases is 13\n"
     ]
    }
   ],
   "source": [
    "assortment_info_df_60 = assortment_info_df[(assortment_info_df['offer_times']>=60)]\n",
    "assortments_60 = []\n",
    "for i in range(len(assortment_info_df_60['assortments'])):\n",
    "    assortments_60.append(assortment_info_df_60['assortments'][i])\n",
    "\n",
    "\n",
    "jd_choice_60 = pd.DataFrame(columns=jd_choice.columns)\n",
    "\n",
    "num = 0\n",
    "for i in range(len(jd_choice)):\n",
    "    if jd_choice['clickset'][i] in assortments_60:\n",
    "        jd_choice_60.loc[num] = jd_choice.loc[i]\n",
    "        num = num+1 \n",
    "\n",
    "collection_60 = assortment_info_df_60['assortments']\n",
    "choice_collection_60 = np.zeros((n,len(collection_60)))\n",
    "\n",
    "frequency_collection_60 = np.zeros((n,len(collection_60)))\n",
    "\n",
    "purchaseset_list_60 = jd_choice_60['purchaseset'].tolist()\n",
    "\n",
    "inc_prod_num_60 = assortment_info_df_60['includ_prod_num']\n",
    "choice_prob_60 = jd_choice_60['choice prob']\n",
    "frequency_60 = jd_choice_60['purchasenum']\n",
    "\n",
    "global_num = 0\n",
    "for i in range(len(collection_60)):\n",
    "    local_num =0\n",
    "    while(local_num < inc_prod_num_60[i]):\n",
    "        if purchaseset_list_60[global_num][0] in assortments_60[i]:\n",
    "            choice_collection_60[purchaseset_list_60[global_num][0]][i] = choice_prob_60[global_num]\n",
    "            frequency_collection_60[purchaseset_list_60[global_num][0]][i] = frequency_60[global_num]\n",
    "            global_num = global_num +1\n",
    "            local_num = local_num +1\n",
    "        else:\n",
    "            print(purchaseset_list_60[global_num])\n",
    "            print(assortments_60[i])\n",
    "            print('error!')\n",
    "            break\n",
    "#print(global_num)  \n",
    "\n",
    "choice_check_60 = pd.DataFrame(choice_collection_60)\n",
    "#choice_check_60.to_csv('instances/full_instances/full_60.csv')\n",
    "frequency_collection_60 = frequency_collection_60.astype(int)\n",
    "frequency_check_60 = pd.DataFrame(frequency_collection_60)\n",
    "#frequency_check_60.to_csv('instances/full_instances/frequency_60.csv')\n",
    "\n",
    "offer_times_60 = assortment_info_df_60['offer_times'].tolist()\n",
    "print('the number of assortments with at least 60 purchases is',len(assortments_60))"
   ]
  },
  {
   "cell_type": "code",
   "execution_count": 9,
   "metadata": {},
   "outputs": [
    {
     "name": "stdout",
     "output_type": "stream",
     "text": [
      "the number of assortments with at least 75 purchases is 12\n"
     ]
    }
   ],
   "source": [
    "assortment_info_df_75 = assortment_info_df[(assortment_info_df['offer_times']>=75)]\n",
    "assortments_75 = []\n",
    "for i in range(len(assortment_info_df_75['assortments'])):\n",
    "    assortments_75.append(assortment_info_df_75['assortments'][i])\n",
    "\n",
    "\n",
    "jd_choice_75 = pd.DataFrame(columns=jd_choice.columns)\n",
    "\n",
    "num = 0\n",
    "for i in range(len(jd_choice)):\n",
    "    if jd_choice['clickset'][i] in assortments_75:\n",
    "        jd_choice_75.loc[num] = jd_choice.loc[i]\n",
    "        num = num+1 \n",
    "\n",
    "collection_75 = assortment_info_df_75['assortments']\n",
    "choice_collection_75 = np.zeros((n,len(collection_75)))\n",
    "\n",
    "frequency_collection_75 = np.zeros((n,len(collection_75)))\n",
    "\n",
    "purchaseset_list_75 = jd_choice_75['purchaseset'].tolist()\n",
    "\n",
    "inc_prod_num_75 = assortment_info_df_75['includ_prod_num']\n",
    "choice_prob_75 = jd_choice_75['choice prob']\n",
    "frequency_75 = jd_choice_75['purchasenum']\n",
    "\n",
    "global_num = 0\n",
    "for i in range(len(collection_75)):\n",
    "    local_num =0\n",
    "    while(local_num < inc_prod_num_75[i]):\n",
    "        if purchaseset_list_75[global_num][0] in assortments_75[i]:\n",
    "            choice_collection_75[purchaseset_list_75[global_num][0]][i] = choice_prob_75[global_num]\n",
    "            frequency_collection_75[purchaseset_list_75[global_num][0]][i] = frequency_75[global_num]\n",
    "            global_num = global_num +1\n",
    "            local_num = local_num +1\n",
    "        else:\n",
    "            print(purchaseset_list_75[global_num])\n",
    "            print(assortments_75[i])\n",
    "            print('error!')\n",
    "            break\n",
    "#print(global_num)  \n",
    "\n",
    "choice_check_75 = pd.DataFrame(choice_collection_75)\n",
    "#choice_check_75.to_csv('instances/full_instances/full_75.csv')\n",
    "frequency_collection_75 = frequency_collection_75.astype(int)\n",
    "frequency_check_75 = pd.DataFrame(frequency_collection_75)\n",
    "#frequency_check_75.to_csv('instances/full_instances/frequency_75.csv')\n",
    "\n",
    "offer_times_75 = assortment_info_df_75['offer_times'].tolist()\n",
    "print('the number of assortments with at least 75 purchases is',len(assortments_75))"
   ]
  },
  {
   "cell_type": "code",
   "execution_count": 10,
   "metadata": {},
   "outputs": [
    {
     "name": "stdout",
     "output_type": "stream",
     "text": [
      "the number of assortments with at least 100 purchases is 11\n"
     ]
    }
   ],
   "source": [
    "assortment_info_df_100 = assortment_info_df[(assortment_info_df['offer_times']>=100)]\n",
    "assortments_100 = []\n",
    "for i in range(len(assortment_info_df_100['assortments'])):\n",
    "    assortments_100.append(assortment_info_df_100['assortments'][i])\n",
    "\n",
    "jd_choice_100 = pd.DataFrame(columns=jd_choice.columns)\n",
    "\n",
    "num = 0\n",
    "for i in range(len(jd_choice)):\n",
    "    if jd_choice['clickset'][i] in assortments_100:\n",
    "        jd_choice_100.loc[num] = jd_choice.loc[i]\n",
    "        num = num+1 \n",
    "\n",
    "collection_100 = assortment_info_df_100['assortments']\n",
    "choice_collection_100 = np.zeros((n,len(collection_100)))\n",
    "\n",
    "frequency_collection_100 = np.zeros((n,len(collection_100)))\n",
    "\n",
    "purchaseset_list_100 = jd_choice_100['purchaseset'].tolist()\n",
    "\n",
    "inc_prod_num_100 = assortment_info_df_100['includ_prod_num']\n",
    "choice_prob_100 = jd_choice_100['choice prob']\n",
    "frequency_100 = jd_choice_100['purchasenum']\n",
    "\n",
    "global_num=0\n",
    "for i in range(len(collection_100)):\n",
    "    local_num =0\n",
    "    while(local_num < inc_prod_num_100[i]):\n",
    "        if purchaseset_list_100[global_num][0] in assortments_100[i]:\n",
    "            choice_collection_100[purchaseset_list_100[global_num][0]][i] = choice_prob_100[global_num]\n",
    "            frequency_collection_100[purchaseset_list_100[global_num][0]][i] = frequency_100[global_num]\n",
    "            global_num = global_num +1\n",
    "            local_num = local_num +1\n",
    "\n",
    "choice_check_100 = pd.DataFrame(choice_collection_100)\n",
    "#choice_check_100.to_csv('instances/full_instances/full_100.csv')\n",
    "frequency_collection_100 = frequency_collection_100.astype(int)\n",
    "frequency_check_100 = pd.DataFrame(frequency_collection_100)\n",
    "#frequency_check_100.to_csv('instances/full_instances/frequency_100.csv')\n",
    "\n",
    "offer_times_100 = assortment_info_df_100['offer_times'].tolist()\n",
    "print('the number of assortments with at least 100 purchases is',len(assortments_100))"
   ]
  },
  {
   "cell_type": "markdown",
   "metadata": {},
   "source": [
    "compute sqrt(p_{i,S}(1-p_{i,S})/n_S)"
   ]
  },
  {
   "cell_type": "code",
   "execution_count": 33,
   "metadata": {},
   "outputs": [
    {
     "name": "stdout",
     "output_type": "stream",
     "text": [
      "max quantity with offertimes at least 20 0.03298611111111111\n",
      "max percentage with offertimes at least 20 4.347826086956522 %\n"
     ]
    }
   ],
   "source": [
    "quantity_20 = choice_collection_20/np.array(offer_times_20)\n",
    "df_quantity_20 = pd.DataFrame(quantity_20)\n",
    "df_quantity_20.to_csv('df_quantity/quantity_20.csv')\n",
    "percent_20 = np.divide(quantity_20, choice_collection_20, where=choice_collection_20!=0 )\n",
    "percent_20 [ choice_collection_20 ==0 ] = 0\n",
    "df_percent_20 = pd.DataFrame(percent_20)\n",
    "df_percent_20.to_csv('df_quantity/percent_20.csv')\n",
    "max_nonzero_quanity_20 = np.max(quantity_20)\n",
    "max_nonzero_percent_20 = np.max(percent_20)*100\n",
    "print('max quantity with offertimes at least 20',max_nonzero_quanity_20)\n",
    "print(f'max percentage with offertimes at least 20 {max_nonzero_percent_20} %')"
   ]
  },
  {
   "cell_type": "code",
   "execution_count": 34,
   "metadata": {},
   "outputs": [
    {
     "name": "stdout",
     "output_type": "stream",
     "text": [
      "max quantity with offertimes at least 30 0.0244140625\n",
      "max percentage with offertimes at least 30 3.125 %\n"
     ]
    }
   ],
   "source": [
    "quantity_30 = choice_collection_30/np.array(offer_times_30)\n",
    "df_quantity_30 = pd.DataFrame(quantity_30)\n",
    "df_quantity_30.to_csv('df_quantity/quantity_30.csv')\n",
    "percent_30 = np.divide(quantity_30, choice_collection_30, where=choice_collection_30!=0 )\n",
    "percent_30 [ choice_collection_30 ==0 ] = 0\n",
    "df_percent_30 = pd.DataFrame(percent_30)\n",
    "df_percent_30.to_csv('df_quantity/percent_30.csv')\n",
    "max_nonzero_quanity_30 = np.max(quantity_30)\n",
    "max_nonzero_percent_30 = np.max(percent_30)*100\n",
    "print('max quantity with offertimes at least 30',max_nonzero_quanity_30)\n",
    "print(f'max percentage with offertimes at least 30 {max_nonzero_percent_30} %')"
   ]
  },
  {
   "cell_type": "code",
   "execution_count": 35,
   "metadata": {},
   "outputs": [
    {
     "name": "stdout",
     "output_type": "stream",
     "text": [
      "max quantity with offertimes at least 40 0.01875\n",
      "max percentage with offertimes at least 40 2.5 %\n"
     ]
    }
   ],
   "source": [
    "quantity_40 = choice_collection_40/np.array(offer_times_40)\n",
    "df_quantity_40 = pd.DataFrame(quantity_40)\n",
    "df_quantity_40.to_csv('df_quantity/quantity_40.csv')\n",
    "percent_40 = np.divide(quantity_40, choice_collection_40, where=choice_collection_40!=0 )\n",
    "percent_40 [ choice_collection_40 ==0 ] = 0\n",
    "df_percent_40 = pd.DataFrame(percent_40)\n",
    "df_percent_40.to_csv('df_quantity/percent_40.csv')\n",
    "max_nonzero_quanity_40 = np.max(quantity_40)\n",
    "max_nonzero_percent_40 = np.max(percent_40)*100\n",
    "print('max quantity with offertimes at least 40',max_nonzero_quanity_40)\n",
    "print(f'max percentage with offertimes at least 40 {max_nonzero_percent_40} %')"
   ]
  },
  {
   "cell_type": "code",
   "execution_count": 36,
   "metadata": {},
   "outputs": [
    {
     "name": "stdout",
     "output_type": "stream",
     "text": [
      "max quantity with offertimes at least 50 0.014609765474817378\n",
      "max percentage with offertimes at least 50 1.9607843137254901 %\n"
     ]
    }
   ],
   "source": [
    "quantity_50 = choice_collection_50/np.array(offer_times_50)\n",
    "df_quantity_50 = pd.DataFrame(quantity_50)\n",
    "df_quantity_50.to_csv('df_quantity/quantity_50.csv')\n",
    "percent_50 = np.divide(quantity_50, choice_collection_50, where=choice_collection_50!=0 )\n",
    "percent_50 [ choice_collection_50 ==0 ] = 0\n",
    "df_percent_50 = pd.DataFrame(percent_50)\n",
    "df_percent_50.to_csv('df_quantity/percent_50.csv')\n",
    "max_nonzero_quanity_50 = np.max(quantity_50)\n",
    "max_nonzero_percent_50 = np.max(percent_50)*100\n",
    "print('max quantity with offertimes at least 50',max_nonzero_quanity_50)\n",
    "print(f'max percentage with offertimes at least 50 {max_nonzero_percent_50} %')"
   ]
  },
  {
   "cell_type": "code",
   "execution_count": 37,
   "metadata": {},
   "outputs": [
    {
     "name": "stdout",
     "output_type": "stream",
     "text": [
      "max quantity with offertimes at least 60 0.010247271107150813\n",
      "max percentage with offertimes at least 60 1.4925373134328357 %\n"
     ]
    }
   ],
   "source": [
    "quantity_60 = choice_collection_60/np.array(offer_times_60)\n",
    "df_quantity_60 = pd.DataFrame(quantity_60)\n",
    "df_quantity_60.to_csv('df_quantity/quantity_60.csv')\n",
    "percent_60 = np.divide(quantity_60, choice_collection_60, where=choice_collection_60!=0 )\n",
    "percent_60 [ choice_collection_60 ==0 ] = 0\n",
    "df_percent_60 = pd.DataFrame(percent_60)\n",
    "df_percent_60.to_csv('df_quantity/percent_60.csv')\n",
    "max_nonzero_quanity_60 = np.max(quantity_60)\n",
    "max_nonzero_percent_60 = np.max(percent_60)*100\n",
    "print('max quantity with offertimes at least 60',max_nonzero_quanity_60)\n",
    "print(f'max percentage with offertimes at least 60 {max_nonzero_percent_60} %')"
   ]
  },
  {
   "cell_type": "code",
   "execution_count": 38,
   "metadata": {},
   "outputs": [
    {
     "name": "stdout",
     "output_type": "stream",
     "text": [
      "max quantity with offertimes at least 75 0.009040105193951348\n",
      "max percentage with offertimes at least 75 1.282051282051282 %\n"
     ]
    }
   ],
   "source": [
    "quantity_75 = choice_collection_75/np.array(offer_times_75)\n",
    "df_quantity_75 = pd.DataFrame(quantity_75)\n",
    "df_quantity_75.to_csv('df_quantity/quantity_75.csv')\n",
    "percent_75 = np.divide(quantity_75, choice_collection_75, where=choice_collection_75!=0 )\n",
    "percent_75 [ choice_collection_75 ==0 ] = 0\n",
    "df_percent_75 = pd.DataFrame(percent_75)\n",
    "df_percent_75.to_csv('df_quantity/percent_75.csv')\n",
    "max_nonzero_quanity_75 = np.max(quantity_75)\n",
    "max_nonzero_percent_75 = np.max(percent_75)*100\n",
    "print('max quantity with offertimes at least 75',max_nonzero_quanity_75)\n",
    "print(f'max percentage with offertimes at least 75 {max_nonzero_percent_75} %')"
   ]
  },
  {
   "cell_type": "code",
   "execution_count": 39,
   "metadata": {},
   "outputs": [
    {
     "name": "stdout",
     "output_type": "stream",
     "text": [
      "max quantity with offertimes at least 100 0.006828824141519251\n",
      "max percentage with offertimes at least 100 0.8130081300813009 %\n"
     ]
    }
   ],
   "source": [
    "quantity_100 = choice_collection_100/np.array(offer_times_100)\n",
    "df_quantity_100 = pd.DataFrame(quantity_100)\n",
    "df_quantity_100.to_csv('df_quantity/quantity_100.csv')\n",
    "percent_100 = np.divide(quantity_100, choice_collection_100, where=choice_collection_100!=0 )\n",
    "percent_100 [ choice_collection_100 ==0 ] = 0\n",
    "df_percent_100 = pd.DataFrame(percent_100)\n",
    "df_percent_100.to_csv('df_quantity/percent_100.csv')\n",
    "max_nonzero_quanity_100 = np.max(quantity_100)\n",
    "max_nonzero_percent_100 = np.max(percent_100)*100\n",
    "print('max quantity with offertimes at least 100',max_nonzero_quanity_100)\n",
    "print(f'max percentage with offertimes at least 100 {max_nonzero_percent_100} %')"
   ]
  },
  {
   "cell_type": "code",
   "execution_count": null,
   "metadata": {},
   "outputs": [],
   "source": []
  },
  {
   "cell_type": "code",
   "execution_count": 51,
   "metadata": {},
   "outputs": [],
   "source": [
    "offertimes_lst = [20,30,40,50,60,75,100]\n",
    "collection_size = [len(assortments_20),len(assortments_30),len(assortments_40), len(assortments_50),len(assortments_60),len(assortments_75),len(assortments_100)]\n",
    "max_quantity_lst = [max_nonzero_quanity_20,max_nonzero_quanity_30,max_nonzero_quanity_40,max_nonzero_quanity_50,max_nonzero_quanity_60,max_nonzero_quanity_75,max_nonzero_quanity_100]\n",
    "max_percent_lst = [max_nonzero_percent_20,max_nonzero_percent_30,max_nonzero_percent_40,max_nonzero_percent_50,max_nonzero_percent_60,max_nonzero_percent_75,max_nonzero_percent_100]"
   ]
  },
  {
   "cell_type": "code",
   "execution_count": 54,
   "metadata": {},
   "outputs": [
    {
     "data": {
      "text/html": [
       "<div>\n",
       "<style scoped>\n",
       "    .dataframe tbody tr th:only-of-type {\n",
       "        vertical-align: middle;\n",
       "    }\n",
       "\n",
       "    .dataframe tbody tr th {\n",
       "        vertical-align: top;\n",
       "    }\n",
       "\n",
       "    .dataframe thead th {\n",
       "        text-align: right;\n",
       "    }\n",
       "</style>\n",
       "<table border=\"1\" class=\"dataframe\">\n",
       "  <thead>\n",
       "    <tr style=\"text-align: right;\">\n",
       "      <th></th>\n",
       "      <th>offertimes</th>\n",
       "      <th>collection_size</th>\n",
       "      <th>max_quanity</th>\n",
       "      <th>max_percentage(%)</th>\n",
       "    </tr>\n",
       "  </thead>\n",
       "  <tbody>\n",
       "    <tr>\n",
       "      <th>0</th>\n",
       "      <td>20</td>\n",
       "      <td>29</td>\n",
       "      <td>0.032986</td>\n",
       "      <td>4.347826</td>\n",
       "    </tr>\n",
       "    <tr>\n",
       "      <th>1</th>\n",
       "      <td>30</td>\n",
       "      <td>24</td>\n",
       "      <td>0.024414</td>\n",
       "      <td>3.125000</td>\n",
       "    </tr>\n",
       "    <tr>\n",
       "      <th>2</th>\n",
       "      <td>40</td>\n",
       "      <td>19</td>\n",
       "      <td>0.018750</td>\n",
       "      <td>2.500000</td>\n",
       "    </tr>\n",
       "    <tr>\n",
       "      <th>3</th>\n",
       "      <td>50</td>\n",
       "      <td>15</td>\n",
       "      <td>0.014610</td>\n",
       "      <td>1.960784</td>\n",
       "    </tr>\n",
       "    <tr>\n",
       "      <th>4</th>\n",
       "      <td>60</td>\n",
       "      <td>13</td>\n",
       "      <td>0.010247</td>\n",
       "      <td>1.492537</td>\n",
       "    </tr>\n",
       "    <tr>\n",
       "      <th>5</th>\n",
       "      <td>75</td>\n",
       "      <td>12</td>\n",
       "      <td>0.009040</td>\n",
       "      <td>1.282051</td>\n",
       "    </tr>\n",
       "    <tr>\n",
       "      <th>6</th>\n",
       "      <td>100</td>\n",
       "      <td>11</td>\n",
       "      <td>0.006829</td>\n",
       "      <td>0.813008</td>\n",
       "    </tr>\n",
       "  </tbody>\n",
       "</table>\n",
       "</div>"
      ],
      "text/plain": [
       "   offertimes  collection_size  max_quanity  max_percentage(%)\n",
       "0          20               29     0.032986           4.347826\n",
       "1          30               24     0.024414           3.125000\n",
       "2          40               19     0.018750           2.500000\n",
       "3          50               15     0.014610           1.960784\n",
       "4          60               13     0.010247           1.492537\n",
       "5          75               12     0.009040           1.282051\n",
       "6         100               11     0.006829           0.813008"
      ]
     },
     "execution_count": 54,
     "metadata": {},
     "output_type": "execute_result"
    }
   ],
   "source": [
    "uncentainty_summary = pd.DataFrame({'offertimes':offertimes_lst,'collection_size':collection_size,'max_quanity':max_quantity_lst,'max_percentage(%)':max_percent_lst})\n",
    "uncentainty_summary.to_csv('uncentainty_summary.csv')\n",
    "uncentainty_summary"
   ]
  }
 ],
 "metadata": {
  "kernelspec": {
   "display_name": "base",
   "language": "python",
   "name": "python3"
  },
  "language_info": {
   "codemirror_mode": {
    "name": "ipython",
    "version": 3
   },
   "file_extension": ".py",
   "mimetype": "text/x-python",
   "name": "python",
   "nbconvert_exporter": "python",
   "pygments_lexer": "ipython3",
   "version": "3.8.5"
  },
  "orig_nbformat": 4
 },
 "nbformat": 4,
 "nbformat_minor": 2
}
