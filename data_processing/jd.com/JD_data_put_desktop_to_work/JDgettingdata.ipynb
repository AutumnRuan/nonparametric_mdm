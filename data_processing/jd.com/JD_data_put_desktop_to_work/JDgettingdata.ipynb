{
 "cells": [
  {
   "cell_type": "markdown",
   "metadata": {},
   "source": [
    "# Import packages and load Data"
   ]
  },
  {
   "cell_type": "code",
   "execution_count": 3,
   "metadata": {
    "ExecuteTime": {
     "end_time": "2020-01-01T10:59:40.931823Z",
     "start_time": "2020-01-01T10:59:40.455398Z"
    },
    "collapsed": true
   },
   "outputs": [],
   "source": [
    "import pandas as pd\n",
    "import numpy as np\n",
    "import datetime as dt\n",
    "import matplotlib.pyplot as plt\n",
    "%matplotlib inline"
   ]
  },
  {
   "cell_type": "code",
   "execution_count": 264,
   "metadata": {
    "ExecuteTime": {
     "end_time": "2020-01-01T10:46:56.241928Z",
     "start_time": "2020-01-01T10:46:08.554943Z"
    },
    "collapsed": true
   },
   "outputs": [],
   "source": [
    "# 'skus' table\n",
    "skus = pd.read_csv('Jd_com_data/JD_sku_data.csv')\n",
    "# 'users' table\n",
    "users = pd.read_csv('Jd_com_data/JD_user_data.csv')\n",
    "# 'clicks' table\n",
    "clicks = pd.read_csv('Jd_com_data/JD_click_data.csv')\n",
    "# 'orders' table\n",
    "orders = pd.read_csv('Jd_com_data/JD_order_data.csv')\n",
    "# 'delivery' table\n",
    "delivery = pd.read_csv('Jd_com_data/JD_delivery_data.csv')\n",
    "# 'inventory' table\n",
    "inventory = pd.read_csv('Jd_com_data/JD_inventory_data.csv')\n",
    "# 'network' table\n",
    "network = pd.read_csv('Jd_com_data/JD_network_data.csv')"
   ]
  },
  {
   "cell_type": "markdown",
   "metadata": {},
   "source": [
    "## skus"
   ]
  },
  {
   "cell_type": "code",
   "execution_count": 3,
   "metadata": {
    "ExecuteTime": {
     "end_time": "2019-12-26T04:02:28.718860Z",
     "start_time": "2019-12-26T04:02:28.703900Z"
    }
   },
   "outputs": [
    {
     "data": {
      "text/plain": [
       "(31868, 7)"
      ]
     },
     "execution_count": 3,
     "metadata": {},
     "output_type": "execute_result"
    }
   ],
   "source": [
    "skus.shape"
   ]
  },
  {
   "cell_type": "code",
   "execution_count": 4,
   "metadata": {},
   "outputs": [
    {
     "data": {
      "text/html": [
       "<div>\n",
       "<style scoped>\n",
       "    .dataframe tbody tr th:only-of-type {\n",
       "        vertical-align: middle;\n",
       "    }\n",
       "\n",
       "    .dataframe tbody tr th {\n",
       "        vertical-align: top;\n",
       "    }\n",
       "\n",
       "    .dataframe thead th {\n",
       "        text-align: right;\n",
       "    }\n",
       "</style>\n",
       "<table border=\"1\" class=\"dataframe\">\n",
       "  <thead>\n",
       "    <tr style=\"text-align: right;\">\n",
       "      <th></th>\n",
       "      <th>sku_ID</th>\n",
       "      <th>type</th>\n",
       "      <th>brand_ID</th>\n",
       "      <th>attribute1</th>\n",
       "      <th>attribute2</th>\n",
       "      <th>activate_date</th>\n",
       "      <th>deactivate_date</th>\n",
       "    </tr>\n",
       "  </thead>\n",
       "  <tbody>\n",
       "    <tr>\n",
       "      <td>0</td>\n",
       "      <td>a234e08c57</td>\n",
       "      <td>1</td>\n",
       "      <td>c3ab4bf4d9</td>\n",
       "      <td>3.0</td>\n",
       "      <td>60.0</td>\n",
       "      <td>NaN</td>\n",
       "      <td>NaN</td>\n",
       "    </tr>\n",
       "    <tr>\n",
       "      <td>1</td>\n",
       "      <td>6449e1fd87</td>\n",
       "      <td>1</td>\n",
       "      <td>1d8b4b4c63</td>\n",
       "      <td>2.0</td>\n",
       "      <td>50.0</td>\n",
       "      <td>NaN</td>\n",
       "      <td>NaN</td>\n",
       "    </tr>\n",
       "    <tr>\n",
       "      <td>2</td>\n",
       "      <td>09b70fcd83</td>\n",
       "      <td>2</td>\n",
       "      <td>eb7d2a675a</td>\n",
       "      <td>3.0</td>\n",
       "      <td>70.0</td>\n",
       "      <td>NaN</td>\n",
       "      <td>NaN</td>\n",
       "    </tr>\n",
       "    <tr>\n",
       "      <td>3</td>\n",
       "      <td>acad9fed04</td>\n",
       "      <td>2</td>\n",
       "      <td>9b0d3a5fc6</td>\n",
       "      <td>3.0</td>\n",
       "      <td>70.0</td>\n",
       "      <td>NaN</td>\n",
       "      <td>NaN</td>\n",
       "    </tr>\n",
       "    <tr>\n",
       "      <td>4</td>\n",
       "      <td>2fa77e3b4d</td>\n",
       "      <td>2</td>\n",
       "      <td>b681299668</td>\n",
       "      <td>-</td>\n",
       "      <td>-</td>\n",
       "      <td>NaN</td>\n",
       "      <td>NaN</td>\n",
       "    </tr>\n",
       "  </tbody>\n",
       "</table>\n",
       "</div>"
      ],
      "text/plain": [
       "       sku_ID  type    brand_ID attribute1 attribute2 activate_date  \\\n",
       "0  a234e08c57     1  c3ab4bf4d9        3.0       60.0           NaN   \n",
       "1  6449e1fd87     1  1d8b4b4c63        2.0       50.0           NaN   \n",
       "2  09b70fcd83     2  eb7d2a675a        3.0       70.0           NaN   \n",
       "3  acad9fed04     2  9b0d3a5fc6        3.0       70.0           NaN   \n",
       "4  2fa77e3b4d     2  b681299668          -          -           NaN   \n",
       "\n",
       "  deactivate_date  \n",
       "0             NaN  \n",
       "1             NaN  \n",
       "2             NaN  \n",
       "3             NaN  \n",
       "4             NaN  "
      ]
     },
     "execution_count": 4,
     "metadata": {},
     "output_type": "execute_result"
    }
   ],
   "source": [
    "skus.head()"
   ]
  },
  {
   "cell_type": "code",
   "execution_count": 9,
   "metadata": {},
   "outputs": [
    {
     "data": {
      "text/plain": [
       "(31867, 1890)"
      ]
     },
     "execution_count": 9,
     "metadata": {},
     "output_type": "execute_result"
    }
   ],
   "source": [
    "len(skus['sku_ID'].unique()),len(skus['brand_ID'].unique())"
   ]
  },
  {
   "cell_type": "code",
   "execution_count": 13,
   "metadata": {},
   "outputs": [
    {
     "data": {
      "text/html": [
       "<div>\n",
       "<style scoped>\n",
       "    .dataframe tbody tr th:only-of-type {\n",
       "        vertical-align: middle;\n",
       "    }\n",
       "\n",
       "    .dataframe tbody tr th {\n",
       "        vertical-align: top;\n",
       "    }\n",
       "\n",
       "    .dataframe thead th {\n",
       "        text-align: right;\n",
       "    }\n",
       "</style>\n",
       "<table border=\"1\" class=\"dataframe\">\n",
       "  <thead>\n",
       "    <tr style=\"text-align: right;\">\n",
       "      <th></th>\n",
       "      <th>sku_ID</th>\n",
       "      <th>type</th>\n",
       "      <th>brand_ID</th>\n",
       "      <th>attribute1</th>\n",
       "      <th>attribute2</th>\n",
       "      <th>activate_date</th>\n",
       "      <th>deactivate_date</th>\n",
       "    </tr>\n",
       "  </thead>\n",
       "  <tbody>\n",
       "    <tr>\n",
       "      <td>12905</td>\n",
       "      <td>de9ed6156d</td>\n",
       "      <td>1</td>\n",
       "      <td>7ce2073bf4</td>\n",
       "      <td>3.0</td>\n",
       "      <td>60.0</td>\n",
       "      <td>NaN</td>\n",
       "      <td>NaN</td>\n",
       "    </tr>\n",
       "    <tr>\n",
       "      <td>12906</td>\n",
       "      <td>de9ed6156d</td>\n",
       "      <td>1</td>\n",
       "      <td>7ce2073bf4</td>\n",
       "      <td>3.0</td>\n",
       "      <td>50.0</td>\n",
       "      <td>NaN</td>\n",
       "      <td>NaN</td>\n",
       "    </tr>\n",
       "  </tbody>\n",
       "</table>\n",
       "</div>"
      ],
      "text/plain": [
       "           sku_ID  type    brand_ID attribute1 attribute2 activate_date  \\\n",
       "12905  de9ed6156d     1  7ce2073bf4        3.0       60.0           NaN   \n",
       "12906  de9ed6156d     1  7ce2073bf4        3.0       50.0           NaN   \n",
       "\n",
       "      deactivate_date  \n",
       "12905             NaN  \n",
       "12906             NaN  "
      ]
     },
     "execution_count": 13,
     "metadata": {},
     "output_type": "execute_result"
    }
   ],
   "source": [
    "skus[skus['sku_ID'].duplicated(keep=False)]"
   ]
  },
  {
   "cell_type": "markdown",
   "metadata": {},
   "source": [
    "## orders"
   ]
  },
  {
   "cell_type": "code",
   "execution_count": 63,
   "metadata": {},
   "outputs": [
    {
     "data": {
      "text/plain": [
       "(549989, 17)"
      ]
     },
     "execution_count": 63,
     "metadata": {},
     "output_type": "execute_result"
    }
   ],
   "source": [
    "orders.shape"
   ]
  },
  {
   "cell_type": "code",
   "execution_count": 25,
   "metadata": {},
   "outputs": [
    {
     "data": {
      "text/html": [
       "<div>\n",
       "<style scoped>\n",
       "    .dataframe tbody tr th:only-of-type {\n",
       "        vertical-align: middle;\n",
       "    }\n",
       "\n",
       "    .dataframe tbody tr th {\n",
       "        vertical-align: top;\n",
       "    }\n",
       "\n",
       "    .dataframe thead th {\n",
       "        text-align: right;\n",
       "    }\n",
       "</style>\n",
       "<table border=\"1\" class=\"dataframe\">\n",
       "  <thead>\n",
       "    <tr style=\"text-align: right;\">\n",
       "      <th></th>\n",
       "      <th>order_ID</th>\n",
       "      <th>user_ID</th>\n",
       "      <th>sku_ID</th>\n",
       "      <th>order_date</th>\n",
       "      <th>order_time</th>\n",
       "      <th>quantity</th>\n",
       "      <th>type</th>\n",
       "      <th>promise</th>\n",
       "      <th>original_unit_price</th>\n",
       "      <th>final_unit_price</th>\n",
       "      <th>direct_discount_per_unit</th>\n",
       "      <th>quantity_discount_per_unit</th>\n",
       "      <th>bundle_discount_per_unit</th>\n",
       "      <th>coupon_discount_per_unit</th>\n",
       "      <th>gift_item</th>\n",
       "      <th>dc_ori</th>\n",
       "      <th>dc_des</th>\n",
       "    </tr>\n",
       "  </thead>\n",
       "  <tbody>\n",
       "    <tr>\n",
       "      <td>0</td>\n",
       "      <td>d0cf5cc6db</td>\n",
       "      <td>0abe9ef2ce</td>\n",
       "      <td>581d5b54c1</td>\n",
       "      <td>2018-03-01</td>\n",
       "      <td>2018-03-01 17:14:25.0</td>\n",
       "      <td>1</td>\n",
       "      <td>2</td>\n",
       "      <td>-</td>\n",
       "      <td>89.0</td>\n",
       "      <td>79.0</td>\n",
       "      <td>0.0</td>\n",
       "      <td>10.0</td>\n",
       "      <td>0.0</td>\n",
       "      <td>0.0</td>\n",
       "      <td>0</td>\n",
       "      <td>4</td>\n",
       "      <td>28</td>\n",
       "    </tr>\n",
       "    <tr>\n",
       "      <td>1</td>\n",
       "      <td>7444318d01</td>\n",
       "      <td>33a9e56257</td>\n",
       "      <td>067b673f2b</td>\n",
       "      <td>2018-03-01</td>\n",
       "      <td>2018-03-01 11:10:40.0</td>\n",
       "      <td>1</td>\n",
       "      <td>1</td>\n",
       "      <td>2</td>\n",
       "      <td>99.9</td>\n",
       "      <td>53.9</td>\n",
       "      <td>5.0</td>\n",
       "      <td>41.0</td>\n",
       "      <td>0.0</td>\n",
       "      <td>0.0</td>\n",
       "      <td>0</td>\n",
       "      <td>28</td>\n",
       "      <td>28</td>\n",
       "    </tr>\n",
       "    <tr>\n",
       "      <td>2</td>\n",
       "      <td>f973b01694</td>\n",
       "      <td>4ea3cf408f</td>\n",
       "      <td>623d0a582a</td>\n",
       "      <td>2018-03-01</td>\n",
       "      <td>2018-03-01 09:13:26.0</td>\n",
       "      <td>1</td>\n",
       "      <td>1</td>\n",
       "      <td>2</td>\n",
       "      <td>78.0</td>\n",
       "      <td>58.5</td>\n",
       "      <td>19.5</td>\n",
       "      <td>0.0</td>\n",
       "      <td>0.0</td>\n",
       "      <td>0.0</td>\n",
       "      <td>0</td>\n",
       "      <td>28</td>\n",
       "      <td>28</td>\n",
       "    </tr>\n",
       "    <tr>\n",
       "      <td>3</td>\n",
       "      <td>8c1cec8d4b</td>\n",
       "      <td>b87cb736cb</td>\n",
       "      <td>fc5289b139</td>\n",
       "      <td>2018-03-01</td>\n",
       "      <td>2018-03-01 21:29:50.0</td>\n",
       "      <td>1</td>\n",
       "      <td>1</td>\n",
       "      <td>2</td>\n",
       "      <td>61.0</td>\n",
       "      <td>35.0</td>\n",
       "      <td>0.0</td>\n",
       "      <td>26.0</td>\n",
       "      <td>0.0</td>\n",
       "      <td>0.0</td>\n",
       "      <td>0</td>\n",
       "      <td>4</td>\n",
       "      <td>28</td>\n",
       "    </tr>\n",
       "    <tr>\n",
       "      <td>4</td>\n",
       "      <td>d43a33c38a</td>\n",
       "      <td>4829223b6f</td>\n",
       "      <td>623d0a582a</td>\n",
       "      <td>2018-03-01</td>\n",
       "      <td>2018-03-01 19:13:37.0</td>\n",
       "      <td>1</td>\n",
       "      <td>1</td>\n",
       "      <td>1</td>\n",
       "      <td>78.0</td>\n",
       "      <td>53.0</td>\n",
       "      <td>19.0</td>\n",
       "      <td>0.0</td>\n",
       "      <td>0.0</td>\n",
       "      <td>6.0</td>\n",
       "      <td>0</td>\n",
       "      <td>3</td>\n",
       "      <td>16</td>\n",
       "    </tr>\n",
       "  </tbody>\n",
       "</table>\n",
       "</div>"
      ],
      "text/plain": [
       "     order_ID     user_ID      sku_ID  order_date             order_time  \\\n",
       "0  d0cf5cc6db  0abe9ef2ce  581d5b54c1  2018-03-01  2018-03-01 17:14:25.0   \n",
       "1  7444318d01  33a9e56257  067b673f2b  2018-03-01  2018-03-01 11:10:40.0   \n",
       "2  f973b01694  4ea3cf408f  623d0a582a  2018-03-01  2018-03-01 09:13:26.0   \n",
       "3  8c1cec8d4b  b87cb736cb  fc5289b139  2018-03-01  2018-03-01 21:29:50.0   \n",
       "4  d43a33c38a  4829223b6f  623d0a582a  2018-03-01  2018-03-01 19:13:37.0   \n",
       "\n",
       "   quantity  type promise  original_unit_price  final_unit_price  \\\n",
       "0         1     2       -                 89.0              79.0   \n",
       "1         1     1       2                 99.9              53.9   \n",
       "2         1     1       2                 78.0              58.5   \n",
       "3         1     1       2                 61.0              35.0   \n",
       "4         1     1       1                 78.0              53.0   \n",
       "\n",
       "   direct_discount_per_unit  quantity_discount_per_unit  \\\n",
       "0                       0.0                        10.0   \n",
       "1                       5.0                        41.0   \n",
       "2                      19.5                         0.0   \n",
       "3                       0.0                        26.0   \n",
       "4                      19.0                         0.0   \n",
       "\n",
       "   bundle_discount_per_unit  coupon_discount_per_unit  gift_item  dc_ori  \\\n",
       "0                       0.0                       0.0          0       4   \n",
       "1                       0.0                       0.0          0      28   \n",
       "2                       0.0                       0.0          0      28   \n",
       "3                       0.0                       0.0          0       4   \n",
       "4                       0.0                       6.0          0       3   \n",
       "\n",
       "   dc_des  \n",
       "0      28  \n",
       "1      28  \n",
       "2      28  \n",
       "3      28  \n",
       "4      16  "
      ]
     },
     "execution_count": 25,
     "metadata": {},
     "output_type": "execute_result"
    }
   ],
   "source": [
    "orders.head()"
   ]
  },
  {
   "cell_type": "code",
   "execution_count": 7,
   "metadata": {
    "ExecuteTime": {
     "end_time": "2020-01-01T11:05:02.104076Z",
     "start_time": "2020-01-01T11:05:01.619776Z"
    }
   },
   "outputs": [
    {
     "data": {
      "image/png": "[encoded data removed]",
      "text/plain": [
       "<matplotlib.figure.Figure at 0x1c61997f630>"
      ]
     },
     "metadata": {},
     "output_type": "display_data"
    }
   ],
   "source": [
    "plt.boxplot(orders['quantity'])\n",
    "plt.show()"
   ]
  },
  {
   "cell_type": "code",
   "execution_count": 15,
   "metadata": {
    "ExecuteTime": {
     "end_time": "2020-01-01T14:08:24.541596Z",
     "start_time": "2020-01-01T14:08:24.519658Z"
    },
    "scrolled": true
   },
   "outputs": [
    {
     "data": {
      "text/plain": [
       "1      478097\n",
       "2       56828\n",
       "3        8875\n",
       "4        2855\n",
       "5        1338\n",
       "6         464\n",
       "7         255\n",
       "10        243\n",
       "9         185\n",
       "8         140\n",
       "11        121\n",
       "24         72\n",
       "30         68\n",
       "20         61\n",
       "12         54\n",
       "50         37\n",
       "15         24\n",
       "13         21\n",
       "16         20\n",
       "14         15\n",
       "18         14\n",
       "23         13\n",
       "26         12\n",
       "17         11\n",
       "40         11\n",
       "36          9\n",
       "25          9\n",
       "21          8\n",
       "22          7\n",
       "19          7\n",
       "        ...  \n",
       "33          1\n",
       "34          1\n",
       "250         1\n",
       "220         1\n",
       "196         1\n",
       "192         1\n",
       "145         1\n",
       "144         1\n",
       "139         1\n",
       "132         1\n",
       "126         1\n",
       "110         1\n",
       "98          1\n",
       "92          1\n",
       "89          1\n",
       "84          1\n",
       "78          1\n",
       "74          1\n",
       "73          1\n",
       "72          1\n",
       "65          1\n",
       "60          1\n",
       "57          1\n",
       "350         1\n",
       "46          1\n",
       "45          1\n",
       "44          1\n",
       "42          1\n",
       "41          1\n",
       "49          1\n",
       "Name: quantity, Length: 89, dtype: int64"
      ]
     },
     "execution_count": 15,
     "metadata": {},
     "output_type": "execute_result"
    }
   ],
   "source": [
    "orders['quantity'].value_counts()"
   ]
  },
  {
   "cell_type": "code",
   "execution_count": 65,
   "metadata": {},
   "outputs": [
    {
     "data": {
      "text/plain": [
       "count    549989.000000\n",
       "mean          1.216670\n",
       "std           1.844589\n",
       "min           1.000000\n",
       "25%           1.000000\n",
       "50%           1.000000\n",
       "75%           1.000000\n",
       "max         400.000000\n",
       "Name: quantity, dtype: float64"
      ]
     },
     "execution_count": 65,
     "metadata": {},
     "output_type": "execute_result"
    }
   ],
   "source": [
    "orders['quantity'].describe()"
   ]
  },
  {
   "cell_type": "markdown",
   "metadata": {},
   "source": [
    "### 非gift数量"
   ]
  },
  {
   "cell_type": "code",
   "execution_count": 84,
   "metadata": {},
   "outputs": [
    {
     "data": {
      "text/plain": [
       "(94606, 17)"
      ]
     },
     "execution_count": 84,
     "metadata": {},
     "output_type": "execute_result"
    }
   ],
   "source": [
    "orders[orders['gift_item']==1].shape"
   ]
  },
  {
   "cell_type": "code",
   "execution_count": 5,
   "metadata": {
    "ExecuteTime": {
     "end_time": "2020-01-01T14:09:43.011616Z",
     "start_time": "2020-01-01T14:09:42.875981Z"
    },
    "collapsed": true
   },
   "outputs": [],
   "source": [
    "# only consider orders whose quantity equal to 1 and are not gift\n",
    "\n",
    "orders1 = orders[(orders['quantity']==1) & (orders['gift_item']==0)].copy()"
   ]
  },
  {
   "cell_type": "code",
   "execution_count": 87,
   "metadata": {},
   "outputs": [
    {
     "data": {
      "text/plain": [
       "(399626, 17)"
      ]
     },
     "execution_count": 87,
     "metadata": {},
     "output_type": "execute_result"
    }
   ],
   "source": [
    "orders1.shape"
   ]
  },
  {
   "cell_type": "code",
   "execution_count": 91,
   "metadata": {
    "scrolled": true
   },
   "outputs": [
    {
     "data": {
      "text/plain": [
       "f9bc89251f    39\n",
       "ab3619b901    18\n",
       "a362b61198    15\n",
       "27d131f91a    15\n",
       "f0448f9506    14\n",
       "098115e76c    14\n",
       "aeaa7ff229    14\n",
       "ccb91cc6dc    14\n",
       "f5430c4f62    14\n",
       "cebb09c0f0    12\n",
       "84afadc522    12\n",
       "0556a794df    12\n",
       "b1066f591e    12\n",
       "cfed2552df    12\n",
       "d92a9c9e61    12\n",
       "5e21e84c4d    12\n",
       "09f7af0b7a    12\n",
       "182003dc67    12\n",
       "a69a262881    12\n",
       "09359ee255    12\n",
       "Name: order_ID, dtype: int64"
      ]
     },
     "execution_count": 91,
     "metadata": {},
     "output_type": "execute_result"
    }
   ],
   "source": [
    "orders['order_ID'].value_counts()[:20]"
   ]
  },
  {
   "cell_type": "code",
   "execution_count": 90,
   "metadata": {
    "scrolled": true
   },
   "outputs": [
    {
     "data": {
      "text/plain": [
       "857617210f    8\n",
       "f229140ef0    8\n",
       "21a46e2dfb    7\n",
       "b2b1d5463d    7\n",
       "3ae4132268    6\n",
       "06a4a6916b    6\n",
       "40a6299d07    5\n",
       "aeaa7ff229    5\n",
       "9e8304b29f    5\n",
       "83414204e2    5\n",
       "02e05f2599    5\n",
       "098115e76c    5\n",
       "b64ce2d6bd    5\n",
       "4e80755244    5\n",
       "f0448f9506    5\n",
       "f5430c4f62    5\n",
       "0074ef15ca    5\n",
       "45aed68c88    5\n",
       "d37b85a371    5\n",
       "f172572d29    5\n",
       "Name: order_ID, dtype: int64"
      ]
     },
     "execution_count": 90,
     "metadata": {},
     "output_type": "execute_result"
    }
   ],
   "source": [
    "orders1['order_ID'].value_counts()[:20]"
   ]
  },
  {
   "cell_type": "markdown",
   "metadata": {},
   "source": [
    "Conclusion:\n",
    "\n",
    "* 如果同一个user有很多order，那么大部分order都是gift"
   ]
  },
  {
   "cell_type": "markdown",
   "metadata": {},
   "source": [
    "### 从小商店user入手"
   ]
  },
  {
   "cell_type": "code",
   "execution_count": 6,
   "metadata": {
    "ExecuteTime": {
     "end_time": "2020-01-01T14:10:16.502505Z",
     "start_time": "2020-01-01T14:10:16.495493Z"
    },
    "collapsed": true
   },
   "outputs": [],
   "source": [
    "# enterprise user\n",
    "enterpriseUser = users[users[\"user_level\"]==10]['user_ID']"
   ]
  },
  {
   "cell_type": "code",
   "execution_count": 26,
   "metadata": {
    "ExecuteTime": {
     "end_time": "2020-01-01T14:39:28.281428Z",
     "start_time": "2020-01-01T14:39:28.245554Z"
    }
   },
   "outputs": [
    {
     "data": {
      "text/plain": [
       "0.011828559703322607"
      ]
     },
     "execution_count": 26,
     "metadata": {},
     "output_type": "execute_result"
    }
   ],
   "source": [
    "orders1[orders1['user_ID'].isin(enterpriseUser)].shape[0]/orders1.shape[0]"
   ]
  },
  {
   "cell_type": "markdown",
   "metadata": {},
   "source": [
    "* 小商店user的order量占总量的1.18%"
   ]
  },
  {
   "cell_type": "code",
   "execution_count": 98,
   "metadata": {},
   "outputs": [
    {
     "data": {
      "text/plain": [
       "2d25359f9b    552\n",
       "c1c8327987    501\n",
       "1a75247e23    154\n",
       "7ea01030cb    151\n",
       "bd2cea0899    146\n",
       "             ... \n",
       "10184dc33a      1\n",
       "c99f5fc246      1\n",
       "9b3a86f650      1\n",
       "bd711bf5c7      1\n",
       "016b2b3f13      1\n",
       "Name: user_ID, Length: 730, dtype: int64"
      ]
     },
     "execution_count": 98,
     "metadata": {},
     "output_type": "execute_result"
    }
   ],
   "source": [
    "orders1[orders1['user_ID'].isin(enterpriseUser)]['user_ID'].value_counts()"
   ]
  },
  {
   "cell_type": "markdown",
   "metadata": {},
   "source": [
    "**以order量最大的商店user为例**"
   ]
  },
  {
   "cell_type": "code",
   "execution_count": 7,
   "metadata": {
    "ExecuteTime": {
     "end_time": "2020-01-01T14:10:36.804731Z",
     "start_time": "2020-01-01T14:10:36.756860Z"
    },
    "collapsed": true
   },
   "outputs": [],
   "source": [
    "eg = orders1[orders1['user_ID']=='2d25359f9b'].copy()"
   ]
  },
  {
   "cell_type": "code",
   "execution_count": 20,
   "metadata": {
    "ExecuteTime": {
     "end_time": "2020-01-01T14:10:44.958056Z",
     "start_time": "2020-01-01T14:10:44.944096Z"
    },
    "scrolled": true
   },
   "outputs": [
    {
     "data": {
      "text/plain": [
       "38d636d2a6    116\n",
       "81e57cbc50    106\n",
       "c56544784c     91\n",
       "8dc4a01dec     66\n",
       "7f947c0055     54\n",
       "589c2b865b     47\n",
       "4b65db43ac     42\n",
       "915cd3c4c0     30\n",
       "Name: sku_ID, dtype: int64"
      ]
     },
     "execution_count": 20,
     "metadata": {},
     "output_type": "execute_result"
    }
   ],
   "source": [
    "eg['sku_ID'].value_counts()"
   ]
  },
  {
   "cell_type": "code",
   "execution_count": 27,
   "metadata": {
    "ExecuteTime": {
     "end_time": "2020-01-01T14:40:16.909075Z",
     "start_time": "2020-01-01T14:40:16.870148Z"
    }
   },
   "outputs": [
    {
     "data": {
      "text/plain": [
       "0.0009262475396549728"
      ]
     },
     "execution_count": 27,
     "metadata": {},
     "output_type": "execute_result"
    }
   ],
   "source": [
    "8/len(orders1[\"sku_ID\"].unique())"
   ]
  },
  {
   "cell_type": "code",
   "execution_count": 35,
   "metadata": {
    "ExecuteTime": {
     "end_time": "2020-01-01T14:43:46.421699Z",
     "start_time": "2020-01-01T14:43:46.333898Z"
    }
   },
   "outputs": [
    {
     "data": {
      "text/plain": [
       "0.0037635192668664472"
      ]
     },
     "execution_count": 35,
     "metadata": {},
     "output_type": "execute_result"
    }
   ],
   "source": [
    "# 8个占type=1的比例\n",
    "8/sum(orders1[\"sku_ID\"].isin(skus[skus['type']==1][\"sku_ID\"]))"
   ]
  },
  {
   "cell_type": "code",
   "execution_count": 23,
   "metadata": {
    "ExecuteTime": {
     "end_time": "2020-01-01T14:34:45.526182Z",
     "start_time": "2020-01-01T14:34:45.497262Z"
    }
   },
   "outputs": [
    {
     "data": {
      "text/plain": [
       "0.07574332000420393"
      ]
     },
     "execution_count": 23,
     "metadata": {},
     "output_type": "execute_result"
    }
   ],
   "source": [
    "orders1[orders1['sku_ID'].isin(eg['sku_ID'])].shape[0]/orders1.shape[0]"
   ]
  },
  {
   "cell_type": "code",
   "execution_count": 21,
   "metadata": {
    "ExecuteTime": {
     "end_time": "2020-01-01T14:11:02.392910Z",
     "start_time": "2020-01-01T14:11:02.363988Z"
    }
   },
   "outputs": [
    {
     "data": {
      "text/html": [
       "<div>\n",
       "<style scoped>\n",
       "    .dataframe tbody tr th:only-of-type {\n",
       "        vertical-align: middle;\n",
       "    }\n",
       "\n",
       "    .dataframe tbody tr th {\n",
       "        vertical-align: top;\n",
       "    }\n",
       "\n",
       "    .dataframe thead th {\n",
       "        text-align: right;\n",
       "    }\n",
       "</style>\n",
       "<table border=\"1\" class=\"dataframe\">\n",
       "  <thead>\n",
       "    <tr style=\"text-align: right;\">\n",
       "      <th></th>\n",
       "      <th>sku_ID</th>\n",
       "      <th>type</th>\n",
       "      <th>brand_ID</th>\n",
       "      <th>attribute1</th>\n",
       "      <th>attribute2</th>\n",
       "      <th>activate_date</th>\n",
       "      <th>deactivate_date</th>\n",
       "    </tr>\n",
       "  </thead>\n",
       "  <tbody>\n",
       "    <tr>\n",
       "      <th>111</th>\n",
       "      <td>c56544784c</td>\n",
       "      <td>1</td>\n",
       "      <td>99d41501ff</td>\n",
       "      <td>3.0</td>\n",
       "      <td>100.0</td>\n",
       "      <td>NaN</td>\n",
       "      <td>NaN</td>\n",
       "    </tr>\n",
       "    <tr>\n",
       "      <th>160</th>\n",
       "      <td>7f947c0055</td>\n",
       "      <td>1</td>\n",
       "      <td>a2ff0f7b48</td>\n",
       "      <td>3.0</td>\n",
       "      <td>100.0</td>\n",
       "      <td>NaN</td>\n",
       "      <td>NaN</td>\n",
       "    </tr>\n",
       "    <tr>\n",
       "      <th>256</th>\n",
       "      <td>8dc4a01dec</td>\n",
       "      <td>1</td>\n",
       "      <td>43999af013</td>\n",
       "      <td>3.0</td>\n",
       "      <td>100.0</td>\n",
       "      <td>NaN</td>\n",
       "      <td>NaN</td>\n",
       "    </tr>\n",
       "    <tr>\n",
       "      <th>1988</th>\n",
       "      <td>81e57cbc50</td>\n",
       "      <td>1</td>\n",
       "      <td>99d41501ff</td>\n",
       "      <td>4.0</td>\n",
       "      <td>100.0</td>\n",
       "      <td>NaN</td>\n",
       "      <td>NaN</td>\n",
       "    </tr>\n",
       "    <tr>\n",
       "      <th>2916</th>\n",
       "      <td>38d636d2a6</td>\n",
       "      <td>1</td>\n",
       "      <td>204dbedf50</td>\n",
       "      <td>3.0</td>\n",
       "      <td>100.0</td>\n",
       "      <td>NaN</td>\n",
       "      <td>NaN</td>\n",
       "    </tr>\n",
       "    <tr>\n",
       "      <th>3391</th>\n",
       "      <td>4b65db43ac</td>\n",
       "      <td>1</td>\n",
       "      <td>43999af013</td>\n",
       "      <td>3.0</td>\n",
       "      <td>100.0</td>\n",
       "      <td>NaN</td>\n",
       "      <td>NaN</td>\n",
       "    </tr>\n",
       "    <tr>\n",
       "      <th>4863</th>\n",
       "      <td>915cd3c4c0</td>\n",
       "      <td>1</td>\n",
       "      <td>fbee78d4ae</td>\n",
       "      <td>2.0</td>\n",
       "      <td>-</td>\n",
       "      <td>NaN</td>\n",
       "      <td>NaN</td>\n",
       "    </tr>\n",
       "    <tr>\n",
       "      <th>5075</th>\n",
       "      <td>589c2b865b</td>\n",
       "      <td>1</td>\n",
       "      <td>9b0d3a5fc6</td>\n",
       "      <td>3.0</td>\n",
       "      <td>60.0</td>\n",
       "      <td>NaN</td>\n",
       "      <td>NaN</td>\n",
       "    </tr>\n",
       "  </tbody>\n",
       "</table>\n",
       "</div>"
      ],
      "text/plain": [
       "          sku_ID  type    brand_ID attribute1 attribute2 activate_date  \\\n",
       "111   c56544784c     1  99d41501ff        3.0      100.0           NaN   \n",
       "160   7f947c0055     1  a2ff0f7b48        3.0      100.0           NaN   \n",
       "256   8dc4a01dec     1  43999af013        3.0      100.0           NaN   \n",
       "1988  81e57cbc50     1  99d41501ff        4.0      100.0           NaN   \n",
       "2916  38d636d2a6     1  204dbedf50        3.0      100.0           NaN   \n",
       "3391  4b65db43ac     1  43999af013        3.0      100.0           NaN   \n",
       "4863  915cd3c4c0     1  fbee78d4ae        2.0          -           NaN   \n",
       "5075  589c2b865b     1  9b0d3a5fc6        3.0       60.0           NaN   \n",
       "\n",
       "     deactivate_date  \n",
       "111              NaN  \n",
       "160              NaN  \n",
       "256              NaN  \n",
       "1988             NaN  \n",
       "2916             NaN  \n",
       "3391             NaN  \n",
       "4863             NaN  \n",
       "5075             NaN  "
      ]
     },
     "execution_count": 21,
     "metadata": {},
     "output_type": "execute_result"
    }
   ],
   "source": [
    "skus[skus['sku_ID'].isin(eg['sku_ID'].unique())]"
   ]
  },
  {
   "cell_type": "markdown",
   "metadata": {},
   "source": [
    "**Conclusion**\n",
    "\n",
    "* user_ID = \"2d25359f9b\" 的全部552个order只来自8个sku_ID\n",
    "* 8个sku_ID只占sku_ID总量的0.09%， 但这8个sku_ID的order量占总量的7.58%\n",
    "* 这8个都是 type=1（京东自营）的，事实上超过53%的order都是买的京东自营，虽然京东自营的sku_ID只占3.6%"
   ]
  },
  {
   "cell_type": "markdown",
   "metadata": {},
   "source": [
    "### 以这8个sku为set进行分析"
   ]
  },
  {
   "cell_type": "code",
   "execution_count": 8,
   "metadata": {
    "ExecuteTime": {
     "end_time": "2020-01-01T14:57:18.522839Z",
     "start_time": "2020-01-01T14:57:18.515856Z"
    },
    "collapsed": true
   },
   "outputs": [],
   "source": [
    "skuSet = eg['sku_ID'].unique()"
   ]
  },
  {
   "cell_type": "code",
   "execution_count": 9,
   "metadata": {
    "ExecuteTime": {
     "end_time": "2020-01-01T14:57:21.672080Z",
     "start_time": "2020-01-01T14:57:21.663107Z"
    }
   },
   "outputs": [
    {
     "data": {
      "text/plain": [
       "array(['81e57cbc50', '38d636d2a6', '589c2b865b', '8dc4a01dec',\n",
       "       '7f947c0055', 'c56544784c', '4b65db43ac', '915cd3c4c0'],\n",
       "      dtype=object)"
      ]
     },
     "execution_count": 9,
     "metadata": {},
     "output_type": "execute_result"
    }
   ],
   "source": [
    "skuSet"
   ]
  },
  {
   "cell_type": "markdown",
   "metadata": {},
   "source": [
    "**分析clicks数据，看这8个sku是否经常被比较**"
   ]
  },
  {
   "cell_type": "code",
   "execution_count": 44,
   "metadata": {
    "ExecuteTime": {
     "end_time": "2020-01-01T14:59:06.734908Z",
     "start_time": "2020-01-01T14:59:06.726933Z"
    }
   },
   "outputs": [
    {
     "data": {
      "text/plain": [
       "(20214515, 4)"
      ]
     },
     "execution_count": 44,
     "metadata": {},
     "output_type": "execute_result"
    }
   ],
   "source": [
    "clicks.shape"
   ]
  },
  {
   "cell_type": "code",
   "execution_count": 10,
   "metadata": {
    "ExecuteTime": {
     "end_time": "2020-01-01T15:25:19.178352Z",
     "start_time": "2020-01-01T15:25:17.121400Z"
    },
    "collapsed": true
   },
   "outputs": [],
   "source": [
    "clk = clicks[clicks['sku_ID'].isin(skuSet)].copy()\n",
    "clk.reset_index(inplace=True,drop=True)"
   ]
  },
  {
   "cell_type": "code",
   "execution_count": 11,
   "metadata": {
    "ExecuteTime": {
     "end_time": "2020-01-01T15:25:20.065091Z",
     "start_time": "2020-01-01T15:25:20.059000Z"
    }
   },
   "outputs": [
    {
     "data": {
      "text/plain": [
       "(1345435, 4)"
      ]
     },
     "execution_count": 11,
     "metadata": {},
     "output_type": "execute_result"
    }
   ],
   "source": [
    "clk.shape"
   ]
  },
  {
   "cell_type": "code",
   "execution_count": 76,
   "metadata": {
    "ExecuteTime": {
     "end_time": "2020-01-01T15:25:20.973443Z",
     "start_time": "2020-01-01T15:25:20.968025Z"
    }
   },
   "outputs": [
    {
     "data": {
      "text/plain": [
       "0.06655786695847019"
      ]
     },
     "execution_count": 76,
     "metadata": {},
     "output_type": "execute_result"
    }
   ],
   "source": [
    "clk.shape[0]/clicks.shape[0]"
   ]
  },
  {
   "cell_type": "markdown",
   "metadata": {},
   "source": [
    "* 这8个sku的clicks量占总体的6.66%，比较大"
   ]
  },
  {
   "cell_type": "code",
   "execution_count": 77,
   "metadata": {
    "ExecuteTime": {
     "end_time": "2020-01-01T15:38:42.825038Z",
     "start_time": "2020-01-01T15:25:24.179221Z"
    },
    "collapsed": true
   },
   "outputs": [],
   "source": [
    "clk['request_time'] = pd.to_datetime(clk['request_time'])\n",
    "clk = clk.groupby('user_ID',group_keys=False).apply(lambda x: x.sort_values('request_time'))\n",
    "clk.reset_index(inplace=True,drop=True)"
   ]
  },
  {
   "cell_type": "code",
   "execution_count": 12,
   "metadata": {
    "ExecuteTime": {
     "end_time": "2020-01-01T15:42:04.841020Z",
     "start_time": "2020-01-01T15:41:49.148481Z"
    }
   },
   "outputs": [
    {
     "name": "stderr",
     "output_type": "stream",
     "text": [
      "C:\\Users\\ISETYU\\AppData\\Local\\Continuum\\anaconda3\\lib\\site-packages\\numpy\\lib\\arraysetops.py:569: FutureWarning: elementwise comparison failed; returning scalar instead, but in the future will perform elementwise comparison\n",
      "  mask |= (ar1 == a)\n"
     ]
    }
   ],
   "source": [
    "# clk.to_csv(\"clk.csv\")\n",
    "clk = pd.read_csv(\"clk.csv\",index_col=0)\n",
    "clk['request_time'] = pd.to_datetime(clk['request_time'])"
   ]
  },
  {
   "cell_type": "code",
   "execution_count": 13,
   "metadata": {},
   "outputs": [
    {
     "data": {
      "text/html": [
       "<div>\n",
       "<style scoped>\n",
       "    .dataframe tbody tr th:only-of-type {\n",
       "        vertical-align: middle;\n",
       "    }\n",
       "\n",
       "    .dataframe tbody tr th {\n",
       "        vertical-align: top;\n",
       "    }\n",
       "\n",
       "    .dataframe thead th {\n",
       "        text-align: right;\n",
       "    }\n",
       "</style>\n",
       "<table border=\"1\" class=\"dataframe\">\n",
       "  <thead>\n",
       "    <tr style=\"text-align: right;\">\n",
       "      <th></th>\n",
       "      <th>sku_ID</th>\n",
       "      <th>user_ID</th>\n",
       "      <th>request_time</th>\n",
       "      <th>channel</th>\n",
       "    </tr>\n",
       "  </thead>\n",
       "  <tbody>\n",
       "    <tr>\n",
       "      <td>0</td>\n",
       "      <td>8dc4a01dec</td>\n",
       "      <td>-</td>\n",
       "      <td>2018-03-01 00:00:00</td>\n",
       "      <td>wechat</td>\n",
       "    </tr>\n",
       "    <tr>\n",
       "      <td>1</td>\n",
       "      <td>38d636d2a6</td>\n",
       "      <td>-</td>\n",
       "      <td>2018-03-01 00:05:45</td>\n",
       "      <td>mobile</td>\n",
       "    </tr>\n",
       "    <tr>\n",
       "      <td>2</td>\n",
       "      <td>c56544784c</td>\n",
       "      <td>-</td>\n",
       "      <td>2018-03-01 00:06:57</td>\n",
       "      <td>mobile</td>\n",
       "    </tr>\n",
       "    <tr>\n",
       "      <td>3</td>\n",
       "      <td>81e57cbc50</td>\n",
       "      <td>-</td>\n",
       "      <td>2018-03-01 00:08:03</td>\n",
       "      <td>others</td>\n",
       "    </tr>\n",
       "    <tr>\n",
       "      <td>4</td>\n",
       "      <td>81e57cbc50</td>\n",
       "      <td>-</td>\n",
       "      <td>2018-03-01 00:08:03</td>\n",
       "      <td>others</td>\n",
       "    </tr>\n",
       "    <tr>\n",
       "      <td>...</td>\n",
       "      <td>...</td>\n",
       "      <td>...</td>\n",
       "      <td>...</td>\n",
       "      <td>...</td>\n",
       "    </tr>\n",
       "    <tr>\n",
       "      <td>1345430</td>\n",
       "      <td>8dc4a01dec</td>\n",
       "      <td>ffff1c176b</td>\n",
       "      <td>2018-03-27 01:39:10</td>\n",
       "      <td>app</td>\n",
       "    </tr>\n",
       "    <tr>\n",
       "      <td>1345431</td>\n",
       "      <td>8dc4a01dec</td>\n",
       "      <td>ffff1c176b</td>\n",
       "      <td>2018-03-27 01:41:09</td>\n",
       "      <td>app</td>\n",
       "    </tr>\n",
       "    <tr>\n",
       "      <td>1345432</td>\n",
       "      <td>589c2b865b</td>\n",
       "      <td>ffff34c273</td>\n",
       "      <td>2018-03-10 10:26:19</td>\n",
       "      <td>app</td>\n",
       "    </tr>\n",
       "    <tr>\n",
       "      <td>1345433</td>\n",
       "      <td>7f947c0055</td>\n",
       "      <td>ffffcae38e</td>\n",
       "      <td>2018-03-17 21:07:20</td>\n",
       "      <td>app</td>\n",
       "    </tr>\n",
       "    <tr>\n",
       "      <td>1345434</td>\n",
       "      <td>8dc4a01dec</td>\n",
       "      <td>fffff395f3</td>\n",
       "      <td>2018-03-02 08:53:12</td>\n",
       "      <td>wechat</td>\n",
       "    </tr>\n",
       "  </tbody>\n",
       "</table>\n",
       "<p>1345435 rows × 4 columns</p>\n",
       "</div>"
      ],
      "text/plain": [
       "             sku_ID     user_ID         request_time channel\n",
       "0        8dc4a01dec           -  2018-03-01 00:00:00  wechat\n",
       "1        38d636d2a6           -  2018-03-01 00:05:45  mobile\n",
       "2        c56544784c           -  2018-03-01 00:06:57  mobile\n",
       "3        81e57cbc50           -  2018-03-01 00:08:03  others\n",
       "4        81e57cbc50           -  2018-03-01 00:08:03  others\n",
       "...             ...         ...                  ...     ...\n",
       "1345430  8dc4a01dec  ffff1c176b  2018-03-27 01:39:10     app\n",
       "1345431  8dc4a01dec  ffff1c176b  2018-03-27 01:41:09     app\n",
       "1345432  589c2b865b  ffff34c273  2018-03-10 10:26:19     app\n",
       "1345433  7f947c0055  ffffcae38e  2018-03-17 21:07:20     app\n",
       "1345434  8dc4a01dec  fffff395f3  2018-03-02 08:53:12  wechat\n",
       "\n",
       "[1345435 rows x 4 columns]"
      ]
     },
     "execution_count": 13,
     "metadata": {},
     "output_type": "execute_result"
    }
   ],
   "source": [
    "clk"
   ]
  },
  {
   "cell_type": "code",
   "execution_count": 14,
   "metadata": {
    "ExecuteTime": {
     "end_time": "2020-01-01T15:47:05.096089Z",
     "start_time": "2020-01-01T15:47:04.640183Z"
    },
    "collapsed": true
   },
   "outputs": [],
   "source": [
    "clk = clk[~(clk['user_ID']=='-')]\n",
    "clk.reset_index(inplace=True,drop=True)"
   ]
  },
  {
   "cell_type": "code",
   "execution_count": 15,
   "metadata": {
    "ExecuteTime": {
     "end_time": "2020-01-01T15:47:07.123695Z",
     "start_time": "2020-01-01T15:47:07.115717Z"
    }
   },
   "outputs": [
    {
     "data": {
      "text/plain": [
       "(1252127, 4)"
      ]
     },
     "execution_count": 15,
     "metadata": {},
     "output_type": "execute_result"
    }
   ],
   "source": [
    "clk.shape"
   ]
  },
  {
   "cell_type": "code",
   "execution_count": 16,
   "metadata": {
    "ExecuteTime": {
     "end_time": "2020-01-01T16:28:48.982075Z",
     "start_time": "2020-01-01T16:28:48.971131Z"
    }
   },
   "outputs": [
    {
     "data": {
      "text/plain": [
       "array(['81e57cbc50', '38d636d2a6', '589c2b865b', '8dc4a01dec',\n",
       "       '7f947c0055', 'c56544784c', '4b65db43ac', '915cd3c4c0'],\n",
       "      dtype=object)"
      ]
     },
     "execution_count": 16,
     "metadata": {},
     "output_type": "execute_result"
    }
   ],
   "source": [
    "skuSet"
   ]
  },
  {
   "cell_type": "code",
   "execution_count": 17,
   "metadata": {
    "ExecuteTime": {
     "end_time": "2020-01-01T17:06:26.524263Z",
     "start_time": "2020-01-01T17:06:26.215005Z"
    }
   },
   "outputs": [
    {
     "data": {
      "text/plain": [
       "8dc4a01dec    372269\n",
       "38d636d2a6    216018\n",
       "81e57cbc50    149723\n",
       "7f947c0055    135548\n",
       "589c2b865b    131623\n",
       "4b65db43ac    122771\n",
       "c56544784c     69488\n",
       "915cd3c4c0     54687\n",
       "Name: sku_ID, dtype: int64"
      ]
     },
     "execution_count": 17,
     "metadata": {},
     "output_type": "execute_result"
    }
   ],
   "source": [
    "clk['sku_ID'].value_counts()"
   ]
  },
  {
   "cell_type": "code",
   "execution_count": 18,
   "metadata": {},
   "outputs": [
    {
     "data": {
      "text/html": [
       "<div>\n",
       "<style scoped>\n",
       "    .dataframe tbody tr th:only-of-type {\n",
       "        vertical-align: middle;\n",
       "    }\n",
       "\n",
       "    .dataframe tbody tr th {\n",
       "        vertical-align: top;\n",
       "    }\n",
       "\n",
       "    .dataframe thead th {\n",
       "        text-align: right;\n",
       "    }\n",
       "</style>\n",
       "<table border=\"1\" class=\"dataframe\">\n",
       "  <thead>\n",
       "    <tr style=\"text-align: right;\">\n",
       "      <th></th>\n",
       "      <th>sku_ID</th>\n",
       "      <th>user_ID</th>\n",
       "      <th>request_time</th>\n",
       "      <th>channel</th>\n",
       "    </tr>\n",
       "  </thead>\n",
       "  <tbody>\n",
       "    <tr>\n",
       "      <td>0</td>\n",
       "      <td>81e57cbc50</td>\n",
       "      <td>00009ca77d</td>\n",
       "      <td>2018-03-09 22:48:11</td>\n",
       "      <td>app</td>\n",
       "    </tr>\n",
       "    <tr>\n",
       "      <td>1</td>\n",
       "      <td>38d636d2a6</td>\n",
       "      <td>0000bacc15</td>\n",
       "      <td>2018-03-24 00:00:44</td>\n",
       "      <td>app</td>\n",
       "    </tr>\n",
       "    <tr>\n",
       "      <td>2</td>\n",
       "      <td>589c2b865b</td>\n",
       "      <td>0000dce472</td>\n",
       "      <td>2018-03-18 10:43:36</td>\n",
       "      <td>app</td>\n",
       "    </tr>\n",
       "    <tr>\n",
       "      <td>3</td>\n",
       "      <td>7f947c0055</td>\n",
       "      <td>000128ad21</td>\n",
       "      <td>2018-03-29 01:47:58</td>\n",
       "      <td>app</td>\n",
       "    </tr>\n",
       "    <tr>\n",
       "      <td>4</td>\n",
       "      <td>7f947c0055</td>\n",
       "      <td>000128ad21</td>\n",
       "      <td>2018-03-29 13:37:09</td>\n",
       "      <td>app</td>\n",
       "    </tr>\n",
       "    <tr>\n",
       "      <td>...</td>\n",
       "      <td>...</td>\n",
       "      <td>...</td>\n",
       "      <td>...</td>\n",
       "      <td>...</td>\n",
       "    </tr>\n",
       "    <tr>\n",
       "      <td>1252122</td>\n",
       "      <td>8dc4a01dec</td>\n",
       "      <td>ffff1c176b</td>\n",
       "      <td>2018-03-27 01:39:10</td>\n",
       "      <td>app</td>\n",
       "    </tr>\n",
       "    <tr>\n",
       "      <td>1252123</td>\n",
       "      <td>8dc4a01dec</td>\n",
       "      <td>ffff1c176b</td>\n",
       "      <td>2018-03-27 01:41:09</td>\n",
       "      <td>app</td>\n",
       "    </tr>\n",
       "    <tr>\n",
       "      <td>1252124</td>\n",
       "      <td>589c2b865b</td>\n",
       "      <td>ffff34c273</td>\n",
       "      <td>2018-03-10 10:26:19</td>\n",
       "      <td>app</td>\n",
       "    </tr>\n",
       "    <tr>\n",
       "      <td>1252125</td>\n",
       "      <td>7f947c0055</td>\n",
       "      <td>ffffcae38e</td>\n",
       "      <td>2018-03-17 21:07:20</td>\n",
       "      <td>app</td>\n",
       "    </tr>\n",
       "    <tr>\n",
       "      <td>1252126</td>\n",
       "      <td>8dc4a01dec</td>\n",
       "      <td>fffff395f3</td>\n",
       "      <td>2018-03-02 08:53:12</td>\n",
       "      <td>wechat</td>\n",
       "    </tr>\n",
       "  </tbody>\n",
       "</table>\n",
       "<p>1252127 rows × 4 columns</p>\n",
       "</div>"
      ],
      "text/plain": [
       "             sku_ID     user_ID         request_time channel\n",
       "0        81e57cbc50  00009ca77d  2018-03-09 22:48:11     app\n",
       "1        38d636d2a6  0000bacc15  2018-03-24 00:00:44     app\n",
       "2        589c2b865b  0000dce472  2018-03-18 10:43:36     app\n",
       "3        7f947c0055  000128ad21  2018-03-29 01:47:58     app\n",
       "4        7f947c0055  000128ad21  2018-03-29 13:37:09     app\n",
       "...             ...         ...                  ...     ...\n",
       "1252122  8dc4a01dec  ffff1c176b  2018-03-27 01:39:10     app\n",
       "1252123  8dc4a01dec  ffff1c176b  2018-03-27 01:41:09     app\n",
       "1252124  589c2b865b  ffff34c273  2018-03-10 10:26:19     app\n",
       "1252125  7f947c0055  ffffcae38e  2018-03-17 21:07:20     app\n",
       "1252126  8dc4a01dec  fffff395f3  2018-03-02 08:53:12  wechat\n",
       "\n",
       "[1252127 rows x 4 columns]"
      ]
     },
     "execution_count": 18,
     "metadata": {},
     "output_type": "execute_result"
    }
   ],
   "source": [
    "clk"
   ]
  },
  {
   "cell_type": "code",
   "execution_count": 19,
   "metadata": {},
   "outputs": [
    {
     "data": {
      "text/plain": [
       "(20214515, 4)"
      ]
     },
     "execution_count": 19,
     "metadata": {},
     "output_type": "execute_result"
    }
   ],
   "source": [
    "clicks.shape"
   ]
  },
  {
   "cell_type": "code",
   "execution_count": 20,
   "metadata": {
    "collapsed": true
   },
   "outputs": [],
   "source": [
    "clickTidy = clicks[~(clicks['user_ID']=='-')]"
   ]
  },
  {
   "cell_type": "code",
   "execution_count": 21,
   "metadata": {},
   "outputs": [
    {
     "data": {
      "text/plain": [
       "(17906095, 4)"
      ]
     },
     "execution_count": 21,
     "metadata": {},
     "output_type": "execute_result"
    }
   ],
   "source": [
    "clickTidy.shape"
   ]
  },
  {
   "cell_type": "code",
   "execution_count": 22,
   "metadata": {},
   "outputs": [
    {
     "data": {
      "text/html": [
       "<div>\n",
       "<style scoped>\n",
       "    .dataframe tbody tr th:only-of-type {\n",
       "        vertical-align: middle;\n",
       "    }\n",
       "\n",
       "    .dataframe tbody tr th {\n",
       "        vertical-align: top;\n",
       "    }\n",
       "\n",
       "    .dataframe thead th {\n",
       "        text-align: right;\n",
       "    }\n",
       "</style>\n",
       "<table border=\"1\" class=\"dataframe\">\n",
       "  <thead>\n",
       "    <tr style=\"text-align: right;\">\n",
       "      <th></th>\n",
       "      <th>sku_ID</th>\n",
       "      <th>user_ID</th>\n",
       "      <th>request_time</th>\n",
       "      <th>channel</th>\n",
       "    </tr>\n",
       "  </thead>\n",
       "  <tbody>\n",
       "    <tr>\n",
       "      <td>0</td>\n",
       "      <td>a234e08c57</td>\n",
       "      <td>4c3d6d10c2</td>\n",
       "      <td>2018-03-01 23:57:53</td>\n",
       "      <td>wechat</td>\n",
       "    </tr>\n",
       "    <tr>\n",
       "      <td>2</td>\n",
       "      <td>09b70fcd83</td>\n",
       "      <td>2791ec4485</td>\n",
       "      <td>2018-03-01 22:10:51</td>\n",
       "      <td>wechat</td>\n",
       "    </tr>\n",
       "    <tr>\n",
       "      <td>3</td>\n",
       "      <td>09b70fcd83</td>\n",
       "      <td>eb0718c1c9</td>\n",
       "      <td>2018-03-01 16:34:08</td>\n",
       "      <td>wechat</td>\n",
       "    </tr>\n",
       "    <tr>\n",
       "      <td>4</td>\n",
       "      <td>09b70fcd83</td>\n",
       "      <td>59f84cf342</td>\n",
       "      <td>2018-03-01 22:20:35</td>\n",
       "      <td>wechat</td>\n",
       "    </tr>\n",
       "    <tr>\n",
       "      <td>5</td>\n",
       "      <td>09b70fcd83</td>\n",
       "      <td>59f84cf342</td>\n",
       "      <td>2018-03-01 22:20:01</td>\n",
       "      <td>wechat</td>\n",
       "    </tr>\n",
       "    <tr>\n",
       "      <td>...</td>\n",
       "      <td>...</td>\n",
       "      <td>...</td>\n",
       "      <td>...</td>\n",
       "      <td>...</td>\n",
       "    </tr>\n",
       "    <tr>\n",
       "      <td>20214491</td>\n",
       "      <td>904fbf8b97</td>\n",
       "      <td>654cdf01f2</td>\n",
       "      <td>2018-03-31 08:41:55</td>\n",
       "      <td>others</td>\n",
       "    </tr>\n",
       "    <tr>\n",
       "      <td>20214496</td>\n",
       "      <td>5f58bfd286</td>\n",
       "      <td>904ede5908</td>\n",
       "      <td>2018-03-31 21:59:17</td>\n",
       "      <td>others</td>\n",
       "    </tr>\n",
       "    <tr>\n",
       "      <td>20214498</td>\n",
       "      <td>5f58bfd286</td>\n",
       "      <td>cd789954ed</td>\n",
       "      <td>2018-03-31 07:35:05</td>\n",
       "      <td>others</td>\n",
       "    </tr>\n",
       "    <tr>\n",
       "      <td>20214505</td>\n",
       "      <td>019dedb453</td>\n",
       "      <td>9b1fde91de</td>\n",
       "      <td>2018-03-31 07:07:26</td>\n",
       "      <td>others</td>\n",
       "    </tr>\n",
       "    <tr>\n",
       "      <td>20214506</td>\n",
       "      <td>019dedb453</td>\n",
       "      <td>9b1fde91de</td>\n",
       "      <td>2018-03-31 07:09:02</td>\n",
       "      <td>others</td>\n",
       "    </tr>\n",
       "  </tbody>\n",
       "</table>\n",
       "<p>17906095 rows × 4 columns</p>\n",
       "</div>"
      ],
      "text/plain": [
       "              sku_ID     user_ID         request_time channel\n",
       "0         a234e08c57  4c3d6d10c2  2018-03-01 23:57:53  wechat\n",
       "2         09b70fcd83  2791ec4485  2018-03-01 22:10:51  wechat\n",
       "3         09b70fcd83  eb0718c1c9  2018-03-01 16:34:08  wechat\n",
       "4         09b70fcd83  59f84cf342  2018-03-01 22:20:35  wechat\n",
       "5         09b70fcd83  59f84cf342  2018-03-01 22:20:01  wechat\n",
       "...              ...         ...                  ...     ...\n",
       "20214491  904fbf8b97  654cdf01f2  2018-03-31 08:41:55  others\n",
       "20214496  5f58bfd286  904ede5908  2018-03-31 21:59:17  others\n",
       "20214498  5f58bfd286  cd789954ed  2018-03-31 07:35:05  others\n",
       "20214505  019dedb453  9b1fde91de  2018-03-31 07:07:26  others\n",
       "20214506  019dedb453  9b1fde91de  2018-03-31 07:09:02  others\n",
       "\n",
       "[17906095 rows x 4 columns]"
      ]
     },
     "execution_count": 22,
     "metadata": {},
     "output_type": "execute_result"
    }
   ],
   "source": [
    "clickTidy"
   ]
  },
  {
   "cell_type": "code",
   "execution_count": 24,
   "metadata": {},
   "outputs": [
    {
     "data": {
      "text/html": [
       "<div>\n",
       "<style scoped>\n",
       "    .dataframe tbody tr th:only-of-type {\n",
       "        vertical-align: middle;\n",
       "    }\n",
       "\n",
       "    .dataframe tbody tr th {\n",
       "        vertical-align: top;\n",
       "    }\n",
       "\n",
       "    .dataframe thead th {\n",
       "        text-align: right;\n",
       "    }\n",
       "</style>\n",
       "<table border=\"1\" class=\"dataframe\">\n",
       "  <thead>\n",
       "    <tr style=\"text-align: right;\">\n",
       "      <th></th>\n",
       "      <th>user_ID</th>\n",
       "      <th>user_level</th>\n",
       "      <th>first_order_month</th>\n",
       "      <th>plus</th>\n",
       "      <th>gender</th>\n",
       "      <th>age</th>\n",
       "      <th>marital_status</th>\n",
       "      <th>education</th>\n",
       "      <th>city_level</th>\n",
       "      <th>purchase_power</th>\n",
       "    </tr>\n",
       "  </thead>\n",
       "  <tbody>\n",
       "    <tr>\n",
       "      <td>0</td>\n",
       "      <td>000089d6a6</td>\n",
       "      <td>1</td>\n",
       "      <td>2017-08</td>\n",
       "      <td>0</td>\n",
       "      <td>F</td>\n",
       "      <td>26-35</td>\n",
       "      <td>S</td>\n",
       "      <td>3</td>\n",
       "      <td>4</td>\n",
       "      <td>3</td>\n",
       "    </tr>\n",
       "    <tr>\n",
       "      <td>1</td>\n",
       "      <td>0000babd1f</td>\n",
       "      <td>1</td>\n",
       "      <td>2018-03</td>\n",
       "      <td>0</td>\n",
       "      <td>U</td>\n",
       "      <td>U</td>\n",
       "      <td>U</td>\n",
       "      <td>-1</td>\n",
       "      <td>-1</td>\n",
       "      <td>-1</td>\n",
       "    </tr>\n",
       "    <tr>\n",
       "      <td>2</td>\n",
       "      <td>0000bc018b</td>\n",
       "      <td>3</td>\n",
       "      <td>2016-06</td>\n",
       "      <td>0</td>\n",
       "      <td>F</td>\n",
       "      <td>&gt;=56</td>\n",
       "      <td>M</td>\n",
       "      <td>3</td>\n",
       "      <td>2</td>\n",
       "      <td>3</td>\n",
       "    </tr>\n",
       "    <tr>\n",
       "      <td>3</td>\n",
       "      <td>0000d0e5ab</td>\n",
       "      <td>3</td>\n",
       "      <td>2014-06</td>\n",
       "      <td>0</td>\n",
       "      <td>M</td>\n",
       "      <td>26-35</td>\n",
       "      <td>M</td>\n",
       "      <td>3</td>\n",
       "      <td>2</td>\n",
       "      <td>2</td>\n",
       "    </tr>\n",
       "    <tr>\n",
       "      <td>4</td>\n",
       "      <td>0000dce472</td>\n",
       "      <td>3</td>\n",
       "      <td>2012-08</td>\n",
       "      <td>1</td>\n",
       "      <td>U</td>\n",
       "      <td>U</td>\n",
       "      <td>U</td>\n",
       "      <td>-1</td>\n",
       "      <td>-1</td>\n",
       "      <td>-1</td>\n",
       "    </tr>\n",
       "  </tbody>\n",
       "</table>\n",
       "</div>"
      ],
      "text/plain": [
       "      user_ID  user_level first_order_month  plus gender    age  \\\n",
       "0  000089d6a6           1           2017-08     0      F  26-35   \n",
       "1  0000babd1f           1           2018-03     0      U      U   \n",
       "2  0000bc018b           3           2016-06     0      F   >=56   \n",
       "3  0000d0e5ab           3           2014-06     0      M  26-35   \n",
       "4  0000dce472           3           2012-08     1      U      U   \n",
       "\n",
       "  marital_status  education  city_level  purchase_power  \n",
       "0              S          3           4               3  \n",
       "1              U         -1          -1              -1  \n",
       "2              M          3           2               3  \n",
       "3              M          3           2               2  \n",
       "4              U         -1          -1              -1  "
      ]
     },
     "execution_count": 24,
     "metadata": {},
     "output_type": "execute_result"
    }
   ],
   "source": [
    "users.head()"
   ]
  },
  {
   "cell_type": "code",
   "execution_count": 32,
   "metadata": {
    "collapsed": true
   },
   "outputs": [],
   "source": [
    "singleCustomers = users[~(users['user_level']==10)]['user_ID'].values\n",
    "orderSingle = orders1[orders1['user_ID'].isin(singleCustomers)].copy()"
   ]
  },
  {
   "cell_type": "code",
   "execution_count": 35,
   "metadata": {},
   "outputs": [
    {
     "data": {
      "text/plain": [
       "(394899, 17)"
      ]
     },
     "execution_count": 35,
     "metadata": {},
     "output_type": "execute_result"
    }
   ],
   "source": [
    "orderSingle.shape"
   ]
  },
  {
   "cell_type": "code",
   "execution_count": 34,
   "metadata": {},
   "outputs": [
    {
     "data": {
      "text/plain": [
       "357736"
      ]
     },
     "execution_count": 34,
     "metadata": {},
     "output_type": "execute_result"
    }
   ],
   "source": [
    "len(orderSingle['user_ID'].unique())"
   ]
  },
  {
   "cell_type": "markdown",
   "metadata": {},
   "source": [
    "* 394899个order由357736个user_ID完成，所以每个普通user在3月只买了一次"
   ]
  },
  {
   "cell_type": "code",
   "execution_count": 39,
   "metadata": {
    "ExecuteTime": {
     "end_time": "2020-01-01T17:10:58.300924Z",
     "start_time": "2020-01-01T17:10:58.285933Z"
    },
    "collapsed": true
   },
   "outputs": [],
   "source": [
    "# def search(x,sku1,sku2):\n",
    "#     count = 0\n",
    "#     uptime = (x[x['sku_ID']==sku1]['request_time']+dt.timedelta(hours=10,minutes=0)).values\n",
    "#     for up in uptime:\n",
    "#         if sku2 in x[x['request_time']<=up]['sku_ID'].values:\n",
    "#             count+=1\n",
    "#     return count\n",
    "# def freq(sku1,sku2,df):\n",
    "#     return df.groupby('user_ID').apply(lambda x: search(x,sku1,sku2)).sum()"
   ]
  },
  {
   "cell_type": "code",
   "execution_count": 49,
   "metadata": {
    "collapsed": true
   },
   "outputs": [],
   "source": [
    "clkSingle = clk[clk['user_ID'].isin(singleCustomers)].copy()"
   ]
  },
  {
   "cell_type": "code",
   "execution_count": 50,
   "metadata": {},
   "outputs": [
    {
     "data": {
      "text/plain": [
       "(457832, 4)"
      ]
     },
     "execution_count": 50,
     "metadata": {},
     "output_type": "execute_result"
    }
   ],
   "source": [
    "clkSingle.shape"
   ]
  },
  {
   "cell_type": "code",
   "execution_count": 59,
   "metadata": {
    "collapsed": true
   },
   "outputs": [],
   "source": [
    "chart = clkSingle.groupby('user_ID').count()\n",
    "chart1 = chart[chart['sku_ID']>1]"
   ]
  },
  {
   "cell_type": "code",
   "execution_count": 76,
   "metadata": {
    "collapsed": true
   },
   "outputs": [],
   "source": [
    "clickSet = clkSingle[clkSingle['user_ID']==user]['sku_ID'].unique()"
   ]
  },
  {
   "cell_type": "code",
   "execution_count": 81,
   "metadata": {
    "collapsed": true
   },
   "outputs": [],
   "source": [
    "users = []\n",
    "for user in chart1.index:\n",
    "    clickSet = clkSingle[clkSingle['user_ID']==user]['sku_ID'].unique()\n",
    "    num = len(clickSet)\n",
    "    if num>1:\n",
    "        users.append((user,num,clickSet))"
   ]
  },
  {
   "cell_type": "code",
   "execution_count": 107,
   "metadata": {
    "collapsed": true
   },
   "outputs": [],
   "source": [
    "df = pd.DataFrame(users,columns=['user_ID','clickNum','clickSku'])\n",
    "df['clickSet'] = df['clickSku'].apply(np.sort).apply(str)"
   ]
  },
  {
   "cell_type": "code",
   "execution_count": 108,
   "metadata": {},
   "outputs": [
    {
     "data": {
      "text/html": [
       "<div>\n",
       "<style scoped>\n",
       "    .dataframe tbody tr th:only-of-type {\n",
       "        vertical-align: middle;\n",
       "    }\n",
       "\n",
       "    .dataframe tbody tr th {\n",
       "        vertical-align: top;\n",
       "    }\n",
       "\n",
       "    .dataframe thead th {\n",
       "        text-align: right;\n",
       "    }\n",
       "</style>\n",
       "<table border=\"1\" class=\"dataframe\">\n",
       "  <thead>\n",
       "    <tr style=\"text-align: right;\">\n",
       "      <th></th>\n",
       "      <th>user_ID</th>\n",
       "      <th>clickNum</th>\n",
       "      <th>clickSku</th>\n",
       "      <th>clickSet</th>\n",
       "    </tr>\n",
       "  </thead>\n",
       "  <tbody>\n",
       "    <tr>\n",
       "      <td>0</td>\n",
       "      <td>0009bb7aea</td>\n",
       "      <td>2</td>\n",
       "      <td>[589c2b865b, 4b65db43ac]</td>\n",
       "      <td>['4b65db43ac' '589c2b865b']</td>\n",
       "    </tr>\n",
       "    <tr>\n",
       "      <td>1</td>\n",
       "      <td>000c423cca</td>\n",
       "      <td>2</td>\n",
       "      <td>[8dc4a01dec, 4b65db43ac]</td>\n",
       "      <td>['4b65db43ac' '8dc4a01dec']</td>\n",
       "    </tr>\n",
       "    <tr>\n",
       "      <td>2</td>\n",
       "      <td>000cd166be</td>\n",
       "      <td>3</td>\n",
       "      <td>[c56544784c, 7f947c0055, 81e57cbc50]</td>\n",
       "      <td>['7f947c0055' '81e57cbc50' 'c56544784c']</td>\n",
       "    </tr>\n",
       "    <tr>\n",
       "      <td>3</td>\n",
       "      <td>00105cf94f</td>\n",
       "      <td>2</td>\n",
       "      <td>[589c2b865b, 8dc4a01dec]</td>\n",
       "      <td>['589c2b865b' '8dc4a01dec']</td>\n",
       "    </tr>\n",
       "    <tr>\n",
       "      <td>4</td>\n",
       "      <td>0012371678</td>\n",
       "      <td>4</td>\n",
       "      <td>[c56544784c, 81e57cbc50, 8dc4a01dec, 4b65db43ac]</td>\n",
       "      <td>['4b65db43ac' '81e57cbc50' '8dc4a01dec' 'c5654...</td>\n",
       "    </tr>\n",
       "    <tr>\n",
       "      <td>...</td>\n",
       "      <td>...</td>\n",
       "      <td>...</td>\n",
       "      <td>...</td>\n",
       "      <td>...</td>\n",
       "    </tr>\n",
       "    <tr>\n",
       "      <td>27785</td>\n",
       "      <td>fff9bb006f</td>\n",
       "      <td>3</td>\n",
       "      <td>[c56544784c, 915cd3c4c0, 81e57cbc50]</td>\n",
       "      <td>['81e57cbc50' '915cd3c4c0' 'c56544784c']</td>\n",
       "    </tr>\n",
       "    <tr>\n",
       "      <td>27786</td>\n",
       "      <td>fffb0297d3</td>\n",
       "      <td>2</td>\n",
       "      <td>[8dc4a01dec, 4b65db43ac]</td>\n",
       "      <td>['4b65db43ac' '8dc4a01dec']</td>\n",
       "    </tr>\n",
       "    <tr>\n",
       "      <td>27787</td>\n",
       "      <td>fffb8629d0</td>\n",
       "      <td>2</td>\n",
       "      <td>[38d636d2a6, 589c2b865b]</td>\n",
       "      <td>['38d636d2a6' '589c2b865b']</td>\n",
       "    </tr>\n",
       "    <tr>\n",
       "      <td>27788</td>\n",
       "      <td>fffce2f1a7</td>\n",
       "      <td>3</td>\n",
       "      <td>[c56544784c, 589c2b865b, 38d636d2a6]</td>\n",
       "      <td>['38d636d2a6' '589c2b865b' 'c56544784c']</td>\n",
       "    </tr>\n",
       "    <tr>\n",
       "      <td>27789</td>\n",
       "      <td>ffff03373a</td>\n",
       "      <td>4</td>\n",
       "      <td>[8dc4a01dec, 81e57cbc50, c56544784c, 589c2b865b]</td>\n",
       "      <td>['589c2b865b' '81e57cbc50' '8dc4a01dec' 'c5654...</td>\n",
       "    </tr>\n",
       "  </tbody>\n",
       "</table>\n",
       "<p>27790 rows × 4 columns</p>\n",
       "</div>"
      ],
      "text/plain": [
       "          user_ID  clickNum                                          clickSku  \\\n",
       "0      0009bb7aea         2                          [589c2b865b, 4b65db43ac]   \n",
       "1      000c423cca         2                          [8dc4a01dec, 4b65db43ac]   \n",
       "2      000cd166be         3              [c56544784c, 7f947c0055, 81e57cbc50]   \n",
       "3      00105cf94f         2                          [589c2b865b, 8dc4a01dec]   \n",
       "4      0012371678         4  [c56544784c, 81e57cbc50, 8dc4a01dec, 4b65db43ac]   \n",
       "...           ...       ...                                               ...   \n",
       "27785  fff9bb006f         3              [c56544784c, 915cd3c4c0, 81e57cbc50]   \n",
       "27786  fffb0297d3         2                          [8dc4a01dec, 4b65db43ac]   \n",
       "27787  fffb8629d0         2                          [38d636d2a6, 589c2b865b]   \n",
       "27788  fffce2f1a7         3              [c56544784c, 589c2b865b, 38d636d2a6]   \n",
       "27789  ffff03373a         4  [8dc4a01dec, 81e57cbc50, c56544784c, 589c2b865b]   \n",
       "\n",
       "                                                clickSet  \n",
       "0                            ['4b65db43ac' '589c2b865b']  \n",
       "1                            ['4b65db43ac' '8dc4a01dec']  \n",
       "2               ['7f947c0055' '81e57cbc50' 'c56544784c']  \n",
       "3                            ['589c2b865b' '8dc4a01dec']  \n",
       "4      ['4b65db43ac' '81e57cbc50' '8dc4a01dec' 'c5654...  \n",
       "...                                                  ...  \n",
       "27785           ['81e57cbc50' '915cd3c4c0' 'c56544784c']  \n",
       "27786                        ['4b65db43ac' '8dc4a01dec']  \n",
       "27787                        ['38d636d2a6' '589c2b865b']  \n",
       "27788           ['38d636d2a6' '589c2b865b' 'c56544784c']  \n",
       "27789  ['589c2b865b' '81e57cbc50' '8dc4a01dec' 'c5654...  \n",
       "\n",
       "[27790 rows x 4 columns]"
      ]
     },
     "execution_count": 108,
     "metadata": {},
     "output_type": "execute_result"
    }
   ],
   "source": [
    "df"
   ]
  },
  {
   "cell_type": "code",
   "execution_count": 164,
   "metadata": {
    "collapsed": true
   },
   "outputs": [],
   "source": [
    "click1 = clkSingle[~clkSingle['user_ID'].isin(df['user_ID'])].copy()\n",
    "click1['clickNum'] = 1\n",
    "click1['clickSku'] = click1['sku_ID']\n",
    "click1.drop(['sku_ID','request_time','channel'],axis=1,inplace=True)"
   ]
  },
  {
   "cell_type": "code",
   "execution_count": 165,
   "metadata": {
    "collapsed": true
   },
   "outputs": [],
   "source": [
    "click1['clickSet'] = click1['clickSku'].apply(np.array).apply(str)"
   ]
  },
  {
   "cell_type": "code",
   "execution_count": 212,
   "metadata": {
    "collapsed": true
   },
   "outputs": [],
   "source": [
    "click1.drop_duplicates(inplace = True)"
   ]
  },
  {
   "cell_type": "code",
   "execution_count": 213,
   "metadata": {},
   "outputs": [
    {
     "data": {
      "text/plain": [
       "(69196, 4)"
      ]
     },
     "execution_count": 213,
     "metadata": {},
     "output_type": "execute_result"
    }
   ],
   "source": [
    "click1.shape"
   ]
  },
  {
   "cell_type": "code",
   "execution_count": 222,
   "metadata": {
    "collapsed": true
   },
   "outputs": [],
   "source": [
    "df = pd.concat([df,click1])\n",
    "df.reset_index(inplace=True,drop=True)"
   ]
  },
  {
   "cell_type": "code",
   "execution_count": 230,
   "metadata": {},
   "outputs": [
    {
     "data": {
      "text/plain": [
       "(96986, 4)"
      ]
     },
     "execution_count": 230,
     "metadata": {},
     "output_type": "execute_result"
    }
   ],
   "source": [
    "df.shape"
   ]
  },
  {
   "cell_type": "code",
   "execution_count": 229,
   "metadata": {
    "collapsed": true
   },
   "outputs": [],
   "source": [
    "# df.to_csv(\"click_set_by_user_ID.csv\")"
   ]
  },
  {
   "cell_type": "code",
   "execution_count": 232,
   "metadata": {
    "collapsed": true
   },
   "outputs": [],
   "source": [
    "clickSet = df.groupby('clickSet',group_keys=False).count()"
   ]
  },
  {
   "cell_type": "code",
   "execution_count": 233,
   "metadata": {},
   "outputs": [
    {
     "data": {
      "text/html": [
       "<div>\n",
       "<style scoped>\n",
       "    .dataframe tbody tr th:only-of-type {\n",
       "        vertical-align: middle;\n",
       "    }\n",
       "\n",
       "    .dataframe tbody tr th {\n",
       "        vertical-align: top;\n",
       "    }\n",
       "\n",
       "    .dataframe thead th {\n",
       "        text-align: right;\n",
       "    }\n",
       "</style>\n",
       "<table border=\"1\" class=\"dataframe\">\n",
       "  <thead>\n",
       "    <tr style=\"text-align: right;\">\n",
       "      <th></th>\n",
       "      <th>user_ID</th>\n",
       "      <th>clickNum</th>\n",
       "      <th>clickSku</th>\n",
       "    </tr>\n",
       "    <tr>\n",
       "      <th>clickSet</th>\n",
       "      <th></th>\n",
       "      <th></th>\n",
       "      <th></th>\n",
       "    </tr>\n",
       "  </thead>\n",
       "  <tbody>\n",
       "    <tr>\n",
       "      <td>38d636d2a6</td>\n",
       "      <td>13582</td>\n",
       "      <td>13582</td>\n",
       "      <td>13582</td>\n",
       "    </tr>\n",
       "    <tr>\n",
       "      <td>4b65db43ac</td>\n",
       "      <td>2907</td>\n",
       "      <td>2907</td>\n",
       "      <td>2907</td>\n",
       "    </tr>\n",
       "    <tr>\n",
       "      <td>589c2b865b</td>\n",
       "      <td>13614</td>\n",
       "      <td>13614</td>\n",
       "      <td>13614</td>\n",
       "    </tr>\n",
       "    <tr>\n",
       "      <td>7f947c0055</td>\n",
       "      <td>6192</td>\n",
       "      <td>6192</td>\n",
       "      <td>6192</td>\n",
       "    </tr>\n",
       "    <tr>\n",
       "      <td>81e57cbc50</td>\n",
       "      <td>9978</td>\n",
       "      <td>9978</td>\n",
       "      <td>9978</td>\n",
       "    </tr>\n",
       "    <tr>\n",
       "      <td>...</td>\n",
       "      <td>...</td>\n",
       "      <td>...</td>\n",
       "      <td>...</td>\n",
       "    </tr>\n",
       "    <tr>\n",
       "      <td>['8dc4a01dec' '915cd3c4c0' 'c56544784c']</td>\n",
       "      <td>15</td>\n",
       "      <td>15</td>\n",
       "      <td>15</td>\n",
       "    </tr>\n",
       "    <tr>\n",
       "      <td>['8dc4a01dec' '915cd3c4c0']</td>\n",
       "      <td>252</td>\n",
       "      <td>252</td>\n",
       "      <td>252</td>\n",
       "    </tr>\n",
       "    <tr>\n",
       "      <td>['8dc4a01dec' 'c56544784c']</td>\n",
       "      <td>264</td>\n",
       "      <td>264</td>\n",
       "      <td>264</td>\n",
       "    </tr>\n",
       "    <tr>\n",
       "      <td>['915cd3c4c0' 'c56544784c']</td>\n",
       "      <td>92</td>\n",
       "      <td>92</td>\n",
       "      <td>92</td>\n",
       "    </tr>\n",
       "    <tr>\n",
       "      <td>c56544784c</td>\n",
       "      <td>3512</td>\n",
       "      <td>3512</td>\n",
       "      <td>3512</td>\n",
       "    </tr>\n",
       "  </tbody>\n",
       "</table>\n",
       "<p>244 rows × 3 columns</p>\n",
       "</div>"
      ],
      "text/plain": [
       "                                          user_ID  clickNum  clickSku\n",
       "clickSet                                                             \n",
       "38d636d2a6                                  13582     13582     13582\n",
       "4b65db43ac                                   2907      2907      2907\n",
       "589c2b865b                                  13614     13614     13614\n",
       "7f947c0055                                   6192      6192      6192\n",
       "81e57cbc50                                   9978      9978      9978\n",
       "...                                           ...       ...       ...\n",
       "['8dc4a01dec' '915cd3c4c0' 'c56544784c']       15        15        15\n",
       "['8dc4a01dec' '915cd3c4c0']                   252       252       252\n",
       "['8dc4a01dec' 'c56544784c']                   264       264       264\n",
       "['915cd3c4c0' 'c56544784c']                    92        92        92\n",
       "c56544784c                                   3512      3512      3512\n",
       "\n",
       "[244 rows x 3 columns]"
      ]
     },
     "execution_count": 233,
     "metadata": {},
     "output_type": "execute_result"
    }
   ],
   "source": [
    "clickSet"
   ]
  },
  {
   "cell_type": "code",
   "execution_count": 182,
   "metadata": {},
   "outputs": [
    {
     "data": {
      "text/plain": [
       "255"
      ]
     },
     "execution_count": 182,
     "metadata": {},
     "output_type": "execute_result"
    }
   ],
   "source": [
    "2**8-1"
   ]
  },
  {
   "cell_type": "code",
   "execution_count": 234,
   "metadata": {},
   "outputs": [
    {
     "data": {
      "text/html": [
       "<div>\n",
       "<style scoped>\n",
       "    .dataframe tbody tr th:only-of-type {\n",
       "        vertical-align: middle;\n",
       "    }\n",
       "\n",
       "    .dataframe tbody tr th {\n",
       "        vertical-align: top;\n",
       "    }\n",
       "\n",
       "    .dataframe thead th {\n",
       "        text-align: right;\n",
       "    }\n",
       "</style>\n",
       "<table border=\"1\" class=\"dataframe\">\n",
       "  <thead>\n",
       "    <tr style=\"text-align: right;\">\n",
       "      <th></th>\n",
       "      <th>user_ID</th>\n",
       "      <th>clickNum</th>\n",
       "      <th>clickSku</th>\n",
       "      <th>clickSet</th>\n",
       "    </tr>\n",
       "  </thead>\n",
       "  <tbody>\n",
       "    <tr>\n",
       "      <td>0</td>\n",
       "      <td>0009bb7aea</td>\n",
       "      <td>2</td>\n",
       "      <td>[589c2b865b, 4b65db43ac]</td>\n",
       "      <td>['4b65db43ac' '589c2b865b']</td>\n",
       "    </tr>\n",
       "    <tr>\n",
       "      <td>1</td>\n",
       "      <td>000c423cca</td>\n",
       "      <td>2</td>\n",
       "      <td>[8dc4a01dec, 4b65db43ac]</td>\n",
       "      <td>['4b65db43ac' '8dc4a01dec']</td>\n",
       "    </tr>\n",
       "    <tr>\n",
       "      <td>2</td>\n",
       "      <td>000cd166be</td>\n",
       "      <td>3</td>\n",
       "      <td>[c56544784c, 7f947c0055, 81e57cbc50]</td>\n",
       "      <td>['7f947c0055' '81e57cbc50' 'c56544784c']</td>\n",
       "    </tr>\n",
       "    <tr>\n",
       "      <td>3</td>\n",
       "      <td>00105cf94f</td>\n",
       "      <td>2</td>\n",
       "      <td>[589c2b865b, 8dc4a01dec]</td>\n",
       "      <td>['589c2b865b' '8dc4a01dec']</td>\n",
       "    </tr>\n",
       "    <tr>\n",
       "      <td>4</td>\n",
       "      <td>0012371678</td>\n",
       "      <td>4</td>\n",
       "      <td>[c56544784c, 81e57cbc50, 8dc4a01dec, 4b65db43ac]</td>\n",
       "      <td>['4b65db43ac' '81e57cbc50' '8dc4a01dec' 'c5654...</td>\n",
       "    </tr>\n",
       "    <tr>\n",
       "      <td>...</td>\n",
       "      <td>...</td>\n",
       "      <td>...</td>\n",
       "      <td>...</td>\n",
       "      <td>...</td>\n",
       "    </tr>\n",
       "    <tr>\n",
       "      <td>96981</td>\n",
       "      <td>fff7216377</td>\n",
       "      <td>1</td>\n",
       "      <td>8dc4a01dec</td>\n",
       "      <td>8dc4a01dec</td>\n",
       "    </tr>\n",
       "    <tr>\n",
       "      <td>96982</td>\n",
       "      <td>fff807f6c6</td>\n",
       "      <td>1</td>\n",
       "      <td>81e57cbc50</td>\n",
       "      <td>81e57cbc50</td>\n",
       "    </tr>\n",
       "    <tr>\n",
       "      <td>96983</td>\n",
       "      <td>fffae29e27</td>\n",
       "      <td>1</td>\n",
       "      <td>8dc4a01dec</td>\n",
       "      <td>8dc4a01dec</td>\n",
       "    </tr>\n",
       "    <tr>\n",
       "      <td>96984</td>\n",
       "      <td>fffaeaf576</td>\n",
       "      <td>1</td>\n",
       "      <td>38d636d2a6</td>\n",
       "      <td>38d636d2a6</td>\n",
       "    </tr>\n",
       "    <tr>\n",
       "      <td>96985</td>\n",
       "      <td>ffff0b5ecd</td>\n",
       "      <td>1</td>\n",
       "      <td>38d636d2a6</td>\n",
       "      <td>38d636d2a6</td>\n",
       "    </tr>\n",
       "  </tbody>\n",
       "</table>\n",
       "<p>96986 rows × 4 columns</p>\n",
       "</div>"
      ],
      "text/plain": [
       "          user_ID  clickNum                                          clickSku  \\\n",
       "0      0009bb7aea         2                          [589c2b865b, 4b65db43ac]   \n",
       "1      000c423cca         2                          [8dc4a01dec, 4b65db43ac]   \n",
       "2      000cd166be         3              [c56544784c, 7f947c0055, 81e57cbc50]   \n",
       "3      00105cf94f         2                          [589c2b865b, 8dc4a01dec]   \n",
       "4      0012371678         4  [c56544784c, 81e57cbc50, 8dc4a01dec, 4b65db43ac]   \n",
       "...           ...       ...                                               ...   \n",
       "96981  fff7216377         1                                        8dc4a01dec   \n",
       "96982  fff807f6c6         1                                        81e57cbc50   \n",
       "96983  fffae29e27         1                                        8dc4a01dec   \n",
       "96984  fffaeaf576         1                                        38d636d2a6   \n",
       "96985  ffff0b5ecd         1                                        38d636d2a6   \n",
       "\n",
       "                                                clickSet  \n",
       "0                            ['4b65db43ac' '589c2b865b']  \n",
       "1                            ['4b65db43ac' '8dc4a01dec']  \n",
       "2               ['7f947c0055' '81e57cbc50' 'c56544784c']  \n",
       "3                            ['589c2b865b' '8dc4a01dec']  \n",
       "4      ['4b65db43ac' '81e57cbc50' '8dc4a01dec' 'c5654...  \n",
       "...                                                  ...  \n",
       "96981                                         8dc4a01dec  \n",
       "96982                                         81e57cbc50  \n",
       "96983                                         8dc4a01dec  \n",
       "96984                                         38d636d2a6  \n",
       "96985                                         38d636d2a6  \n",
       "\n",
       "[96986 rows x 4 columns]"
      ]
     },
     "execution_count": 234,
     "metadata": {},
     "output_type": "execute_result"
    }
   ],
   "source": [
    "df"
   ]
  },
  {
   "cell_type": "code",
   "execution_count": 291,
   "metadata": {
    "collapsed": true
   },
   "outputs": [],
   "source": [
    "purchase = orderSingle[['user_ID','sku_ID']].copy()\n",
    "purchase = purchase[purchase['sku_ID'].isin(skuSet)]\n",
    "purchase.reset_index(inplace=True,drop=True)\n",
    "purchase.drop_duplicates(inplace = True)"
   ]
  },
  {
   "cell_type": "code",
   "execution_count": 292,
   "metadata": {
    "collapsed": true
   },
   "outputs": [],
   "source": [
    "buy = {}\n",
    "for index, row in purchase.iterrows():\n",
    "    if row['user_ID'] in buy.keys():\n",
    "        buy[row['user_ID']].append(row['sku_ID'])\n",
    "    else:\n",
    "        buy[row['user_ID']] = [row['sku_ID']]"
   ]
  },
  {
   "cell_type": "code",
   "execution_count": 293,
   "metadata": {
    "collapsed": true
   },
   "outputs": [],
   "source": [
    "purchase = pd.DataFrame({'user_ID':list(buy.keys()),'purchaseSku':list(buy.values())})"
   ]
  },
  {
   "cell_type": "code",
   "execution_count": 294,
   "metadata": {},
   "outputs": [
    {
     "data": {
      "text/html": [
       "<div>\n",
       "<style scoped>\n",
       "    .dataframe tbody tr th:only-of-type {\n",
       "        vertical-align: middle;\n",
       "    }\n",
       "\n",
       "    .dataframe tbody tr th {\n",
       "        vertical-align: top;\n",
       "    }\n",
       "\n",
       "    .dataframe thead th {\n",
       "        text-align: right;\n",
       "    }\n",
       "</style>\n",
       "<table border=\"1\" class=\"dataframe\">\n",
       "  <thead>\n",
       "    <tr style=\"text-align: right;\">\n",
       "      <th></th>\n",
       "      <th>user_ID</th>\n",
       "      <th>purchaseSku</th>\n",
       "    </tr>\n",
       "  </thead>\n",
       "  <tbody>\n",
       "    <tr>\n",
       "      <td>0</td>\n",
       "      <td>0b07cae293</td>\n",
       "      <td>[589c2b865b]</td>\n",
       "    </tr>\n",
       "    <tr>\n",
       "      <td>1</td>\n",
       "      <td>5ccd5438ea</td>\n",
       "      <td>[589c2b865b]</td>\n",
       "    </tr>\n",
       "    <tr>\n",
       "      <td>2</td>\n",
       "      <td>39cfa1eb3a</td>\n",
       "      <td>[38d636d2a6]</td>\n",
       "    </tr>\n",
       "    <tr>\n",
       "      <td>3</td>\n",
       "      <td>9c4556f70f</td>\n",
       "      <td>[c56544784c]</td>\n",
       "    </tr>\n",
       "    <tr>\n",
       "      <td>4</td>\n",
       "      <td>4b1158ee91</td>\n",
       "      <td>[81e57cbc50]</td>\n",
       "    </tr>\n",
       "    <tr>\n",
       "      <td>...</td>\n",
       "      <td>...</td>\n",
       "      <td>...</td>\n",
       "    </tr>\n",
       "    <tr>\n",
       "      <td>28291</td>\n",
       "      <td>f2d3361646</td>\n",
       "      <td>[81e57cbc50]</td>\n",
       "    </tr>\n",
       "    <tr>\n",
       "      <td>28292</td>\n",
       "      <td>cd397f24ab</td>\n",
       "      <td>[7f947c0055]</td>\n",
       "    </tr>\n",
       "    <tr>\n",
       "      <td>28293</td>\n",
       "      <td>4a875c80fc</td>\n",
       "      <td>[81e57cbc50]</td>\n",
       "    </tr>\n",
       "    <tr>\n",
       "      <td>28294</td>\n",
       "      <td>5091899a4b</td>\n",
       "      <td>[7f947c0055]</td>\n",
       "    </tr>\n",
       "    <tr>\n",
       "      <td>28295</td>\n",
       "      <td>b5caf8a580</td>\n",
       "      <td>[8dc4a01dec]</td>\n",
       "    </tr>\n",
       "  </tbody>\n",
       "</table>\n",
       "<p>28296 rows × 2 columns</p>\n",
       "</div>"
      ],
      "text/plain": [
       "          user_ID   purchaseSku\n",
       "0      0b07cae293  [589c2b865b]\n",
       "1      5ccd5438ea  [589c2b865b]\n",
       "2      39cfa1eb3a  [38d636d2a6]\n",
       "3      9c4556f70f  [c56544784c]\n",
       "4      4b1158ee91  [81e57cbc50]\n",
       "...           ...           ...\n",
       "28291  f2d3361646  [81e57cbc50]\n",
       "28292  cd397f24ab  [7f947c0055]\n",
       "28293  4a875c80fc  [81e57cbc50]\n",
       "28294  5091899a4b  [7f947c0055]\n",
       "28295  b5caf8a580  [8dc4a01dec]\n",
       "\n",
       "[28296 rows x 2 columns]"
      ]
     },
     "execution_count": 294,
     "metadata": {},
     "output_type": "execute_result"
    }
   ],
   "source": [
    "purchase"
   ]
  },
  {
   "cell_type": "code",
   "execution_count": 295,
   "metadata": {
    "collapsed": true
   },
   "outputs": [],
   "source": [
    "purchase['purchaseNum'] = purchase['purchaseSku'].apply(len)"
   ]
  },
  {
   "cell_type": "code",
   "execution_count": 297,
   "metadata": {},
   "outputs": [
    {
     "data": {
      "text/plain": [
       "((96986, 4), (28296, 3))"
      ]
     },
     "execution_count": 297,
     "metadata": {},
     "output_type": "execute_result"
    }
   ],
   "source": [
    "df.shape,purchase.shape"
   ]
  },
  {
   "cell_type": "code",
   "execution_count": 298,
   "metadata": {
    "collapsed": true
   },
   "outputs": [],
   "source": [
    "productSet = pd.merge(df,purchase,left_on='user_ID',right_on='user_ID',how='outer')"
   ]
  },
  {
   "cell_type": "code",
   "execution_count": 301,
   "metadata": {},
   "outputs": [
    {
     "data": {
      "text/html": [
       "<div>\n",
       "<style scoped>\n",
       "    .dataframe tbody tr th:only-of-type {\n",
       "        vertical-align: middle;\n",
       "    }\n",
       "\n",
       "    .dataframe tbody tr th {\n",
       "        vertical-align: top;\n",
       "    }\n",
       "\n",
       "    .dataframe thead th {\n",
       "        text-align: right;\n",
       "    }\n",
       "</style>\n",
       "<table border=\"1\" class=\"dataframe\">\n",
       "  <thead>\n",
       "    <tr style=\"text-align: right;\">\n",
       "      <th></th>\n",
       "      <th>user_ID</th>\n",
       "      <th>clickNum</th>\n",
       "      <th>clickSku</th>\n",
       "      <th>clickSet</th>\n",
       "      <th>purchaseSku</th>\n",
       "      <th>purchaseNum</th>\n",
       "    </tr>\n",
       "  </thead>\n",
       "  <tbody>\n",
       "    <tr>\n",
       "      <td>0</td>\n",
       "      <td>0009bb7aea</td>\n",
       "      <td>2.0</td>\n",
       "      <td>[589c2b865b, 4b65db43ac]</td>\n",
       "      <td>['4b65db43ac' '589c2b865b']</td>\n",
       "      <td>NaN</td>\n",
       "      <td>NaN</td>\n",
       "    </tr>\n",
       "    <tr>\n",
       "      <td>1</td>\n",
       "      <td>000c423cca</td>\n",
       "      <td>2.0</td>\n",
       "      <td>[8dc4a01dec, 4b65db43ac]</td>\n",
       "      <td>['4b65db43ac' '8dc4a01dec']</td>\n",
       "      <td>NaN</td>\n",
       "      <td>NaN</td>\n",
       "    </tr>\n",
       "    <tr>\n",
       "      <td>2</td>\n",
       "      <td>000cd166be</td>\n",
       "      <td>3.0</td>\n",
       "      <td>[c56544784c, 7f947c0055, 81e57cbc50]</td>\n",
       "      <td>['7f947c0055' '81e57cbc50' 'c56544784c']</td>\n",
       "      <td>[7f947c0055]</td>\n",
       "      <td>1.0</td>\n",
       "    </tr>\n",
       "    <tr>\n",
       "      <td>3</td>\n",
       "      <td>00105cf94f</td>\n",
       "      <td>2.0</td>\n",
       "      <td>[589c2b865b, 8dc4a01dec]</td>\n",
       "      <td>['589c2b865b' '8dc4a01dec']</td>\n",
       "      <td>NaN</td>\n",
       "      <td>NaN</td>\n",
       "    </tr>\n",
       "    <tr>\n",
       "      <td>4</td>\n",
       "      <td>0012371678</td>\n",
       "      <td>4.0</td>\n",
       "      <td>[c56544784c, 81e57cbc50, 8dc4a01dec, 4b65db43ac]</td>\n",
       "      <td>['4b65db43ac' '81e57cbc50' '8dc4a01dec' 'c5654...</td>\n",
       "      <td>NaN</td>\n",
       "      <td>NaN</td>\n",
       "    </tr>\n",
       "    <tr>\n",
       "      <td>...</td>\n",
       "      <td>...</td>\n",
       "      <td>...</td>\n",
       "      <td>...</td>\n",
       "      <td>...</td>\n",
       "      <td>...</td>\n",
       "      <td>...</td>\n",
       "    </tr>\n",
       "    <tr>\n",
       "      <td>97756</td>\n",
       "      <td>d7e51b5a69</td>\n",
       "      <td>NaN</td>\n",
       "      <td>NaN</td>\n",
       "      <td>NaN</td>\n",
       "      <td>[915cd3c4c0]</td>\n",
       "      <td>1.0</td>\n",
       "    </tr>\n",
       "    <tr>\n",
       "      <td>97757</td>\n",
       "      <td>2872e7352f</td>\n",
       "      <td>NaN</td>\n",
       "      <td>NaN</td>\n",
       "      <td>NaN</td>\n",
       "      <td>[915cd3c4c0]</td>\n",
       "      <td>1.0</td>\n",
       "    </tr>\n",
       "    <tr>\n",
       "      <td>97758</td>\n",
       "      <td>7c5be90738</td>\n",
       "      <td>NaN</td>\n",
       "      <td>NaN</td>\n",
       "      <td>NaN</td>\n",
       "      <td>[c56544784c]</td>\n",
       "      <td>1.0</td>\n",
       "    </tr>\n",
       "    <tr>\n",
       "      <td>97759</td>\n",
       "      <td>f8c7c795f3</td>\n",
       "      <td>NaN</td>\n",
       "      <td>NaN</td>\n",
       "      <td>NaN</td>\n",
       "      <td>[81e57cbc50]</td>\n",
       "      <td>1.0</td>\n",
       "    </tr>\n",
       "    <tr>\n",
       "      <td>97760</td>\n",
       "      <td>7db031c050</td>\n",
       "      <td>NaN</td>\n",
       "      <td>NaN</td>\n",
       "      <td>NaN</td>\n",
       "      <td>[81e57cbc50]</td>\n",
       "      <td>1.0</td>\n",
       "    </tr>\n",
       "  </tbody>\n",
       "</table>\n",
       "<p>97761 rows × 6 columns</p>\n",
       "</div>"
      ],
      "text/plain": [
       "          user_ID  clickNum                                          clickSku  \\\n",
       "0      0009bb7aea       2.0                          [589c2b865b, 4b65db43ac]   \n",
       "1      000c423cca       2.0                          [8dc4a01dec, 4b65db43ac]   \n",
       "2      000cd166be       3.0              [c56544784c, 7f947c0055, 81e57cbc50]   \n",
       "3      00105cf94f       2.0                          [589c2b865b, 8dc4a01dec]   \n",
       "4      0012371678       4.0  [c56544784c, 81e57cbc50, 8dc4a01dec, 4b65db43ac]   \n",
       "...           ...       ...                                               ...   \n",
       "97756  d7e51b5a69       NaN                                               NaN   \n",
       "97757  2872e7352f       NaN                                               NaN   \n",
       "97758  7c5be90738       NaN                                               NaN   \n",
       "97759  f8c7c795f3       NaN                                               NaN   \n",
       "97760  7db031c050       NaN                                               NaN   \n",
       "\n",
       "                                                clickSet   purchaseSku  \\\n",
       "0                            ['4b65db43ac' '589c2b865b']           NaN   \n",
       "1                            ['4b65db43ac' '8dc4a01dec']           NaN   \n",
       "2               ['7f947c0055' '81e57cbc50' 'c56544784c']  [7f947c0055]   \n",
       "3                            ['589c2b865b' '8dc4a01dec']           NaN   \n",
       "4      ['4b65db43ac' '81e57cbc50' '8dc4a01dec' 'c5654...           NaN   \n",
       "...                                                  ...           ...   \n",
       "97756                                                NaN  [915cd3c4c0]   \n",
       "97757                                                NaN  [915cd3c4c0]   \n",
       "97758                                                NaN  [c56544784c]   \n",
       "97759                                                NaN  [81e57cbc50]   \n",
       "97760                                                NaN  [81e57cbc50]   \n",
       "\n",
       "       purchaseNum  \n",
       "0              NaN  \n",
       "1              NaN  \n",
       "2              1.0  \n",
       "3              NaN  \n",
       "4              NaN  \n",
       "...            ...  \n",
       "97756          1.0  \n",
       "97757          1.0  \n",
       "97758          1.0  \n",
       "97759          1.0  \n",
       "97760          1.0  \n",
       "\n",
       "[97761 rows x 6 columns]"
      ]
     },
     "execution_count": 301,
     "metadata": {},
     "output_type": "execute_result"
    }
   ],
   "source": [
    "productSet"
   ]
  },
  {
   "cell_type": "code",
   "execution_count": 345,
   "metadata": {},
   "outputs": [
    {
     "data": {
      "text/html": [
       "<div>\n",
       "<style scoped>\n",
       "    .dataframe tbody tr th:only-of-type {\n",
       "        vertical-align: middle;\n",
       "    }\n",
       "\n",
       "    .dataframe tbody tr th {\n",
       "        vertical-align: top;\n",
       "    }\n",
       "\n",
       "    .dataframe thead th {\n",
       "        text-align: right;\n",
       "    }\n",
       "</style>\n",
       "<table border=\"1\" class=\"dataframe\">\n",
       "  <thead>\n",
       "    <tr style=\"text-align: right;\">\n",
       "      <th></th>\n",
       "      <th>user_ID</th>\n",
       "      <th>clickNum</th>\n",
       "      <th>clickSku</th>\n",
       "      <th>clickSet</th>\n",
       "      <th>purchaseSku</th>\n",
       "      <th>purchaseNum</th>\n",
       "      <th>purchaseSet</th>\n",
       "    </tr>\n",
       "  </thead>\n",
       "  <tbody>\n",
       "    <tr>\n",
       "      <td>0</td>\n",
       "      <td>0009bb7aea</td>\n",
       "      <td>2.0</td>\n",
       "      <td>[589c2b865b, 4b65db43ac]</td>\n",
       "      <td>['4b65db43ac' '589c2b865b']</td>\n",
       "      <td>NaN</td>\n",
       "      <td>NaN</td>\n",
       "      <td>nan</td>\n",
       "    </tr>\n",
       "    <tr>\n",
       "      <td>1</td>\n",
       "      <td>000c423cca</td>\n",
       "      <td>2.0</td>\n",
       "      <td>[8dc4a01dec, 4b65db43ac]</td>\n",
       "      <td>['4b65db43ac' '8dc4a01dec']</td>\n",
       "      <td>NaN</td>\n",
       "      <td>NaN</td>\n",
       "      <td>nan</td>\n",
       "    </tr>\n",
       "    <tr>\n",
       "      <td>2</td>\n",
       "      <td>000cd166be</td>\n",
       "      <td>3.0</td>\n",
       "      <td>[c56544784c, 7f947c0055, 81e57cbc50]</td>\n",
       "      <td>['7f947c0055' '81e57cbc50' 'c56544784c']</td>\n",
       "      <td>[7f947c0055]</td>\n",
       "      <td>1.0</td>\n",
       "      <td>['7f947c0055']</td>\n",
       "    </tr>\n",
       "    <tr>\n",
       "      <td>3</td>\n",
       "      <td>00105cf94f</td>\n",
       "      <td>2.0</td>\n",
       "      <td>[589c2b865b, 8dc4a01dec]</td>\n",
       "      <td>['589c2b865b' '8dc4a01dec']</td>\n",
       "      <td>NaN</td>\n",
       "      <td>NaN</td>\n",
       "      <td>nan</td>\n",
       "    </tr>\n",
       "    <tr>\n",
       "      <td>4</td>\n",
       "      <td>0012371678</td>\n",
       "      <td>4.0</td>\n",
       "      <td>[c56544784c, 81e57cbc50, 8dc4a01dec, 4b65db43ac]</td>\n",
       "      <td>['4b65db43ac' '81e57cbc50' '8dc4a01dec' 'c5654...</td>\n",
       "      <td>NaN</td>\n",
       "      <td>NaN</td>\n",
       "      <td>nan</td>\n",
       "    </tr>\n",
       "    <tr>\n",
       "      <td>...</td>\n",
       "      <td>...</td>\n",
       "      <td>...</td>\n",
       "      <td>...</td>\n",
       "      <td>...</td>\n",
       "      <td>...</td>\n",
       "      <td>...</td>\n",
       "      <td>...</td>\n",
       "    </tr>\n",
       "    <tr>\n",
       "      <td>97756</td>\n",
       "      <td>d7e51b5a69</td>\n",
       "      <td>NaN</td>\n",
       "      <td>NaN</td>\n",
       "      <td>NaN</td>\n",
       "      <td>[915cd3c4c0]</td>\n",
       "      <td>1.0</td>\n",
       "      <td>['915cd3c4c0']</td>\n",
       "    </tr>\n",
       "    <tr>\n",
       "      <td>97757</td>\n",
       "      <td>2872e7352f</td>\n",
       "      <td>NaN</td>\n",
       "      <td>NaN</td>\n",
       "      <td>NaN</td>\n",
       "      <td>[915cd3c4c0]</td>\n",
       "      <td>1.0</td>\n",
       "      <td>['915cd3c4c0']</td>\n",
       "    </tr>\n",
       "    <tr>\n",
       "      <td>97758</td>\n",
       "      <td>7c5be90738</td>\n",
       "      <td>NaN</td>\n",
       "      <td>NaN</td>\n",
       "      <td>NaN</td>\n",
       "      <td>[c56544784c]</td>\n",
       "      <td>1.0</td>\n",
       "      <td>['c56544784c']</td>\n",
       "    </tr>\n",
       "    <tr>\n",
       "      <td>97759</td>\n",
       "      <td>f8c7c795f3</td>\n",
       "      <td>NaN</td>\n",
       "      <td>NaN</td>\n",
       "      <td>NaN</td>\n",
       "      <td>[81e57cbc50]</td>\n",
       "      <td>1.0</td>\n",
       "      <td>['81e57cbc50']</td>\n",
       "    </tr>\n",
       "    <tr>\n",
       "      <td>97760</td>\n",
       "      <td>7db031c050</td>\n",
       "      <td>NaN</td>\n",
       "      <td>NaN</td>\n",
       "      <td>NaN</td>\n",
       "      <td>[81e57cbc50]</td>\n",
       "      <td>1.0</td>\n",
       "      <td>['81e57cbc50']</td>\n",
       "    </tr>\n",
       "  </tbody>\n",
       "</table>\n",
       "<p>97761 rows × 7 columns</p>\n",
       "</div>"
      ],
      "text/plain": [
       "          user_ID  clickNum                                          clickSku  \\\n",
       "0      0009bb7aea       2.0                          [589c2b865b, 4b65db43ac]   \n",
       "1      000c423cca       2.0                          [8dc4a01dec, 4b65db43ac]   \n",
       "2      000cd166be       3.0              [c56544784c, 7f947c0055, 81e57cbc50]   \n",
       "3      00105cf94f       2.0                          [589c2b865b, 8dc4a01dec]   \n",
       "4      0012371678       4.0  [c56544784c, 81e57cbc50, 8dc4a01dec, 4b65db43ac]   \n",
       "...           ...       ...                                               ...   \n",
       "97756  d7e51b5a69       NaN                                               NaN   \n",
       "97757  2872e7352f       NaN                                               NaN   \n",
       "97758  7c5be90738       NaN                                               NaN   \n",
       "97759  f8c7c795f3       NaN                                               NaN   \n",
       "97760  7db031c050       NaN                                               NaN   \n",
       "\n",
       "                                                clickSet   purchaseSku  \\\n",
       "0                            ['4b65db43ac' '589c2b865b']           NaN   \n",
       "1                            ['4b65db43ac' '8dc4a01dec']           NaN   \n",
       "2               ['7f947c0055' '81e57cbc50' 'c56544784c']  [7f947c0055]   \n",
       "3                            ['589c2b865b' '8dc4a01dec']           NaN   \n",
       "4      ['4b65db43ac' '81e57cbc50' '8dc4a01dec' 'c5654...           NaN   \n",
       "...                                                  ...           ...   \n",
       "97756                                                NaN  [915cd3c4c0]   \n",
       "97757                                                NaN  [915cd3c4c0]   \n",
       "97758                                                NaN  [c56544784c]   \n",
       "97759                                                NaN  [81e57cbc50]   \n",
       "97760                                                NaN  [81e57cbc50]   \n",
       "\n",
       "       purchaseNum     purchaseSet  \n",
       "0              NaN             nan  \n",
       "1              NaN             nan  \n",
       "2              1.0  ['7f947c0055']  \n",
       "3              NaN             nan  \n",
       "4              NaN             nan  \n",
       "...            ...             ...  \n",
       "97756          1.0  ['915cd3c4c0']  \n",
       "97757          1.0  ['915cd3c4c0']  \n",
       "97758          1.0  ['c56544784c']  \n",
       "97759          1.0  ['81e57cbc50']  \n",
       "97760          1.0  ['81e57cbc50']  \n",
       "\n",
       "[97761 rows x 7 columns]"
      ]
     },
     "execution_count": 345,
     "metadata": {},
     "output_type": "execute_result"
    }
   ],
   "source": [
    "productSet[productSet['user_ID'].isin(singleCustomers)]"
   ]
  },
  {
   "cell_type": "code",
   "execution_count": null,
   "metadata": {
    "collapsed": true
   },
   "outputs": [],
   "source": []
  },
  {
   "cell_type": "code",
   "execution_count": 321,
   "metadata": {},
   "outputs": [
    {
     "name": "stdout",
     "output_type": "stream",
     "text": [
      "一共有    97761\n",
      "没买的    69465\n",
      "买了1个的 27966\n",
      "买了2个的 328\n",
      "买了3个的 2\n"
     ]
    }
   ],
   "source": [
    "print('一共有   ', len(productSet))\n",
    "print(\"没买的   \", len(productSet[productSet['purchaseNum'].isna()]))\n",
    "print(\"买了1个的\", len(productSet[productSet['purchaseNum']==1]))\n",
    "print(\"买了2个的\", len(productSet[productSet['purchaseNum']==2]))\n",
    "print(\"买了3个的\", len(productSet[productSet['purchaseNum']==3]))"
   ]
  },
  {
   "cell_type": "code",
   "execution_count": null,
   "metadata": {
    "collapsed": true
   },
   "outputs": [],
   "source": []
  },
  {
   "cell_type": "markdown",
   "metadata": {},
   "source": [
    "**问题：**\n",
    "\n",
    "1，看了最后买了quantity>2，会显示成没买"
   ]
  },
  {
   "cell_type": "code",
   "execution_count": 265,
   "metadata": {},
   "outputs": [
    {
     "data": {
      "text/html": [
       "<div>\n",
       "<style scoped>\n",
       "    .dataframe tbody tr th:only-of-type {\n",
       "        vertical-align: middle;\n",
       "    }\n",
       "\n",
       "    .dataframe tbody tr th {\n",
       "        vertical-align: top;\n",
       "    }\n",
       "\n",
       "    .dataframe thead th {\n",
       "        text-align: right;\n",
       "    }\n",
       "</style>\n",
       "<table border=\"1\" class=\"dataframe\">\n",
       "  <thead>\n",
       "    <tr style=\"text-align: right;\">\n",
       "      <th></th>\n",
       "      <th>order_ID</th>\n",
       "      <th>user_ID</th>\n",
       "      <th>sku_ID</th>\n",
       "      <th>order_date</th>\n",
       "      <th>order_time</th>\n",
       "      <th>quantity</th>\n",
       "      <th>type</th>\n",
       "      <th>promise</th>\n",
       "      <th>original_unit_price</th>\n",
       "      <th>final_unit_price</th>\n",
       "      <th>direct_discount_per_unit</th>\n",
       "      <th>quantity_discount_per_unit</th>\n",
       "      <th>bundle_discount_per_unit</th>\n",
       "      <th>coupon_discount_per_unit</th>\n",
       "      <th>gift_item</th>\n",
       "      <th>dc_ori</th>\n",
       "      <th>dc_des</th>\n",
       "    </tr>\n",
       "  </thead>\n",
       "  <tbody>\n",
       "    <tr>\n",
       "      <td>358903</td>\n",
       "      <td>6fde6aa881</td>\n",
       "      <td>000c423cca</td>\n",
       "      <td>4b65db43ac</td>\n",
       "      <td>2018-03-22</td>\n",
       "      <td>2018-03-22 23:56:45.0</td>\n",
       "      <td>2</td>\n",
       "      <td>1</td>\n",
       "      <td>2</td>\n",
       "      <td>89.0</td>\n",
       "      <td>51.5</td>\n",
       "      <td>4.0</td>\n",
       "      <td>30.5</td>\n",
       "      <td>0.0</td>\n",
       "      <td>3.0</td>\n",
       "      <td>0</td>\n",
       "      <td>9</td>\n",
       "      <td>9</td>\n",
       "    </tr>\n",
       "  </tbody>\n",
       "</table>\n",
       "</div>"
      ],
      "text/plain": [
       "          order_ID     user_ID      sku_ID  order_date             order_time  \\\n",
       "358903  6fde6aa881  000c423cca  4b65db43ac  2018-03-22  2018-03-22 23:56:45.0   \n",
       "\n",
       "        quantity  type promise  original_unit_price  final_unit_price  \\\n",
       "358903         2     1       2                 89.0              51.5   \n",
       "\n",
       "        direct_discount_per_unit  quantity_discount_per_unit  \\\n",
       "358903                       4.0                        30.5   \n",
       "\n",
       "        bundle_discount_per_unit  coupon_discount_per_unit  gift_item  dc_ori  \\\n",
       "358903                       0.0                       3.0          0       9   \n",
       "\n",
       "        dc_des  \n",
       "358903       9  "
      ]
     },
     "execution_count": 265,
     "metadata": {},
     "output_type": "execute_result"
    }
   ],
   "source": [
    "orders[orders['user_ID']=='000c423cca']"
   ]
  },
  {
   "cell_type": "markdown",
   "metadata": {},
   "source": [
    "2, 什么都没看，直接买了这8个中的"
   ]
  },
  {
   "cell_type": "code",
   "execution_count": 266,
   "metadata": {},
   "outputs": [
    {
     "data": {
      "text/html": [
       "<div>\n",
       "<style scoped>\n",
       "    .dataframe tbody tr th:only-of-type {\n",
       "        vertical-align: middle;\n",
       "    }\n",
       "\n",
       "    .dataframe tbody tr th {\n",
       "        vertical-align: top;\n",
       "    }\n",
       "\n",
       "    .dataframe thead th {\n",
       "        text-align: right;\n",
       "    }\n",
       "</style>\n",
       "<table border=\"1\" class=\"dataframe\">\n",
       "  <thead>\n",
       "    <tr style=\"text-align: right;\">\n",
       "      <th></th>\n",
       "      <th>sku_ID</th>\n",
       "      <th>user_ID</th>\n",
       "      <th>request_time</th>\n",
       "      <th>channel</th>\n",
       "    </tr>\n",
       "  </thead>\n",
       "  <tbody>\n",
       "  </tbody>\n",
       "</table>\n",
       "</div>"
      ],
      "text/plain": [
       "Empty DataFrame\n",
       "Columns: [sku_ID, user_ID, request_time, channel]\n",
       "Index: []"
      ]
     },
     "execution_count": 266,
     "metadata": {},
     "output_type": "execute_result"
    }
   ],
   "source": [
    "clicks[clicks['user_ID']=='2872e7352f']"
   ]
  },
  {
   "cell_type": "code",
   "execution_count": 267,
   "metadata": {},
   "outputs": [
    {
     "data": {
      "text/html": [
       "<div>\n",
       "<style scoped>\n",
       "    .dataframe tbody tr th:only-of-type {\n",
       "        vertical-align: middle;\n",
       "    }\n",
       "\n",
       "    .dataframe tbody tr th {\n",
       "        vertical-align: top;\n",
       "    }\n",
       "\n",
       "    .dataframe thead th {\n",
       "        text-align: right;\n",
       "    }\n",
       "</style>\n",
       "<table border=\"1\" class=\"dataframe\">\n",
       "  <thead>\n",
       "    <tr style=\"text-align: right;\">\n",
       "      <th></th>\n",
       "      <th>order_ID</th>\n",
       "      <th>user_ID</th>\n",
       "      <th>sku_ID</th>\n",
       "      <th>order_date</th>\n",
       "      <th>order_time</th>\n",
       "      <th>quantity</th>\n",
       "      <th>type</th>\n",
       "      <th>promise</th>\n",
       "      <th>original_unit_price</th>\n",
       "      <th>final_unit_price</th>\n",
       "      <th>direct_discount_per_unit</th>\n",
       "      <th>quantity_discount_per_unit</th>\n",
       "      <th>bundle_discount_per_unit</th>\n",
       "      <th>coupon_discount_per_unit</th>\n",
       "      <th>gift_item</th>\n",
       "      <th>dc_ori</th>\n",
       "      <th>dc_des</th>\n",
       "    </tr>\n",
       "  </thead>\n",
       "  <tbody>\n",
       "    <tr>\n",
       "      <td>547707</td>\n",
       "      <td>03a16f19a3</td>\n",
       "      <td>2872e7352f</td>\n",
       "      <td>915cd3c4c0</td>\n",
       "      <td>2018-03-31</td>\n",
       "      <td>2018-03-31 20:31:14.0</td>\n",
       "      <td>1</td>\n",
       "      <td>1</td>\n",
       "      <td>1</td>\n",
       "      <td>70.0</td>\n",
       "      <td>67.0</td>\n",
       "      <td>0.0</td>\n",
       "      <td>0.0</td>\n",
       "      <td>0.0</td>\n",
       "      <td>3.0</td>\n",
       "      <td>0</td>\n",
       "      <td>2</td>\n",
       "      <td>2</td>\n",
       "    </tr>\n",
       "  </tbody>\n",
       "</table>\n",
       "</div>"
      ],
      "text/plain": [
       "          order_ID     user_ID      sku_ID  order_date             order_time  \\\n",
       "547707  03a16f19a3  2872e7352f  915cd3c4c0  2018-03-31  2018-03-31 20:31:14.0   \n",
       "\n",
       "        quantity  type promise  original_unit_price  final_unit_price  \\\n",
       "547707         1     1       1                 70.0              67.0   \n",
       "\n",
       "        direct_discount_per_unit  quantity_discount_per_unit  \\\n",
       "547707                       0.0                         0.0   \n",
       "\n",
       "        bundle_discount_per_unit  coupon_discount_per_unit  gift_item  dc_ori  \\\n",
       "547707                       0.0                       3.0          0       2   \n",
       "\n",
       "        dc_des  \n",
       "547707       2  "
      ]
     },
     "execution_count": 267,
     "metadata": {},
     "output_type": "execute_result"
    }
   ],
   "source": [
    "orders[orders['user_ID']=='2872e7352f']"
   ]
  },
  {
   "cell_type": "markdown",
   "metadata": {},
   "source": [
    "3, 看了别的，最后买了这8个中的"
   ]
  },
  {
   "cell_type": "code",
   "execution_count": 268,
   "metadata": {},
   "outputs": [
    {
     "data": {
      "text/html": [
       "<div>\n",
       "<style scoped>\n",
       "    .dataframe tbody tr th:only-of-type {\n",
       "        vertical-align: middle;\n",
       "    }\n",
       "\n",
       "    .dataframe tbody tr th {\n",
       "        vertical-align: top;\n",
       "    }\n",
       "\n",
       "    .dataframe thead th {\n",
       "        text-align: right;\n",
       "    }\n",
       "</style>\n",
       "<table border=\"1\" class=\"dataframe\">\n",
       "  <thead>\n",
       "    <tr style=\"text-align: right;\">\n",
       "      <th></th>\n",
       "      <th>sku_ID</th>\n",
       "      <th>user_ID</th>\n",
       "      <th>request_time</th>\n",
       "      <th>channel</th>\n",
       "    </tr>\n",
       "  </thead>\n",
       "  <tbody>\n",
       "    <tr>\n",
       "      <td>16975269</td>\n",
       "      <td>c8811ecdbc</td>\n",
       "      <td>c5cd3c7d66</td>\n",
       "      <td>2018-03-28 14:51:17</td>\n",
       "      <td>app</td>\n",
       "    </tr>\n",
       "    <tr>\n",
       "      <td>17055510</td>\n",
       "      <td>ccf8ac9fbb</td>\n",
       "      <td>c5cd3c7d66</td>\n",
       "      <td>2018-03-28 14:49:24</td>\n",
       "      <td>app</td>\n",
       "    </tr>\n",
       "    <tr>\n",
       "      <td>17059593</td>\n",
       "      <td>f7280c119d</td>\n",
       "      <td>c5cd3c7d66</td>\n",
       "      <td>2018-03-28 15:02:53</td>\n",
       "      <td>app</td>\n",
       "    </tr>\n",
       "    <tr>\n",
       "      <td>17059594</td>\n",
       "      <td>f7280c119d</td>\n",
       "      <td>c5cd3c7d66</td>\n",
       "      <td>2018-03-28 14:54:20</td>\n",
       "      <td>app</td>\n",
       "    </tr>\n",
       "    <tr>\n",
       "      <td>17059596</td>\n",
       "      <td>f7280c119d</td>\n",
       "      <td>c5cd3c7d66</td>\n",
       "      <td>2018-03-28 14:48:36</td>\n",
       "      <td>app</td>\n",
       "    </tr>\n",
       "    <tr>\n",
       "      <td>17059597</td>\n",
       "      <td>f7280c119d</td>\n",
       "      <td>c5cd3c7d66</td>\n",
       "      <td>2018-03-28 14:48:40</td>\n",
       "      <td>app</td>\n",
       "    </tr>\n",
       "    <tr>\n",
       "      <td>17069608</td>\n",
       "      <td>0eb4088cb7</td>\n",
       "      <td>c5cd3c7d66</td>\n",
       "      <td>2018-03-28 15:02:41</td>\n",
       "      <td>app</td>\n",
       "    </tr>\n",
       "  </tbody>\n",
       "</table>\n",
       "</div>"
      ],
      "text/plain": [
       "              sku_ID     user_ID         request_time channel\n",
       "16975269  c8811ecdbc  c5cd3c7d66  2018-03-28 14:51:17     app\n",
       "17055510  ccf8ac9fbb  c5cd3c7d66  2018-03-28 14:49:24     app\n",
       "17059593  f7280c119d  c5cd3c7d66  2018-03-28 15:02:53     app\n",
       "17059594  f7280c119d  c5cd3c7d66  2018-03-28 14:54:20     app\n",
       "17059596  f7280c119d  c5cd3c7d66  2018-03-28 14:48:36     app\n",
       "17059597  f7280c119d  c5cd3c7d66  2018-03-28 14:48:40     app\n",
       "17069608  0eb4088cb7  c5cd3c7d66  2018-03-28 15:02:41     app"
      ]
     },
     "execution_count": 268,
     "metadata": {},
     "output_type": "execute_result"
    }
   ],
   "source": [
    "clicks[clicks['user_ID']=='c5cd3c7d66']"
   ]
  },
  {
   "cell_type": "code",
   "execution_count": 269,
   "metadata": {},
   "outputs": [
    {
     "data": {
      "text/html": [
       "<div>\n",
       "<style scoped>\n",
       "    .dataframe tbody tr th:only-of-type {\n",
       "        vertical-align: middle;\n",
       "    }\n",
       "\n",
       "    .dataframe tbody tr th {\n",
       "        vertical-align: top;\n",
       "    }\n",
       "\n",
       "    .dataframe thead th {\n",
       "        text-align: right;\n",
       "    }\n",
       "</style>\n",
       "<table border=\"1\" class=\"dataframe\">\n",
       "  <thead>\n",
       "    <tr style=\"text-align: right;\">\n",
       "      <th></th>\n",
       "      <th>order_ID</th>\n",
       "      <th>user_ID</th>\n",
       "      <th>sku_ID</th>\n",
       "      <th>order_date</th>\n",
       "      <th>order_time</th>\n",
       "      <th>quantity</th>\n",
       "      <th>type</th>\n",
       "      <th>promise</th>\n",
       "      <th>original_unit_price</th>\n",
       "      <th>final_unit_price</th>\n",
       "      <th>direct_discount_per_unit</th>\n",
       "      <th>quantity_discount_per_unit</th>\n",
       "      <th>bundle_discount_per_unit</th>\n",
       "      <th>coupon_discount_per_unit</th>\n",
       "      <th>gift_item</th>\n",
       "      <th>dc_ori</th>\n",
       "      <th>dc_des</th>\n",
       "    </tr>\n",
       "  </thead>\n",
       "  <tbody>\n",
       "    <tr>\n",
       "      <td>480254</td>\n",
       "      <td>8b5efac4f5</td>\n",
       "      <td>c5cd3c7d66</td>\n",
       "      <td>81e57cbc50</td>\n",
       "      <td>2018-03-28</td>\n",
       "      <td>2018-03-28 15:08:22.0</td>\n",
       "      <td>1</td>\n",
       "      <td>1</td>\n",
       "      <td>1</td>\n",
       "      <td>148.0</td>\n",
       "      <td>125.0</td>\n",
       "      <td>23.0</td>\n",
       "      <td>0.0</td>\n",
       "      <td>0.0</td>\n",
       "      <td>0.0</td>\n",
       "      <td>0</td>\n",
       "      <td>2</td>\n",
       "      <td>2</td>\n",
       "    </tr>\n",
       "  </tbody>\n",
       "</table>\n",
       "</div>"
      ],
      "text/plain": [
       "          order_ID     user_ID      sku_ID  order_date             order_time  \\\n",
       "480254  8b5efac4f5  c5cd3c7d66  81e57cbc50  2018-03-28  2018-03-28 15:08:22.0   \n",
       "\n",
       "        quantity  type promise  original_unit_price  final_unit_price  \\\n",
       "480254         1     1       1                148.0             125.0   \n",
       "\n",
       "        direct_discount_per_unit  quantity_discount_per_unit  \\\n",
       "480254                      23.0                         0.0   \n",
       "\n",
       "        bundle_discount_per_unit  coupon_discount_per_unit  gift_item  dc_ori  \\\n",
       "480254                       0.0                       0.0          0       2   \n",
       "\n",
       "        dc_des  \n",
       "480254       2  "
      ]
     },
     "execution_count": 269,
     "metadata": {},
     "output_type": "execute_result"
    }
   ],
   "source": [
    "orders[orders['user_ID']=='c5cd3c7d66']"
   ]
  },
  {
   "cell_type": "markdown",
   "metadata": {},
   "source": [
    "4，outside option 看了这8个中的，最后买了别的"
   ]
  },
  {
   "cell_type": "code",
   "execution_count": 270,
   "metadata": {},
   "outputs": [
    {
     "data": {
      "text/html": [
       "<div>\n",
       "<style scoped>\n",
       "    .dataframe tbody tr th:only-of-type {\n",
       "        vertical-align: middle;\n",
       "    }\n",
       "\n",
       "    .dataframe tbody tr th {\n",
       "        vertical-align: top;\n",
       "    }\n",
       "\n",
       "    .dataframe thead th {\n",
       "        text-align: right;\n",
       "    }\n",
       "</style>\n",
       "<table border=\"1\" class=\"dataframe\">\n",
       "  <thead>\n",
       "    <tr style=\"text-align: right;\">\n",
       "      <th></th>\n",
       "      <th>order_ID</th>\n",
       "      <th>user_ID</th>\n",
       "      <th>sku_ID</th>\n",
       "      <th>order_date</th>\n",
       "      <th>order_time</th>\n",
       "      <th>quantity</th>\n",
       "      <th>type</th>\n",
       "      <th>promise</th>\n",
       "      <th>original_unit_price</th>\n",
       "      <th>final_unit_price</th>\n",
       "      <th>direct_discount_per_unit</th>\n",
       "      <th>quantity_discount_per_unit</th>\n",
       "      <th>bundle_discount_per_unit</th>\n",
       "      <th>coupon_discount_per_unit</th>\n",
       "      <th>gift_item</th>\n",
       "      <th>dc_ori</th>\n",
       "      <th>dc_des</th>\n",
       "    </tr>\n",
       "  </thead>\n",
       "  <tbody>\n",
       "    <tr>\n",
       "      <td>138085</td>\n",
       "      <td>34fa5a47bf</td>\n",
       "      <td>00f2a0f80d</td>\n",
       "      <td>3c79df1d80</td>\n",
       "      <td>2018-03-07</td>\n",
       "      <td>2018-03-07 15:10:41.0</td>\n",
       "      <td>1</td>\n",
       "      <td>1</td>\n",
       "      <td>2</td>\n",
       "      <td>59.9</td>\n",
       "      <td>44.9</td>\n",
       "      <td>15.0</td>\n",
       "      <td>0.0</td>\n",
       "      <td>0.0</td>\n",
       "      <td>0.0</td>\n",
       "      <td>0</td>\n",
       "      <td>24</td>\n",
       "      <td>24</td>\n",
       "    </tr>\n",
       "  </tbody>\n",
       "</table>\n",
       "</div>"
      ],
      "text/plain": [
       "          order_ID     user_ID      sku_ID  order_date             order_time  \\\n",
       "138085  34fa5a47bf  00f2a0f80d  3c79df1d80  2018-03-07  2018-03-07 15:10:41.0   \n",
       "\n",
       "        quantity  type promise  original_unit_price  final_unit_price  \\\n",
       "138085         1     1       2                 59.9              44.9   \n",
       "\n",
       "        direct_discount_per_unit  quantity_discount_per_unit  \\\n",
       "138085                      15.0                         0.0   \n",
       "\n",
       "        bundle_discount_per_unit  coupon_discount_per_unit  gift_item  dc_ori  \\\n",
       "138085                       0.0                       0.0          0      24   \n",
       "\n",
       "        dc_des  \n",
       "138085      24  "
      ]
     },
     "execution_count": 270,
     "metadata": {},
     "output_type": "execute_result"
    }
   ],
   "source": [
    "orders[orders['user_ID']=='00f2a0f80d']"
   ]
  },
  {
   "cell_type": "code",
   "execution_count": null,
   "metadata": {
    "collapsed": true
   },
   "outputs": [],
   "source": []
  },
  {
   "cell_type": "markdown",
   "metadata": {},
   "source": [
    "**查看click set和purchase set的组合情况** "
   ]
  },
  {
   "cell_type": "code",
   "execution_count": 322,
   "metadata": {},
   "outputs": [
    {
     "data": {
      "text/html": [
       "<div>\n",
       "<style scoped>\n",
       "    .dataframe tbody tr th:only-of-type {\n",
       "        vertical-align: middle;\n",
       "    }\n",
       "\n",
       "    .dataframe tbody tr th {\n",
       "        vertical-align: top;\n",
       "    }\n",
       "\n",
       "    .dataframe thead th {\n",
       "        text-align: right;\n",
       "    }\n",
       "</style>\n",
       "<table border=\"1\" class=\"dataframe\">\n",
       "  <thead>\n",
       "    <tr style=\"text-align: right;\">\n",
       "      <th></th>\n",
       "      <th>user_ID</th>\n",
       "      <th>clickNum</th>\n",
       "      <th>clickSku</th>\n",
       "      <th>clickSet</th>\n",
       "      <th>purchaseSku</th>\n",
       "      <th>purchaseNum</th>\n",
       "    </tr>\n",
       "  </thead>\n",
       "  <tbody>\n",
       "    <tr>\n",
       "      <td>0</td>\n",
       "      <td>0009bb7aea</td>\n",
       "      <td>2.0</td>\n",
       "      <td>[589c2b865b, 4b65db43ac]</td>\n",
       "      <td>['4b65db43ac' '589c2b865b']</td>\n",
       "      <td>NaN</td>\n",
       "      <td>NaN</td>\n",
       "    </tr>\n",
       "    <tr>\n",
       "      <td>1</td>\n",
       "      <td>000c423cca</td>\n",
       "      <td>2.0</td>\n",
       "      <td>[8dc4a01dec, 4b65db43ac]</td>\n",
       "      <td>['4b65db43ac' '8dc4a01dec']</td>\n",
       "      <td>NaN</td>\n",
       "      <td>NaN</td>\n",
       "    </tr>\n",
       "    <tr>\n",
       "      <td>2</td>\n",
       "      <td>000cd166be</td>\n",
       "      <td>3.0</td>\n",
       "      <td>[c56544784c, 7f947c0055, 81e57cbc50]</td>\n",
       "      <td>['7f947c0055' '81e57cbc50' 'c56544784c']</td>\n",
       "      <td>[7f947c0055]</td>\n",
       "      <td>1.0</td>\n",
       "    </tr>\n",
       "    <tr>\n",
       "      <td>3</td>\n",
       "      <td>00105cf94f</td>\n",
       "      <td>2.0</td>\n",
       "      <td>[589c2b865b, 8dc4a01dec]</td>\n",
       "      <td>['589c2b865b' '8dc4a01dec']</td>\n",
       "      <td>NaN</td>\n",
       "      <td>NaN</td>\n",
       "    </tr>\n",
       "    <tr>\n",
       "      <td>4</td>\n",
       "      <td>0012371678</td>\n",
       "      <td>4.0</td>\n",
       "      <td>[c56544784c, 81e57cbc50, 8dc4a01dec, 4b65db43ac]</td>\n",
       "      <td>['4b65db43ac' '81e57cbc50' '8dc4a01dec' 'c5654...</td>\n",
       "      <td>NaN</td>\n",
       "      <td>NaN</td>\n",
       "    </tr>\n",
       "    <tr>\n",
       "      <td>...</td>\n",
       "      <td>...</td>\n",
       "      <td>...</td>\n",
       "      <td>...</td>\n",
       "      <td>...</td>\n",
       "      <td>...</td>\n",
       "      <td>...</td>\n",
       "    </tr>\n",
       "    <tr>\n",
       "      <td>97756</td>\n",
       "      <td>d7e51b5a69</td>\n",
       "      <td>NaN</td>\n",
       "      <td>NaN</td>\n",
       "      <td>NaN</td>\n",
       "      <td>[915cd3c4c0]</td>\n",
       "      <td>1.0</td>\n",
       "    </tr>\n",
       "    <tr>\n",
       "      <td>97757</td>\n",
       "      <td>2872e7352f</td>\n",
       "      <td>NaN</td>\n",
       "      <td>NaN</td>\n",
       "      <td>NaN</td>\n",
       "      <td>[915cd3c4c0]</td>\n",
       "      <td>1.0</td>\n",
       "    </tr>\n",
       "    <tr>\n",
       "      <td>97758</td>\n",
       "      <td>7c5be90738</td>\n",
       "      <td>NaN</td>\n",
       "      <td>NaN</td>\n",
       "      <td>NaN</td>\n",
       "      <td>[c56544784c]</td>\n",
       "      <td>1.0</td>\n",
       "    </tr>\n",
       "    <tr>\n",
       "      <td>97759</td>\n",
       "      <td>f8c7c795f3</td>\n",
       "      <td>NaN</td>\n",
       "      <td>NaN</td>\n",
       "      <td>NaN</td>\n",
       "      <td>[81e57cbc50]</td>\n",
       "      <td>1.0</td>\n",
       "    </tr>\n",
       "    <tr>\n",
       "      <td>97760</td>\n",
       "      <td>7db031c050</td>\n",
       "      <td>NaN</td>\n",
       "      <td>NaN</td>\n",
       "      <td>NaN</td>\n",
       "      <td>[81e57cbc50]</td>\n",
       "      <td>1.0</td>\n",
       "    </tr>\n",
       "  </tbody>\n",
       "</table>\n",
       "<p>97761 rows × 6 columns</p>\n",
       "</div>"
      ],
      "text/plain": [
       "          user_ID  clickNum                                          clickSku  \\\n",
       "0      0009bb7aea       2.0                          [589c2b865b, 4b65db43ac]   \n",
       "1      000c423cca       2.0                          [8dc4a01dec, 4b65db43ac]   \n",
       "2      000cd166be       3.0              [c56544784c, 7f947c0055, 81e57cbc50]   \n",
       "3      00105cf94f       2.0                          [589c2b865b, 8dc4a01dec]   \n",
       "4      0012371678       4.0  [c56544784c, 81e57cbc50, 8dc4a01dec, 4b65db43ac]   \n",
       "...           ...       ...                                               ...   \n",
       "97756  d7e51b5a69       NaN                                               NaN   \n",
       "97757  2872e7352f       NaN                                               NaN   \n",
       "97758  7c5be90738       NaN                                               NaN   \n",
       "97759  f8c7c795f3       NaN                                               NaN   \n",
       "97760  7db031c050       NaN                                               NaN   \n",
       "\n",
       "                                                clickSet   purchaseSku  \\\n",
       "0                            ['4b65db43ac' '589c2b865b']           NaN   \n",
       "1                            ['4b65db43ac' '8dc4a01dec']           NaN   \n",
       "2               ['7f947c0055' '81e57cbc50' 'c56544784c']  [7f947c0055]   \n",
       "3                            ['589c2b865b' '8dc4a01dec']           NaN   \n",
       "4      ['4b65db43ac' '81e57cbc50' '8dc4a01dec' 'c5654...           NaN   \n",
       "...                                                  ...           ...   \n",
       "97756                                                NaN  [915cd3c4c0]   \n",
       "97757                                                NaN  [915cd3c4c0]   \n",
       "97758                                                NaN  [c56544784c]   \n",
       "97759                                                NaN  [81e57cbc50]   \n",
       "97760                                                NaN  [81e57cbc50]   \n",
       "\n",
       "       purchaseNum  \n",
       "0              NaN  \n",
       "1              NaN  \n",
       "2              1.0  \n",
       "3              NaN  \n",
       "4              NaN  \n",
       "...            ...  \n",
       "97756          1.0  \n",
       "97757          1.0  \n",
       "97758          1.0  \n",
       "97759          1.0  \n",
       "97760          1.0  \n",
       "\n",
       "[97761 rows x 6 columns]"
      ]
     },
     "execution_count": 322,
     "metadata": {},
     "output_type": "execute_result"
    }
   ],
   "source": [
    "productSet"
   ]
  },
  {
   "cell_type": "code",
   "execution_count": 323,
   "metadata": {
    "collapsed": true
   },
   "outputs": [],
   "source": [
    "productSet['purchaseSet'] = productSet['purchaseSku'].apply(str)"
   ]
  },
  {
   "cell_type": "code",
   "execution_count": 324,
   "metadata": {},
   "outputs": [
    {
     "data": {
      "text/html": [
       "<div>\n",
       "<style scoped>\n",
       "    .dataframe tbody tr th:only-of-type {\n",
       "        vertical-align: middle;\n",
       "    }\n",
       "\n",
       "    .dataframe tbody tr th {\n",
       "        vertical-align: top;\n",
       "    }\n",
       "\n",
       "    .dataframe thead th {\n",
       "        text-align: right;\n",
       "    }\n",
       "</style>\n",
       "<table border=\"1\" class=\"dataframe\">\n",
       "  <thead>\n",
       "    <tr style=\"text-align: right;\">\n",
       "      <th></th>\n",
       "      <th>user_ID</th>\n",
       "      <th>clickNum</th>\n",
       "      <th>clickSku</th>\n",
       "      <th>clickSet</th>\n",
       "      <th>purchaseSku</th>\n",
       "      <th>purchaseNum</th>\n",
       "      <th>purchaseSet</th>\n",
       "    </tr>\n",
       "  </thead>\n",
       "  <tbody>\n",
       "    <tr>\n",
       "      <td>0</td>\n",
       "      <td>0009bb7aea</td>\n",
       "      <td>2.0</td>\n",
       "      <td>[589c2b865b, 4b65db43ac]</td>\n",
       "      <td>['4b65db43ac' '589c2b865b']</td>\n",
       "      <td>NaN</td>\n",
       "      <td>NaN</td>\n",
       "      <td>nan</td>\n",
       "    </tr>\n",
       "    <tr>\n",
       "      <td>1</td>\n",
       "      <td>000c423cca</td>\n",
       "      <td>2.0</td>\n",
       "      <td>[8dc4a01dec, 4b65db43ac]</td>\n",
       "      <td>['4b65db43ac' '8dc4a01dec']</td>\n",
       "      <td>NaN</td>\n",
       "      <td>NaN</td>\n",
       "      <td>nan</td>\n",
       "    </tr>\n",
       "    <tr>\n",
       "      <td>2</td>\n",
       "      <td>000cd166be</td>\n",
       "      <td>3.0</td>\n",
       "      <td>[c56544784c, 7f947c0055, 81e57cbc50]</td>\n",
       "      <td>['7f947c0055' '81e57cbc50' 'c56544784c']</td>\n",
       "      <td>[7f947c0055]</td>\n",
       "      <td>1.0</td>\n",
       "      <td>['7f947c0055']</td>\n",
       "    </tr>\n",
       "    <tr>\n",
       "      <td>3</td>\n",
       "      <td>00105cf94f</td>\n",
       "      <td>2.0</td>\n",
       "      <td>[589c2b865b, 8dc4a01dec]</td>\n",
       "      <td>['589c2b865b' '8dc4a01dec']</td>\n",
       "      <td>NaN</td>\n",
       "      <td>NaN</td>\n",
       "      <td>nan</td>\n",
       "    </tr>\n",
       "    <tr>\n",
       "      <td>4</td>\n",
       "      <td>0012371678</td>\n",
       "      <td>4.0</td>\n",
       "      <td>[c56544784c, 81e57cbc50, 8dc4a01dec, 4b65db43ac]</td>\n",
       "      <td>['4b65db43ac' '81e57cbc50' '8dc4a01dec' 'c5654...</td>\n",
       "      <td>NaN</td>\n",
       "      <td>NaN</td>\n",
       "      <td>nan</td>\n",
       "    </tr>\n",
       "    <tr>\n",
       "      <td>...</td>\n",
       "      <td>...</td>\n",
       "      <td>...</td>\n",
       "      <td>...</td>\n",
       "      <td>...</td>\n",
       "      <td>...</td>\n",
       "      <td>...</td>\n",
       "      <td>...</td>\n",
       "    </tr>\n",
       "    <tr>\n",
       "      <td>97756</td>\n",
       "      <td>d7e51b5a69</td>\n",
       "      <td>NaN</td>\n",
       "      <td>NaN</td>\n",
       "      <td>NaN</td>\n",
       "      <td>[915cd3c4c0]</td>\n",
       "      <td>1.0</td>\n",
       "      <td>['915cd3c4c0']</td>\n",
       "    </tr>\n",
       "    <tr>\n",
       "      <td>97757</td>\n",
       "      <td>2872e7352f</td>\n",
       "      <td>NaN</td>\n",
       "      <td>NaN</td>\n",
       "      <td>NaN</td>\n",
       "      <td>[915cd3c4c0]</td>\n",
       "      <td>1.0</td>\n",
       "      <td>['915cd3c4c0']</td>\n",
       "    </tr>\n",
       "    <tr>\n",
       "      <td>97758</td>\n",
       "      <td>7c5be90738</td>\n",
       "      <td>NaN</td>\n",
       "      <td>NaN</td>\n",
       "      <td>NaN</td>\n",
       "      <td>[c56544784c]</td>\n",
       "      <td>1.0</td>\n",
       "      <td>['c56544784c']</td>\n",
       "    </tr>\n",
       "    <tr>\n",
       "      <td>97759</td>\n",
       "      <td>f8c7c795f3</td>\n",
       "      <td>NaN</td>\n",
       "      <td>NaN</td>\n",
       "      <td>NaN</td>\n",
       "      <td>[81e57cbc50]</td>\n",
       "      <td>1.0</td>\n",
       "      <td>['81e57cbc50']</td>\n",
       "    </tr>\n",
       "    <tr>\n",
       "      <td>97760</td>\n",
       "      <td>7db031c050</td>\n",
       "      <td>NaN</td>\n",
       "      <td>NaN</td>\n",
       "      <td>NaN</td>\n",
       "      <td>[81e57cbc50]</td>\n",
       "      <td>1.0</td>\n",
       "      <td>['81e57cbc50']</td>\n",
       "    </tr>\n",
       "  </tbody>\n",
       "</table>\n",
       "<p>97761 rows × 7 columns</p>\n",
       "</div>"
      ],
      "text/plain": [
       "          user_ID  clickNum                                          clickSku  \\\n",
       "0      0009bb7aea       2.0                          [589c2b865b, 4b65db43ac]   \n",
       "1      000c423cca       2.0                          [8dc4a01dec, 4b65db43ac]   \n",
       "2      000cd166be       3.0              [c56544784c, 7f947c0055, 81e57cbc50]   \n",
       "3      00105cf94f       2.0                          [589c2b865b, 8dc4a01dec]   \n",
       "4      0012371678       4.0  [c56544784c, 81e57cbc50, 8dc4a01dec, 4b65db43ac]   \n",
       "...           ...       ...                                               ...   \n",
       "97756  d7e51b5a69       NaN                                               NaN   \n",
       "97757  2872e7352f       NaN                                               NaN   \n",
       "97758  7c5be90738       NaN                                               NaN   \n",
       "97759  f8c7c795f3       NaN                                               NaN   \n",
       "97760  7db031c050       NaN                                               NaN   \n",
       "\n",
       "                                                clickSet   purchaseSku  \\\n",
       "0                            ['4b65db43ac' '589c2b865b']           NaN   \n",
       "1                            ['4b65db43ac' '8dc4a01dec']           NaN   \n",
       "2               ['7f947c0055' '81e57cbc50' 'c56544784c']  [7f947c0055]   \n",
       "3                            ['589c2b865b' '8dc4a01dec']           NaN   \n",
       "4      ['4b65db43ac' '81e57cbc50' '8dc4a01dec' 'c5654...           NaN   \n",
       "...                                                  ...           ...   \n",
       "97756                                                NaN  [915cd3c4c0]   \n",
       "97757                                                NaN  [915cd3c4c0]   \n",
       "97758                                                NaN  [c56544784c]   \n",
       "97759                                                NaN  [81e57cbc50]   \n",
       "97760                                                NaN  [81e57cbc50]   \n",
       "\n",
       "       purchaseNum     purchaseSet  \n",
       "0              NaN             nan  \n",
       "1              NaN             nan  \n",
       "2              1.0  ['7f947c0055']  \n",
       "3              NaN             nan  \n",
       "4              NaN             nan  \n",
       "...            ...             ...  \n",
       "97756          1.0  ['915cd3c4c0']  \n",
       "97757          1.0  ['915cd3c4c0']  \n",
       "97758          1.0  ['c56544784c']  \n",
       "97759          1.0  ['81e57cbc50']  \n",
       "97760          1.0  ['81e57cbc50']  \n",
       "\n",
       "[97761 rows x 7 columns]"
      ]
     },
     "execution_count": 324,
     "metadata": {},
     "output_type": "execute_result"
    }
   ],
   "source": [
    "productSet"
   ]
  },
  {
   "cell_type": "code",
   "execution_count": 334,
   "metadata": {
    "collapsed": true
   },
   "outputs": [],
   "source": [
    "combination = productSet.groupby(['clickSet','purchaseSet'],group_keys=False).count()"
   ]
  },
  {
   "cell_type": "code",
   "execution_count": 342,
   "metadata": {},
   "outputs": [
    {
     "data": {
      "text/plain": [
       "(898, 5)"
      ]
     },
     "execution_count": 342,
     "metadata": {},
     "output_type": "execute_result"
    }
   ],
   "source": [
    "combination.shape"
   ]
  },
  {
   "cell_type": "markdown",
   "metadata": {},
   "source": [
    "没看就买了的例子"
   ]
  },
  {
   "cell_type": "code",
   "execution_count": 340,
   "metadata": {},
   "outputs": [
    {
     "data": {
      "text/html": [
       "<div>\n",
       "<style scoped>\n",
       "    .dataframe tbody tr th:only-of-type {\n",
       "        vertical-align: middle;\n",
       "    }\n",
       "\n",
       "    .dataframe tbody tr th {\n",
       "        vertical-align: top;\n",
       "    }\n",
       "\n",
       "    .dataframe thead th {\n",
       "        text-align: right;\n",
       "    }\n",
       "</style>\n",
       "<table border=\"1\" class=\"dataframe\">\n",
       "  <thead>\n",
       "    <tr style=\"text-align: right;\">\n",
       "      <th></th>\n",
       "      <th></th>\n",
       "      <th>user_ID</th>\n",
       "      <th>clickNum</th>\n",
       "      <th>clickSku</th>\n",
       "      <th>purchaseSku</th>\n",
       "      <th>purchaseNum</th>\n",
       "    </tr>\n",
       "    <tr>\n",
       "      <th>clickSet</th>\n",
       "      <th>purchaseSet</th>\n",
       "      <th></th>\n",
       "      <th></th>\n",
       "      <th></th>\n",
       "      <th></th>\n",
       "      <th></th>\n",
       "    </tr>\n",
       "  </thead>\n",
       "  <tbody>\n",
       "    <tr>\n",
       "      <td rowspan=\"8\" valign=\"top\">38d636d2a6</td>\n",
       "      <td>['38d636d2a6']</td>\n",
       "      <td>4663</td>\n",
       "      <td>4663</td>\n",
       "      <td>4663</td>\n",
       "      <td>4663</td>\n",
       "      <td>4663</td>\n",
       "    </tr>\n",
       "    <tr>\n",
       "      <td>['4b65db43ac']</td>\n",
       "      <td>1</td>\n",
       "      <td>1</td>\n",
       "      <td>1</td>\n",
       "      <td>1</td>\n",
       "      <td>1</td>\n",
       "    </tr>\n",
       "    <tr>\n",
       "      <td>['589c2b865b']</td>\n",
       "      <td>3</td>\n",
       "      <td>3</td>\n",
       "      <td>3</td>\n",
       "      <td>3</td>\n",
       "      <td>3</td>\n",
       "    </tr>\n",
       "    <tr>\n",
       "      <td>['81e57cbc50']</td>\n",
       "      <td>2</td>\n",
       "      <td>2</td>\n",
       "      <td>2</td>\n",
       "      <td>2</td>\n",
       "      <td>2</td>\n",
       "    </tr>\n",
       "    <tr>\n",
       "      <td>['8dc4a01dec', '38d636d2a6']</td>\n",
       "      <td>1</td>\n",
       "      <td>1</td>\n",
       "      <td>1</td>\n",
       "      <td>1</td>\n",
       "      <td>1</td>\n",
       "    </tr>\n",
       "    <tr>\n",
       "      <td>['8dc4a01dec']</td>\n",
       "      <td>3</td>\n",
       "      <td>3</td>\n",
       "      <td>3</td>\n",
       "      <td>3</td>\n",
       "      <td>3</td>\n",
       "    </tr>\n",
       "    <tr>\n",
       "      <td>['915cd3c4c0']</td>\n",
       "      <td>1</td>\n",
       "      <td>1</td>\n",
       "      <td>1</td>\n",
       "      <td>1</td>\n",
       "      <td>1</td>\n",
       "    </tr>\n",
       "    <tr>\n",
       "      <td>nan</td>\n",
       "      <td>8908</td>\n",
       "      <td>8908</td>\n",
       "      <td>8908</td>\n",
       "      <td>0</td>\n",
       "      <td>0</td>\n",
       "    </tr>\n",
       "    <tr>\n",
       "      <td rowspan=\"2\" valign=\"top\">4b65db43ac</td>\n",
       "      <td>['4b65db43ac']</td>\n",
       "      <td>684</td>\n",
       "      <td>684</td>\n",
       "      <td>684</td>\n",
       "      <td>684</td>\n",
       "      <td>684</td>\n",
       "    </tr>\n",
       "    <tr>\n",
       "      <td>['81e57cbc50', '4b65db43ac']</td>\n",
       "      <td>1</td>\n",
       "      <td>1</td>\n",
       "      <td>1</td>\n",
       "      <td>1</td>\n",
       "      <td>1</td>\n",
       "    </tr>\n",
       "  </tbody>\n",
       "</table>\n",
       "</div>"
      ],
      "text/plain": [
       "                                         user_ID  clickNum  clickSku  \\\n",
       "clickSet   purchaseSet                                                 \n",
       "38d636d2a6 ['38d636d2a6']                   4663      4663      4663   \n",
       "           ['4b65db43ac']                      1         1         1   \n",
       "           ['589c2b865b']                      3         3         3   \n",
       "           ['81e57cbc50']                      2         2         2   \n",
       "           ['8dc4a01dec', '38d636d2a6']        1         1         1   \n",
       "           ['8dc4a01dec']                      3         3         3   \n",
       "           ['915cd3c4c0']                      1         1         1   \n",
       "           nan                              8908      8908      8908   \n",
       "4b65db43ac ['4b65db43ac']                    684       684       684   \n",
       "           ['81e57cbc50', '4b65db43ac']        1         1         1   \n",
       "\n",
       "                                         purchaseSku  purchaseNum  \n",
       "clickSet   purchaseSet                                             \n",
       "38d636d2a6 ['38d636d2a6']                       4663         4663  \n",
       "           ['4b65db43ac']                          1            1  \n",
       "           ['589c2b865b']                          3            3  \n",
       "           ['81e57cbc50']                          2            2  \n",
       "           ['8dc4a01dec', '38d636d2a6']            1            1  \n",
       "           ['8dc4a01dec']                          3            3  \n",
       "           ['915cd3c4c0']                          1            1  \n",
       "           nan                                     0            0  \n",
       "4b65db43ac ['4b65db43ac']                        684          684  \n",
       "           ['81e57cbc50', '4b65db43ac']            1            1  "
      ]
     },
     "execution_count": 340,
     "metadata": {},
     "output_type": "execute_result"
    }
   ],
   "source": [
    "combination[:10]"
   ]
  },
  {
   "cell_type": "markdown",
   "metadata": {},
   "source": [
    "其他例子 展示用"
   ]
  },
  {
   "cell_type": "code",
   "execution_count": 344,
   "metadata": {},
   "outputs": [
    {
     "data": {
      "text/html": [
       "<div>\n",
       "<style scoped>\n",
       "    .dataframe tbody tr th:only-of-type {\n",
       "        vertical-align: middle;\n",
       "    }\n",
       "\n",
       "    .dataframe tbody tr th {\n",
       "        vertical-align: top;\n",
       "    }\n",
       "\n",
       "    .dataframe thead th {\n",
       "        text-align: right;\n",
       "    }\n",
       "</style>\n",
       "<table border=\"1\" class=\"dataframe\">\n",
       "  <thead>\n",
       "    <tr style=\"text-align: right;\">\n",
       "      <th></th>\n",
       "      <th></th>\n",
       "      <th>user_ID</th>\n",
       "      <th>clickNum</th>\n",
       "      <th>clickSku</th>\n",
       "      <th>purchaseSku</th>\n",
       "      <th>purchaseNum</th>\n",
       "    </tr>\n",
       "    <tr>\n",
       "      <th>clickSet</th>\n",
       "      <th>purchaseSet</th>\n",
       "      <th></th>\n",
       "      <th></th>\n",
       "      <th></th>\n",
       "      <th></th>\n",
       "      <th></th>\n",
       "    </tr>\n",
       "  </thead>\n",
       "  <tbody>\n",
       "    <tr>\n",
       "      <td rowspan=\"7\" valign=\"top\">['38d636d2a6' '4b65db43ac' '589c2b865b' '8dc4a01dec']</td>\n",
       "      <td>['38d636d2a6']</td>\n",
       "      <td>7</td>\n",
       "      <td>7</td>\n",
       "      <td>7</td>\n",
       "      <td>7</td>\n",
       "      <td>7</td>\n",
       "    </tr>\n",
       "    <tr>\n",
       "      <td>['4b65db43ac']</td>\n",
       "      <td>3</td>\n",
       "      <td>3</td>\n",
       "      <td>3</td>\n",
       "      <td>3</td>\n",
       "      <td>3</td>\n",
       "    </tr>\n",
       "    <tr>\n",
       "      <td>['589c2b865b', '38d636d2a6']</td>\n",
       "      <td>1</td>\n",
       "      <td>1</td>\n",
       "      <td>1</td>\n",
       "      <td>1</td>\n",
       "      <td>1</td>\n",
       "    </tr>\n",
       "    <tr>\n",
       "      <td>['589c2b865b', '8dc4a01dec']</td>\n",
       "      <td>1</td>\n",
       "      <td>1</td>\n",
       "      <td>1</td>\n",
       "      <td>1</td>\n",
       "      <td>1</td>\n",
       "    </tr>\n",
       "    <tr>\n",
       "      <td>['589c2b865b']</td>\n",
       "      <td>7</td>\n",
       "      <td>7</td>\n",
       "      <td>7</td>\n",
       "      <td>7</td>\n",
       "      <td>7</td>\n",
       "    </tr>\n",
       "    <tr>\n",
       "      <td>['8dc4a01dec']</td>\n",
       "      <td>8</td>\n",
       "      <td>8</td>\n",
       "      <td>8</td>\n",
       "      <td>8</td>\n",
       "      <td>8</td>\n",
       "    </tr>\n",
       "    <tr>\n",
       "      <td>nan</td>\n",
       "      <td>59</td>\n",
       "      <td>59</td>\n",
       "      <td>59</td>\n",
       "      <td>0</td>\n",
       "      <td>0</td>\n",
       "    </tr>\n",
       "    <tr>\n",
       "      <td>['38d636d2a6' '4b65db43ac' '589c2b865b' '915cd3c4c0' 'c56544784c']</td>\n",
       "      <td>nan</td>\n",
       "      <td>1</td>\n",
       "      <td>1</td>\n",
       "      <td>1</td>\n",
       "      <td>0</td>\n",
       "      <td>0</td>\n",
       "    </tr>\n",
       "    <tr>\n",
       "      <td>['38d636d2a6' '4b65db43ac' '589c2b865b' '915cd3c4c0']</td>\n",
       "      <td>['38d636d2a6']</td>\n",
       "      <td>1</td>\n",
       "      <td>1</td>\n",
       "      <td>1</td>\n",
       "      <td>1</td>\n",
       "      <td>1</td>\n",
       "    </tr>\n",
       "    <tr>\n",
       "      <td>['38d636d2a6' '4b65db43ac' '589c2b865b' 'c56544784c']</td>\n",
       "      <td>nan</td>\n",
       "      <td>1</td>\n",
       "      <td>1</td>\n",
       "      <td>1</td>\n",
       "      <td>0</td>\n",
       "      <td>0</td>\n",
       "    </tr>\n",
       "    <tr>\n",
       "      <td rowspan=\"4\" valign=\"top\">['38d636d2a6' '4b65db43ac' '589c2b865b']</td>\n",
       "      <td>['38d636d2a6']</td>\n",
       "      <td>2</td>\n",
       "      <td>2</td>\n",
       "      <td>2</td>\n",
       "      <td>2</td>\n",
       "      <td>2</td>\n",
       "    </tr>\n",
       "    <tr>\n",
       "      <td>['4b65db43ac']</td>\n",
       "      <td>2</td>\n",
       "      <td>2</td>\n",
       "      <td>2</td>\n",
       "      <td>2</td>\n",
       "      <td>2</td>\n",
       "    </tr>\n",
       "    <tr>\n",
       "      <td>['589c2b865b']</td>\n",
       "      <td>2</td>\n",
       "      <td>2</td>\n",
       "      <td>2</td>\n",
       "      <td>2</td>\n",
       "      <td>2</td>\n",
       "    </tr>\n",
       "    <tr>\n",
       "      <td>nan</td>\n",
       "      <td>27</td>\n",
       "      <td>27</td>\n",
       "      <td>27</td>\n",
       "      <td>0</td>\n",
       "      <td>0</td>\n",
       "    </tr>\n",
       "    <tr>\n",
       "      <td rowspan=\"2\" valign=\"top\">['38d636d2a6' '4b65db43ac' '7f947c0055' '81e57cbc50' '8dc4a01dec'\\n '915cd3c4c0' 'c56544784c']</td>\n",
       "      <td>['38d636d2a6', '8dc4a01dec']</td>\n",
       "      <td>1</td>\n",
       "      <td>1</td>\n",
       "      <td>1</td>\n",
       "      <td>1</td>\n",
       "      <td>1</td>\n",
       "    </tr>\n",
       "    <tr>\n",
       "      <td>nan</td>\n",
       "      <td>2</td>\n",
       "      <td>2</td>\n",
       "      <td>2</td>\n",
       "      <td>0</td>\n",
       "      <td>0</td>\n",
       "    </tr>\n",
       "    <tr>\n",
       "      <td rowspan=\"2\" valign=\"top\">['38d636d2a6' '4b65db43ac' '7f947c0055' '81e57cbc50' '8dc4a01dec'\\n '915cd3c4c0']</td>\n",
       "      <td>['915cd3c4c0']</td>\n",
       "      <td>1</td>\n",
       "      <td>1</td>\n",
       "      <td>1</td>\n",
       "      <td>1</td>\n",
       "      <td>1</td>\n",
       "    </tr>\n",
       "    <tr>\n",
       "      <td>nan</td>\n",
       "      <td>1</td>\n",
       "      <td>1</td>\n",
       "      <td>1</td>\n",
       "      <td>0</td>\n",
       "      <td>0</td>\n",
       "    </tr>\n",
       "    <tr>\n",
       "      <td rowspan=\"5\" valign=\"top\">['38d636d2a6' '4b65db43ac' '7f947c0055' '81e57cbc50' '8dc4a01dec'\\n 'c56544784c']</td>\n",
       "      <td>['38d636d2a6']</td>\n",
       "      <td>1</td>\n",
       "      <td>1</td>\n",
       "      <td>1</td>\n",
       "      <td>1</td>\n",
       "      <td>1</td>\n",
       "    </tr>\n",
       "    <tr>\n",
       "      <td>['4b65db43ac']</td>\n",
       "      <td>2</td>\n",
       "      <td>2</td>\n",
       "      <td>2</td>\n",
       "      <td>2</td>\n",
       "      <td>2</td>\n",
       "    </tr>\n",
       "    <tr>\n",
       "      <td>['7f947c0055']</td>\n",
       "      <td>1</td>\n",
       "      <td>1</td>\n",
       "      <td>1</td>\n",
       "      <td>1</td>\n",
       "      <td>1</td>\n",
       "    </tr>\n",
       "    <tr>\n",
       "      <td>['8dc4a01dec']</td>\n",
       "      <td>2</td>\n",
       "      <td>2</td>\n",
       "      <td>2</td>\n",
       "      <td>2</td>\n",
       "      <td>2</td>\n",
       "    </tr>\n",
       "    <tr>\n",
       "      <td>nan</td>\n",
       "      <td>3</td>\n",
       "      <td>3</td>\n",
       "      <td>3</td>\n",
       "      <td>0</td>\n",
       "      <td>0</td>\n",
       "    </tr>\n",
       "    <tr>\n",
       "      <td rowspan=\"6\" valign=\"top\">['38d636d2a6' '4b65db43ac' '7f947c0055' '81e57cbc50' '8dc4a01dec']</td>\n",
       "      <td>['38d636d2a6']</td>\n",
       "      <td>2</td>\n",
       "      <td>2</td>\n",
       "      <td>2</td>\n",
       "      <td>2</td>\n",
       "      <td>2</td>\n",
       "    </tr>\n",
       "    <tr>\n",
       "      <td>['7f947c0055']</td>\n",
       "      <td>2</td>\n",
       "      <td>2</td>\n",
       "      <td>2</td>\n",
       "      <td>2</td>\n",
       "      <td>2</td>\n",
       "    </tr>\n",
       "    <tr>\n",
       "      <td>['81e57cbc50', '4b65db43ac']</td>\n",
       "      <td>1</td>\n",
       "      <td>1</td>\n",
       "      <td>1</td>\n",
       "      <td>1</td>\n",
       "      <td>1</td>\n",
       "    </tr>\n",
       "    <tr>\n",
       "      <td>['81e57cbc50']</td>\n",
       "      <td>3</td>\n",
       "      <td>3</td>\n",
       "      <td>3</td>\n",
       "      <td>3</td>\n",
       "      <td>3</td>\n",
       "    </tr>\n",
       "    <tr>\n",
       "      <td>['8dc4a01dec']</td>\n",
       "      <td>1</td>\n",
       "      <td>1</td>\n",
       "      <td>1</td>\n",
       "      <td>1</td>\n",
       "      <td>1</td>\n",
       "    </tr>\n",
       "    <tr>\n",
       "      <td>nan</td>\n",
       "      <td>20</td>\n",
       "      <td>20</td>\n",
       "      <td>20</td>\n",
       "      <td>0</td>\n",
       "      <td>0</td>\n",
       "    </tr>\n",
       "    <tr>\n",
       "      <td>['38d636d2a6' '4b65db43ac' '7f947c0055' '81e57cbc50' '915cd3c4c0']</td>\n",
       "      <td>['81e57cbc50']</td>\n",
       "      <td>1</td>\n",
       "      <td>1</td>\n",
       "      <td>1</td>\n",
       "      <td>1</td>\n",
       "      <td>1</td>\n",
       "    </tr>\n",
       "  </tbody>\n",
       "</table>\n",
       "</div>"
      ],
      "text/plain": [
       "                                                                                 user_ID  \\\n",
       "clickSet                                           purchaseSet                             \n",
       "['38d636d2a6' '4b65db43ac' '589c2b865b' '8dc4a0... ['38d636d2a6']                      7   \n",
       "                                                   ['4b65db43ac']                      3   \n",
       "                                                   ['589c2b865b', '38d636d2a6']        1   \n",
       "                                                   ['589c2b865b', '8dc4a01dec']        1   \n",
       "                                                   ['589c2b865b']                      7   \n",
       "                                                   ['8dc4a01dec']                      8   \n",
       "                                                   nan                                59   \n",
       "['38d636d2a6' '4b65db43ac' '589c2b865b' '915cd3... nan                                 1   \n",
       "['38d636d2a6' '4b65db43ac' '589c2b865b' '915cd3... ['38d636d2a6']                      1   \n",
       "['38d636d2a6' '4b65db43ac' '589c2b865b' 'c56544... nan                                 1   \n",
       "['38d636d2a6' '4b65db43ac' '589c2b865b']           ['38d636d2a6']                      2   \n",
       "                                                   ['4b65db43ac']                      2   \n",
       "                                                   ['589c2b865b']                      2   \n",
       "                                                   nan                                27   \n",
       "['38d636d2a6' '4b65db43ac' '7f947c0055' '81e57c... ['38d636d2a6', '8dc4a01dec']        1   \n",
       "                                                   nan                                 2   \n",
       "['38d636d2a6' '4b65db43ac' '7f947c0055' '81e57c... ['915cd3c4c0']                      1   \n",
       "                                                   nan                                 1   \n",
       "['38d636d2a6' '4b65db43ac' '7f947c0055' '81e57c... ['38d636d2a6']                      1   \n",
       "                                                   ['4b65db43ac']                      2   \n",
       "                                                   ['7f947c0055']                      1   \n",
       "                                                   ['8dc4a01dec']                      2   \n",
       "                                                   nan                                 3   \n",
       "['38d636d2a6' '4b65db43ac' '7f947c0055' '81e57c... ['38d636d2a6']                      2   \n",
       "                                                   ['7f947c0055']                      2   \n",
       "                                                   ['81e57cbc50', '4b65db43ac']        1   \n",
       "                                                   ['81e57cbc50']                      3   \n",
       "                                                   ['8dc4a01dec']                      1   \n",
       "                                                   nan                                20   \n",
       "['38d636d2a6' '4b65db43ac' '7f947c0055' '81e57c... ['81e57cbc50']                      1   \n",
       "\n",
       "                                                                                 clickNum  \\\n",
       "clickSet                                           purchaseSet                              \n",
       "['38d636d2a6' '4b65db43ac' '589c2b865b' '8dc4a0... ['38d636d2a6']                       7   \n",
       "                                                   ['4b65db43ac']                       3   \n",
       "                                                   ['589c2b865b', '38d636d2a6']         1   \n",
       "                                                   ['589c2b865b', '8dc4a01dec']         1   \n",
       "                                                   ['589c2b865b']                       7   \n",
       "                                                   ['8dc4a01dec']                       8   \n",
       "                                                   nan                                 59   \n",
       "['38d636d2a6' '4b65db43ac' '589c2b865b' '915cd3... nan                                  1   \n",
       "['38d636d2a6' '4b65db43ac' '589c2b865b' '915cd3... ['38d636d2a6']                       1   \n",
       "['38d636d2a6' '4b65db43ac' '589c2b865b' 'c56544... nan                                  1   \n",
       "['38d636d2a6' '4b65db43ac' '589c2b865b']           ['38d636d2a6']                       2   \n",
       "                                                   ['4b65db43ac']                       2   \n",
       "                                                   ['589c2b865b']                       2   \n",
       "                                                   nan                                 27   \n",
       "['38d636d2a6' '4b65db43ac' '7f947c0055' '81e57c... ['38d636d2a6', '8dc4a01dec']         1   \n",
       "                                                   nan                                  2   \n",
       "['38d636d2a6' '4b65db43ac' '7f947c0055' '81e57c... ['915cd3c4c0']                       1   \n",
       "                                                   nan                                  1   \n",
       "['38d636d2a6' '4b65db43ac' '7f947c0055' '81e57c... ['38d636d2a6']                       1   \n",
       "                                                   ['4b65db43ac']                       2   \n",
       "                                                   ['7f947c0055']                       1   \n",
       "                                                   ['8dc4a01dec']                       2   \n",
       "                                                   nan                                  3   \n",
       "['38d636d2a6' '4b65db43ac' '7f947c0055' '81e57c... ['38d636d2a6']                       2   \n",
       "                                                   ['7f947c0055']                       2   \n",
       "                                                   ['81e57cbc50', '4b65db43ac']         1   \n",
       "                                                   ['81e57cbc50']                       3   \n",
       "                                                   ['8dc4a01dec']                       1   \n",
       "                                                   nan                                 20   \n",
       "['38d636d2a6' '4b65db43ac' '7f947c0055' '81e57c... ['81e57cbc50']                       1   \n",
       "\n",
       "                                                                                 clickSku  \\\n",
       "clickSet                                           purchaseSet                              \n",
       "['38d636d2a6' '4b65db43ac' '589c2b865b' '8dc4a0... ['38d636d2a6']                       7   \n",
       "                                                   ['4b65db43ac']                       3   \n",
       "                                                   ['589c2b865b', '38d636d2a6']         1   \n",
       "                                                   ['589c2b865b', '8dc4a01dec']         1   \n",
       "                                                   ['589c2b865b']                       7   \n",
       "                                                   ['8dc4a01dec']                       8   \n",
       "                                                   nan                                 59   \n",
       "['38d636d2a6' '4b65db43ac' '589c2b865b' '915cd3... nan                                  1   \n",
       "['38d636d2a6' '4b65db43ac' '589c2b865b' '915cd3... ['38d636d2a6']                       1   \n",
       "['38d636d2a6' '4b65db43ac' '589c2b865b' 'c56544... nan                                  1   \n",
       "['38d636d2a6' '4b65db43ac' '589c2b865b']           ['38d636d2a6']                       2   \n",
       "                                                   ['4b65db43ac']                       2   \n",
       "                                                   ['589c2b865b']                       2   \n",
       "                                                   nan                                 27   \n",
       "['38d636d2a6' '4b65db43ac' '7f947c0055' '81e57c... ['38d636d2a6', '8dc4a01dec']         1   \n",
       "                                                   nan                                  2   \n",
       "['38d636d2a6' '4b65db43ac' '7f947c0055' '81e57c... ['915cd3c4c0']                       1   \n",
       "                                                   nan                                  1   \n",
       "['38d636d2a6' '4b65db43ac' '7f947c0055' '81e57c... ['38d636d2a6']                       1   \n",
       "                                                   ['4b65db43ac']                       2   \n",
       "                                                   ['7f947c0055']                       1   \n",
       "                                                   ['8dc4a01dec']                       2   \n",
       "                                                   nan                                  3   \n",
       "['38d636d2a6' '4b65db43ac' '7f947c0055' '81e57c... ['38d636d2a6']                       2   \n",
       "                                                   ['7f947c0055']                       2   \n",
       "                                                   ['81e57cbc50', '4b65db43ac']         1   \n",
       "                                                   ['81e57cbc50']                       3   \n",
       "                                                   ['8dc4a01dec']                       1   \n",
       "                                                   nan                                 20   \n",
       "['38d636d2a6' '4b65db43ac' '7f947c0055' '81e57c... ['81e57cbc50']                       1   \n",
       "\n",
       "                                                                                 purchaseSku  \\\n",
       "clickSet                                           purchaseSet                                 \n",
       "['38d636d2a6' '4b65db43ac' '589c2b865b' '8dc4a0... ['38d636d2a6']                          7   \n",
       "                                                   ['4b65db43ac']                          3   \n",
       "                                                   ['589c2b865b', '38d636d2a6']            1   \n",
       "                                                   ['589c2b865b', '8dc4a01dec']            1   \n",
       "                                                   ['589c2b865b']                          7   \n",
       "                                                   ['8dc4a01dec']                          8   \n",
       "                                                   nan                                     0   \n",
       "['38d636d2a6' '4b65db43ac' '589c2b865b' '915cd3... nan                                     0   \n",
       "['38d636d2a6' '4b65db43ac' '589c2b865b' '915cd3... ['38d636d2a6']                          1   \n",
       "['38d636d2a6' '4b65db43ac' '589c2b865b' 'c56544... nan                                     0   \n",
       "['38d636d2a6' '4b65db43ac' '589c2b865b']           ['38d636d2a6']                          2   \n",
       "                                                   ['4b65db43ac']                          2   \n",
       "                                                   ['589c2b865b']                          2   \n",
       "                                                   nan                                     0   \n",
       "['38d636d2a6' '4b65db43ac' '7f947c0055' '81e57c... ['38d636d2a6', '8dc4a01dec']            1   \n",
       "                                                   nan                                     0   \n",
       "['38d636d2a6' '4b65db43ac' '7f947c0055' '81e57c... ['915cd3c4c0']                          1   \n",
       "                                                   nan                                     0   \n",
       "['38d636d2a6' '4b65db43ac' '7f947c0055' '81e57c... ['38d636d2a6']                          1   \n",
       "                                                   ['4b65db43ac']                          2   \n",
       "                                                   ['7f947c0055']                          1   \n",
       "                                                   ['8dc4a01dec']                          2   \n",
       "                                                   nan                                     0   \n",
       "['38d636d2a6' '4b65db43ac' '7f947c0055' '81e57c... ['38d636d2a6']                          2   \n",
       "                                                   ['7f947c0055']                          2   \n",
       "                                                   ['81e57cbc50', '4b65db43ac']            1   \n",
       "                                                   ['81e57cbc50']                          3   \n",
       "                                                   ['8dc4a01dec']                          1   \n",
       "                                                   nan                                     0   \n",
       "['38d636d2a6' '4b65db43ac' '7f947c0055' '81e57c... ['81e57cbc50']                          1   \n",
       "\n",
       "                                                                                 purchaseNum  \n",
       "clickSet                                           purchaseSet                                \n",
       "['38d636d2a6' '4b65db43ac' '589c2b865b' '8dc4a0... ['38d636d2a6']                          7  \n",
       "                                                   ['4b65db43ac']                          3  \n",
       "                                                   ['589c2b865b', '38d636d2a6']            1  \n",
       "                                                   ['589c2b865b', '8dc4a01dec']            1  \n",
       "                                                   ['589c2b865b']                          7  \n",
       "                                                   ['8dc4a01dec']                          8  \n",
       "                                                   nan                                     0  \n",
       "['38d636d2a6' '4b65db43ac' '589c2b865b' '915cd3... nan                                     0  \n",
       "['38d636d2a6' '4b65db43ac' '589c2b865b' '915cd3... ['38d636d2a6']                          1  \n",
       "['38d636d2a6' '4b65db43ac' '589c2b865b' 'c56544... nan                                     0  \n",
       "['38d636d2a6' '4b65db43ac' '589c2b865b']           ['38d636d2a6']                          2  \n",
       "                                                   ['4b65db43ac']                          2  \n",
       "                                                   ['589c2b865b']                          2  \n",
       "                                                   nan                                     0  \n",
       "['38d636d2a6' '4b65db43ac' '7f947c0055' '81e57c... ['38d636d2a6', '8dc4a01dec']            1  \n",
       "                                                   nan                                     0  \n",
       "['38d636d2a6' '4b65db43ac' '7f947c0055' '81e57c... ['915cd3c4c0']                          1  \n",
       "                                                   nan                                     0  \n",
       "['38d636d2a6' '4b65db43ac' '7f947c0055' '81e57c... ['38d636d2a6']                          1  \n",
       "                                                   ['4b65db43ac']                          2  \n",
       "                                                   ['7f947c0055']                          1  \n",
       "                                                   ['8dc4a01dec']                          2  \n",
       "                                                   nan                                     0  \n",
       "['38d636d2a6' '4b65db43ac' '7f947c0055' '81e57c... ['38d636d2a6']                          2  \n",
       "                                                   ['7f947c0055']                          2  \n",
       "                                                   ['81e57cbc50', '4b65db43ac']            1  \n",
       "                                                   ['81e57cbc50']                          3  \n",
       "                                                   ['8dc4a01dec']                          1  \n",
       "                                                   nan                                     0  \n",
       "['38d636d2a6' '4b65db43ac' '7f947c0055' '81e57c... ['81e57cbc50']                          1  "
      ]
     },
     "execution_count": 344,
     "metadata": {},
     "output_type": "execute_result"
    }
   ],
   "source": [
    "combination[100:130]"
   ]
  },
  {
   "cell_type": "code",
   "execution_count": null,
   "metadata": {
    "collapsed": true
   },
   "outputs": [],
   "source": []
  },
  {
   "cell_type": "code",
   "execution_count": null,
   "metadata": {
    "collapsed": true
   },
   "outputs": [],
   "source": []
  },
  {
   "cell_type": "code",
   "execution_count": null,
   "metadata": {
    "collapsed": true
   },
   "outputs": [],
   "source": []
  }
 ],
 "metadata": {
  "kernelspec": {
   "display_name": "Python 3",
   "language": "python",
   "name": "python3"
  },
  "language_info": {
   "codemirror_mode": {
    "name": "ipython",
    "version": 3
   },
   "file_extension": ".py",
   "mimetype": "text/x-python",
   "name": "python",
   "nbconvert_exporter": "python",
   "pygments_lexer": "ipython3",
   "version": "3.6.3"
  },
  "nbTranslate": {
   "displayLangs": [
    "*"
   ],
   "hotkey": "alt-t",
   "langInMainMenu": true,
   "sourceLang": "en",
   "targetLang": "fr",
   "useGoogleTranslate": true
  },
  "toc": {
   "nav_menu": {},
   "number_sections": true,
   "sideBar": true,
   "skip_h1_title": false,
   "toc_cell": false,
   "toc_position": {},
   "toc_section_display": "block",
   "toc_window_display": false
  }
 },
 "nbformat": 4,
 "nbformat_minor": 2
}
