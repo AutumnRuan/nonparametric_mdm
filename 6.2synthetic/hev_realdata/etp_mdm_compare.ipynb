{
 "cells": [
  {
   "cell_type": "code",
   "execution_count": 1,
   "metadata": {},
   "outputs": [],
   "source": [
    "import pandas as pd\n",
    "import numpy as np"
   ]
  },
  {
   "cell_type": "code",
   "execution_count": 2,
   "metadata": {},
   "outputs": [],
   "source": [
    "offertime_lst = [20,30,40,50,60]\n",
    "instance_size = 50\n",
    "test_size = [5,4,3,3,2]"
   ]
  },
  {
   "cell_type": "code",
   "execution_count": 5,
   "metadata": {},
   "outputs": [
    {
     "name": "stdout",
     "output_type": "stream",
     "text": [
      "robust revenue difference is too large for instance 0 2 at assortment 2\n",
      "the revenue by lp is 0.4733897435897434 and by milp is 0.3334754256824608\n"
     ]
    }
   ],
   "source": [
    "for i in range(len(offertime_lst)):\n",
    "    for j in range(instance_size):\n",
    "        df_rev_lp = pd.read_csv('prediction/etp_mdm/revenue_prediction/details2/revenue/offertimes'+str(offertime_lst[i])+'/rev_'+str(offertime_lst[i])+'_'+str(j)+'.csv')\n",
    "        df_rev_milp = pd.read_csv('prediction/etp_mdm1/revenue_prediction/details2/revenue/offertimes'+str(offertime_lst[i])+'/rev_'+str(offertime_lst[i])+'_'+str(j)+'.csv')\n",
    "        \n",
    "        lb_rev_lp = df_rev_lp['lb_rev'].tolist()\n",
    "        lb_rev_milp = df_rev_milp['lb_rev'].tolist()\n",
    "        \n",
    "        ub_rev_lp = df_rev_lp['ub_rev'].tolist()\n",
    "        ub_rev_milp = df_rev_milp['ub_rev'].tolist()\n",
    "        \n",
    "        for k in range(len(lb_rev_lp)):\n",
    "            if np.abs(lb_rev_lp[k] - lb_rev_milp[k])>0.1:\n",
    "                print(f'robust revenue difference is too large for instance {i} {j} at assortment {k}')\n",
    "                print(f'the revenue by lp is {lb_rev_lp[k]} and by milp is {lb_rev_milp[k]}')\n",
    "                \n",
    "            if np.abs(ub_rev_lp[k] - ub_rev_milp[k])>0.1:\n",
    "                print(f'robust revenue difference is too large for instance {i} {j} at assortment {k}')\n",
    "                print(f'the revenue by lp is {ub_rev_lp[k]} and by milp is {ub_rev_milp[k]}')\n",
    "        "
   ]
  }
 ],
 "metadata": {
  "kernelspec": {
   "display_name": "base",
   "language": "python",
   "name": "python3"
  },
  "language_info": {
   "codemirror_mode": {
    "name": "ipython",
    "version": 3
   },
   "file_extension": ".py",
   "mimetype": "text/x-python",
   "name": "python",
   "nbconvert_exporter": "python",
   "pygments_lexer": "ipython3",
   "version": "3.8.5"
  }
 },
 "nbformat": 4,
 "nbformat_minor": 2
}
